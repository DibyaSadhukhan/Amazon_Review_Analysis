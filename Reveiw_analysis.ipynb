{
  "nbformat": 4,
  "nbformat_minor": 0,
  "metadata": {
    "colab": {
      "name": "Reveiw_analysis.ipynb",
      "provenance": [],
      "collapsed_sections": [
        "RHL-71PBc3Nh"
      ],
      "authorship_tag": "ABX9TyPoDY+61zdPhWg75148lVjf",
      "include_colab_link": true
    },
    "kernelspec": {
      "name": "python3",
      "display_name": "Python 3"
    },
    "language_info": {
      "name": "python"
    }
  },
  "cells": [
    {
      "cell_type": "markdown",
      "metadata": {
        "id": "view-in-github",
        "colab_type": "text"
      },
      "source": [
        "<a href=\"https://colab.research.google.com/github/DibyaSadhukhan/Amazon_Review_Analysis/blob/main/Reveiw_analysis.ipynb\" target=\"_parent\"><img src=\"https://colab.research.google.com/assets/colab-badge.svg\" alt=\"Open In Colab\"/></a>"
      ]
    },
    {
      "cell_type": "code",
      "metadata": {
        "colab": {
          "base_uri": "https://localhost:8080/"
        },
        "id": "lSPYoXpieNXw",
        "outputId": "d6a7dc3a-9c8b-42c8-e274-201edb07c8ab"
      },
      "source": [
        "!python -m spacy download en_core_web_lg"
      ],
      "execution_count": null,
      "outputs": [
        {
          "output_type": "stream",
          "name": "stdout",
          "text": [
            "Collecting en_core_web_lg==2.2.5\n",
            "  Downloading https://github.com/explosion/spacy-models/releases/download/en_core_web_lg-2.2.5/en_core_web_lg-2.2.5.tar.gz (827.9 MB)\n",
            "\u001b[K     |████████████████████████████████| 827.9 MB 1.2 MB/s \n",
            "\u001b[?25hRequirement already satisfied: spacy>=2.2.2 in /usr/local/lib/python3.7/dist-packages (from en_core_web_lg==2.2.5) (2.2.4)\n",
            "Requirement already satisfied: wasabi<1.1.0,>=0.4.0 in /usr/local/lib/python3.7/dist-packages (from spacy>=2.2.2->en_core_web_lg==2.2.5) (0.8.2)\n",
            "Requirement already satisfied: numpy>=1.15.0 in /usr/local/lib/python3.7/dist-packages (from spacy>=2.2.2->en_core_web_lg==2.2.5) (1.19.5)\n",
            "Requirement already satisfied: cymem<2.1.0,>=2.0.2 in /usr/local/lib/python3.7/dist-packages (from spacy>=2.2.2->en_core_web_lg==2.2.5) (2.0.5)\n",
            "Requirement already satisfied: srsly<1.1.0,>=1.0.2 in /usr/local/lib/python3.7/dist-packages (from spacy>=2.2.2->en_core_web_lg==2.2.5) (1.0.5)\n",
            "Requirement already satisfied: tqdm<5.0.0,>=4.38.0 in /usr/local/lib/python3.7/dist-packages (from spacy>=2.2.2->en_core_web_lg==2.2.5) (4.62.3)\n",
            "Requirement already satisfied: blis<0.5.0,>=0.4.0 in /usr/local/lib/python3.7/dist-packages (from spacy>=2.2.2->en_core_web_lg==2.2.5) (0.4.1)\n",
            "Requirement already satisfied: preshed<3.1.0,>=3.0.2 in /usr/local/lib/python3.7/dist-packages (from spacy>=2.2.2->en_core_web_lg==2.2.5) (3.0.5)\n",
            "Requirement already satisfied: plac<1.2.0,>=0.9.6 in /usr/local/lib/python3.7/dist-packages (from spacy>=2.2.2->en_core_web_lg==2.2.5) (1.1.3)\n",
            "Requirement already satisfied: requests<3.0.0,>=2.13.0 in /usr/local/lib/python3.7/dist-packages (from spacy>=2.2.2->en_core_web_lg==2.2.5) (2.23.0)\n",
            "Requirement already satisfied: catalogue<1.1.0,>=0.0.7 in /usr/local/lib/python3.7/dist-packages (from spacy>=2.2.2->en_core_web_lg==2.2.5) (1.0.0)\n",
            "Requirement already satisfied: setuptools in /usr/local/lib/python3.7/dist-packages (from spacy>=2.2.2->en_core_web_lg==2.2.5) (57.4.0)\n",
            "Requirement already satisfied: murmurhash<1.1.0,>=0.28.0 in /usr/local/lib/python3.7/dist-packages (from spacy>=2.2.2->en_core_web_lg==2.2.5) (1.0.5)\n",
            "Requirement already satisfied: thinc==7.4.0 in /usr/local/lib/python3.7/dist-packages (from spacy>=2.2.2->en_core_web_lg==2.2.5) (7.4.0)\n",
            "Requirement already satisfied: importlib-metadata>=0.20 in /usr/local/lib/python3.7/dist-packages (from catalogue<1.1.0,>=0.0.7->spacy>=2.2.2->en_core_web_lg==2.2.5) (4.8.1)\n",
            "Requirement already satisfied: zipp>=0.5 in /usr/local/lib/python3.7/dist-packages (from importlib-metadata>=0.20->catalogue<1.1.0,>=0.0.7->spacy>=2.2.2->en_core_web_lg==2.2.5) (3.6.0)\n",
            "Requirement already satisfied: typing-extensions>=3.6.4 in /usr/local/lib/python3.7/dist-packages (from importlib-metadata>=0.20->catalogue<1.1.0,>=0.0.7->spacy>=2.2.2->en_core_web_lg==2.2.5) (3.7.4.3)\n",
            "Requirement already satisfied: certifi>=2017.4.17 in /usr/local/lib/python3.7/dist-packages (from requests<3.0.0,>=2.13.0->spacy>=2.2.2->en_core_web_lg==2.2.5) (2021.5.30)\n",
            "Requirement already satisfied: idna<3,>=2.5 in /usr/local/lib/python3.7/dist-packages (from requests<3.0.0,>=2.13.0->spacy>=2.2.2->en_core_web_lg==2.2.5) (2.10)\n",
            "Requirement already satisfied: chardet<4,>=3.0.2 in /usr/local/lib/python3.7/dist-packages (from requests<3.0.0,>=2.13.0->spacy>=2.2.2->en_core_web_lg==2.2.5) (3.0.4)\n",
            "Requirement already satisfied: urllib3!=1.25.0,!=1.25.1,<1.26,>=1.21.1 in /usr/local/lib/python3.7/dist-packages (from requests<3.0.0,>=2.13.0->spacy>=2.2.2->en_core_web_lg==2.2.5) (1.24.3)\n",
            "Building wheels for collected packages: en-core-web-lg\n",
            "  Building wheel for en-core-web-lg (setup.py) ... \u001b[?25l\u001b[?25hdone\n",
            "  Created wheel for en-core-web-lg: filename=en_core_web_lg-2.2.5-py3-none-any.whl size=829180942 sha256=f002b35a795bfcbe2a593e31f8f1e722099c35b186ce624ec39d09b45fd04700\n",
            "  Stored in directory: /tmp/pip-ephem-wheel-cache-b8e4qhjl/wheels/11/95/ba/2c36cc368c0bd339b44a791c2c1881a1fb714b78c29a4cb8f5\n",
            "Successfully built en-core-web-lg\n",
            "Installing collected packages: en-core-web-lg\n",
            "Successfully installed en-core-web-lg-2.2.5\n",
            "\u001b[38;5;2m✔ Download and installation successful\u001b[0m\n",
            "You can now load the model via spacy.load('en_core_web_lg')\n"
          ]
        }
      ]
    },
    {
      "cell_type": "code",
      "metadata": {
        "colab": {
          "base_uri": "https://localhost:8080/"
        },
        "id": "KzCF6cKzce52",
        "outputId": "0d518a8c-bbe4-4a65-d2d9-8c64339b5a28"
      },
      "source": [
        "#mounting the google drive\n",
        "from google.colab import drive\n",
        "drive.mount('/content/gdrive')"
      ],
      "execution_count": null,
      "outputs": [
        {
          "output_type": "stream",
          "name": "stdout",
          "text": [
            "Mounted at /content/gdrive\n"
          ]
        }
      ]
    },
    {
      "cell_type": "markdown",
      "metadata": {
        "id": "RHL-71PBc3Nh"
      },
      "source": [
        "# Master Reveiw Datarame"
      ]
    },
    {
      "cell_type": "code",
      "metadata": {
        "id": "etQsrqdKc0vN"
      },
      "source": [
        "import pandas as pd\n",
        "import numpy as np\n",
        "import regex as re\n",
        "\n",
        "#df.head()"
      ],
      "execution_count": null,
      "outputs": []
    },
    {
      "cell_type": "code",
      "metadata": {
        "colab": {
          "base_uri": "https://localhost:8080/",
          "height": 593
        },
        "id": "H2gHKYOvakcQ",
        "outputId": "3312b12a-0f63-4327-98e4-183eca3b2676"
      },
      "source": [
        "df = pd.read_csv('/content/gdrive/MyDrive/Laptop_Reveiw/Data/Master_reveiw_2021-10-09.csv')\n",
        "df=df.drop(df.columns[0], axis=1)\n",
        "df=df.drop_duplicates(subset=['Product_code','number of reveiws'], keep='first')\n",
        "df = df[df['Reveiw Link'].notna()]\n",
        "print(len(df))\n",
        "df.head()"
      ],
      "execution_count": null,
      "outputs": [
        {
          "output_type": "stream",
          "name": "stdout",
          "text": [
            "194\n"
          ]
        },
        {
          "output_type": "execute_result",
          "data": {
            "text/html": [
              "<div>\n",
              "<style scoped>\n",
              "    .dataframe tbody tr th:only-of-type {\n",
              "        vertical-align: middle;\n",
              "    }\n",
              "\n",
              "    .dataframe tbody tr th {\n",
              "        vertical-align: top;\n",
              "    }\n",
              "\n",
              "    .dataframe thead th {\n",
              "        text-align: right;\n",
              "    }\n",
              "</style>\n",
              "<table border=\"1\" class=\"dataframe\">\n",
              "  <thead>\n",
              "    <tr style=\"text-align: right;\">\n",
              "      <th></th>\n",
              "      <th>Product_code</th>\n",
              "      <th>Product_name</th>\n",
              "      <th>Rating</th>\n",
              "      <th>number of reveiws</th>\n",
              "      <th>Price</th>\n",
              "      <th>Images</th>\n",
              "      <th>Link</th>\n",
              "      <th>Reveiw File</th>\n",
              "      <th>Reveiw Link</th>\n",
              "    </tr>\n",
              "  </thead>\n",
              "  <tbody>\n",
              "    <tr>\n",
              "      <th>0</th>\n",
              "      <td>B097RKZYGS</td>\n",
              "      <td>ASUS VivoBook 14 (2020), 14-inch (35.56 cms) F...</td>\n",
              "      <td>3.9 out of 5 stars</td>\n",
              "      <td>156</td>\n",
              "      <td>₹31,990</td>\n",
              "      <td>https://m.media-amazon.com/images/I/716bvqzz7P...</td>\n",
              "      <td>https://www.amazon.in/ASUS-VivoBook-Integrated...</td>\n",
              "      <td>/content/gdrive/MyDrive/Amazon_product_Reveiws...</td>\n",
              "      <td>https://www.amazon.in/ASUS-VivoBook-Business-I...</td>\n",
              "    </tr>\n",
              "    <tr>\n",
              "      <th>1</th>\n",
              "      <td>B08C5W6PL2</td>\n",
              "      <td>HP Chromebook 14-inch (35.56 cms) Thin &amp; Light...</td>\n",
              "      <td>3.9 out of 5 stars</td>\n",
              "      <td>766</td>\n",
              "      <td>₹25,999</td>\n",
              "      <td>https://m.media-amazon.com/images/I/613WULNEr1...</td>\n",
              "      <td>https://www.amazon.in/HP-Chromebook-14a-na0003...</td>\n",
              "      <td>/content/gdrive/MyDrive/Amazon_product_Reveiws...</td>\n",
              "      <td>https://www.amazon.in/HP-Chromebook-14a-na0003...</td>\n",
              "    </tr>\n",
              "    <tr>\n",
              "      <th>2</th>\n",
              "      <td>B08HJYFZ14</td>\n",
              "      <td>HP 15 AMD Athlon 15.6\" (39.62cms) HD Laptop (S...</td>\n",
              "      <td>3.5 out of 5 stars</td>\n",
              "      <td>483</td>\n",
              "      <td>₹25,999</td>\n",
              "      <td>https://m.media-amazon.com/images/I/61bkuSlKF4...</td>\n",
              "      <td>https://www.amazon.in/HP-Athlon-15-6-inch-Silv...</td>\n",
              "      <td>/content/gdrive/MyDrive/Amazon_product_Reveiws...</td>\n",
              "      <td>https://www.amazon.in/HP-Athlon-15-6-inch-Silv...</td>\n",
              "    </tr>\n",
              "    <tr>\n",
              "      <th>3</th>\n",
              "      <td>B08HJZHTM1</td>\n",
              "      <td>HP 15 Intel Pentium Gold 6405U Processor Entry...</td>\n",
              "      <td>3.4 out of 5 stars</td>\n",
              "      <td>843</td>\n",
              "      <td>₹25,999</td>\n",
              "      <td>https://m.media-amazon.com/images/I/71FB8qoB78...</td>\n",
              "      <td>https://www.amazon.in/HP-Pentium-Processor-15-...</td>\n",
              "      <td>/content/gdrive/MyDrive/Amazon_product_Reveiws...</td>\n",
              "      <td>https://www.amazon.in/HP-Pentium-Processor-15-...</td>\n",
              "    </tr>\n",
              "    <tr>\n",
              "      <th>4</th>\n",
              "      <td>B0924PSV78</td>\n",
              "      <td>RDP ThinBook 1010 - Intel Celeron Quad Core Pr...</td>\n",
              "      <td>3.4 out of 5 stars</td>\n",
              "      <td>258</td>\n",
              "      <td>₹19,990</td>\n",
              "      <td>https://m.media-amazon.com/images/I/51C6EHkMQp...</td>\n",
              "      <td>https://www.amazon.in/RDP-ThinBook-1010-Celero...</td>\n",
              "      <td>/content/gdrive/MyDrive/Amazon_product_Reveiws...</td>\n",
              "      <td>https://www.amazon.in/RDP-ThinBook-1010-Celero...</td>\n",
              "    </tr>\n",
              "  </tbody>\n",
              "</table>\n",
              "</div>"
            ],
            "text/plain": [
              "  Product_code  ...                                        Reveiw Link\n",
              "0   B097RKZYGS  ...  https://www.amazon.in/ASUS-VivoBook-Business-I...\n",
              "1   B08C5W6PL2  ...  https://www.amazon.in/HP-Chromebook-14a-na0003...\n",
              "2   B08HJYFZ14  ...  https://www.amazon.in/HP-Athlon-15-6-inch-Silv...\n",
              "3   B08HJZHTM1  ...  https://www.amazon.in/HP-Pentium-Processor-15-...\n",
              "4   B0924PSV78  ...  https://www.amazon.in/RDP-ThinBook-1010-Celero...\n",
              "\n",
              "[5 rows x 9 columns]"
            ]
          },
          "metadata": {},
          "execution_count": 3
        }
      ]
    },
    {
      "cell_type": "code",
      "metadata": {
        "id": "HH9Ssie9RnbI",
        "colab": {
          "base_uri": "https://localhost:8080/",
          "height": 1000
        },
        "outputId": "96e89402-58f9-4da9-ed1a-bcba02aae471"
      },
      "source": [
        "#reveiws = pd.DataFrame(columns=['Customer Name','Rating','Reveiw Title','Reveiw Text'])\n",
        "reviews = pd.DataFrame(columns=['Product_code','Product_name','Customer_name','rating','review_title','review_text'])\n",
        "review_file=[]\n",
        "for i in range(len(df)):\n",
        "  review_file.append(df.iat[i,-1])\n",
        "#print(reveiw_link)\n",
        "for link in review_file:\n",
        "  try:\n",
        "    filename=link.split('/')[3]\n",
        "    f = open('/content/gdrive/MyDrive/Amazon_product_Reveiws/'+filename+'.txt',\"r\")\n",
        "    a=f.read().split('||')\n",
        "    for rev in a:\n",
        "      name=rev.split('\\',')[0]\n",
        "      try:\n",
        "        rating=rev.split('\\',')[1]\n",
        "      except:\n",
        "        rating=\"\"\n",
        "      try:\n",
        "        reveiwTitle=rev.split('\\',')[-2]\n",
        "      except:\n",
        "        reveiwTitle=\"\"\n",
        "      comment=rev.split('\\',')[-1]\n",
        "      reviews = reviews.append({'Product_code' : link.split('/')[5] , 'Product_name' : link.split('/')[3] , 'Customer_name' : name.split('\\'')[-1] , 'rating' : rating[2:], 'review_title' : reveiwTitle[2:], 'review_text': comment[2:-2] }, ignore_index = True)\n",
        "    f.close()\n",
        "  except:\n",
        "    #print(link)\n",
        "    print()\n",
        "reviews.head()"
      ],
      "execution_count": null,
      "outputs": [
        {
          "output_type": "stream",
          "name": "stdout",
          "text": [
            "\n",
            "\n",
            "\n",
            "\n",
            "\n",
            "\n",
            "\n",
            "\n",
            "\n",
            "\n",
            "\n",
            "\n",
            "\n",
            "\n",
            "\n",
            "\n",
            "\n",
            "\n",
            "\n",
            "\n",
            "\n",
            "\n",
            "\n",
            "\n",
            "\n",
            "\n",
            "\n",
            "\n",
            "\n",
            "\n",
            "\n",
            "\n",
            "\n",
            "\n",
            "\n",
            "\n",
            "\n",
            "\n",
            "\n",
            "\n",
            "\n",
            "\n",
            "\n",
            "\n",
            "\n",
            "\n",
            "\n",
            "\n",
            "\n",
            "\n",
            "\n",
            "\n",
            "\n",
            "\n",
            "\n",
            "\n",
            "\n",
            "\n",
            "\n",
            "\n",
            "\n",
            "\n",
            "\n",
            "\n",
            "\n",
            "\n"
          ]
        },
        {
          "output_type": "execute_result",
          "data": {
            "text/html": [
              "<div>\n",
              "<style scoped>\n",
              "    .dataframe tbody tr th:only-of-type {\n",
              "        vertical-align: middle;\n",
              "    }\n",
              "\n",
              "    .dataframe tbody tr th {\n",
              "        vertical-align: top;\n",
              "    }\n",
              "\n",
              "    .dataframe thead th {\n",
              "        text-align: right;\n",
              "    }\n",
              "</style>\n",
              "<table border=\"1\" class=\"dataframe\">\n",
              "  <thead>\n",
              "    <tr style=\"text-align: right;\">\n",
              "      <th></th>\n",
              "      <th>Product_code</th>\n",
              "      <th>Product_name</th>\n",
              "      <th>Customer_name</th>\n",
              "      <th>rating</th>\n",
              "      <th>review_title</th>\n",
              "      <th>review_text</th>\n",
              "    </tr>\n",
              "  </thead>\n",
              "  <tbody>\n",
              "    <tr>\n",
              "      <th>0</th>\n",
              "      <td>B097RKZYGS</td>\n",
              "      <td>ASUS-VivoBook-Business-Integrated-M415DA-EB301T</td>\n",
              "      <td>Aubrey Khoza</td>\n",
              "      <td>2.0 out of 5 stars</td>\n",
              "      <td>The computer keeps on freezing when busy using...</td>\n",
              "      <td>The Laptop keeps on freezing whenever your usi...</td>\n",
              "    </tr>\n",
              "    <tr>\n",
              "      <th>1</th>\n",
              "      <td>B097RKZYGS</td>\n",
              "      <td>ASUS-VivoBook-Business-Integrated-M415DA-EB301T</td>\n",
              "      <td>Keshaw</td>\n",
              "      <td>5.0 out of 5 stars</td>\n",
              "      <td>I am loving it</td>\n",
              "      <td>Updated : 30 April 2021Still working the same ...</td>\n",
              "    </tr>\n",
              "    <tr>\n",
              "      <th>2</th>\n",
              "      <td>B097RKZYGS</td>\n",
              "      <td>ASUS-VivoBook-Business-Integrated-M415DA-EB301T</td>\n",
              "      <td>Steve smith</td>\n",
              "      <td>4.0 out of 5 stars</td>\n",
              "      <td>Just an average device, should be fine for dai...</td>\n",
              "      <td>Don't expect anything magical at this price po...</td>\n",
              "    </tr>\n",
              "    <tr>\n",
              "      <th>3</th>\n",
              "      <td>B097RKZYGS</td>\n",
              "      <td>ASUS-VivoBook-Business-Integrated-M415DA-EB301T</td>\n",
              "      <td>Ayush Sengupta</td>\n",
              "      <td>4.0 out of 5 stars</td>\n",
              "      <td>Display Issue!</td>\n",
              "      <td>I dont know whether my device is faulty or not...</td>\n",
              "    </tr>\n",
              "    <tr>\n",
              "      <th>4</th>\n",
              "      <td>B097RKZYGS</td>\n",
              "      <td>ASUS-VivoBook-Business-Integrated-M415DA-EB301T</td>\n",
              "      <td>Thunderbird</td>\n",
              "      <td>4.0 out of 5 stars</td>\n",
              "      <td>Great laptop with just a couple of misses</td>\n",
              "      <td>Laptop is good for home use.  SSD, as expected...</td>\n",
              "    </tr>\n",
              "  </tbody>\n",
              "</table>\n",
              "</div>"
            ],
            "text/plain": [
              "  Product_code  ...                                        review_text\n",
              "0   B097RKZYGS  ...  The Laptop keeps on freezing whenever your usi...\n",
              "1   B097RKZYGS  ...  Updated : 30 April 2021Still working the same ...\n",
              "2   B097RKZYGS  ...  Don't expect anything magical at this price po...\n",
              "3   B097RKZYGS  ...  I dont know whether my device is faulty or not...\n",
              "4   B097RKZYGS  ...  Laptop is good for home use.  SSD, as expected...\n",
              "\n",
              "[5 rows x 6 columns]"
            ]
          },
          "metadata": {},
          "execution_count": 4
        }
      ]
    },
    {
      "cell_type": "code",
      "metadata": {
        "colab": {
          "base_uri": "https://localhost:8080/"
        },
        "id": "5_dnN3_6oQQP",
        "outputId": "4a418aa6-923b-4f2b-e395-2d4eb44eefc7"
      },
      "source": [
        "#reviews['review_text'].replace('', np.nan, inplace=True)\n",
        "#reviews = reviews[reviews['review_text'].notna()]\n",
        "print(len(reviews))\n",
        "reviews.to_csv('/content/gdrive/MyDrive/Laptop_Reveiw/Data/Reviews.csv')"
      ],
      "execution_count": null,
      "outputs": [
        {
          "output_type": "stream",
          "name": "stdout",
          "text": [
            "12783\n"
          ]
        }
      ]
    },
    {
      "cell_type": "markdown",
      "metadata": {
        "id": "6_jhT835EU2N"
      },
      "source": [
        "#review analysis"
      ]
    },
    {
      "cell_type": "code",
      "metadata": {
        "colab": {
          "base_uri": "https://localhost:8080/"
        },
        "id": "z88QxKQ_Jcbp",
        "outputId": "364390de-b30c-4e44-f226-1877f39c0f75"
      },
      "source": [
        "import pandas as pd\n",
        "import regex as re\n",
        "import nltk\n",
        "import numpy as np\n",
        "nltk.download('wordnet')\n",
        "from textblob import TextBlob\n",
        "import spacy"
      ],
      "execution_count": null,
      "outputs": [
        {
          "output_type": "stream",
          "name": "stdout",
          "text": [
            "[nltk_data] Downloading package wordnet to /root/nltk_data...\n",
            "[nltk_data]   Unzipping corpora/wordnet.zip.\n"
          ]
        }
      ]
    },
    {
      "cell_type": "code",
      "metadata": {
        "colab": {
          "base_uri": "https://localhost:8080/"
        },
        "id": "95YpsU5QEH1v",
        "outputId": "861ae8e6-8ffb-42ad-e2ec-3acc684fc45a"
      },
      "source": [
        "df = pd.read_csv('/content/gdrive/MyDrive/Laptop_Reveiw/Data/Reviews.csv')\n",
        "df=df.drop(df.columns[0], axis=1)\n",
        "#dropping reveiws without any reveiw text \n",
        "#print(len(df))\n",
        "df = df[df['review_text'].notna()]\n",
        "#print(len(df))\n",
        "print(df.isnull().sum())\n",
        "#df.head()"
      ],
      "execution_count": null,
      "outputs": [
        {
          "output_type": "stream",
          "name": "stdout",
          "text": [
            "Product_code     0\n",
            "Product_name     0\n",
            "Customer_name    0\n",
            "rating           0\n",
            "review_title     1\n",
            "review_text      0\n",
            "dtype: int64\n"
          ]
        }
      ]
    },
    {
      "cell_type": "code",
      "metadata": {
        "id": "imRCn6_oFJQz"
      },
      "source": [
        "def format_text(revs):\n",
        "  Non_alpha=re.compile(r'[\\W]')# removing non word characters\n",
        "  Non_Ascii=re.compile(r'[^a-z0-1\\s]')#removing non ascii\n",
        "  formatted=\"\"\n",
        "  for rev in revs.split('\\n'):\n",
        "    rev=rev.lower()\n",
        "    rev_noPun=Non_alpha.sub(r' ',rev)\n",
        "    rev=Non_Ascii.sub(r' ',rev_noPun)\n",
        "    formatted+=rev\n",
        "  return formatted"
      ],
      "execution_count": null,
      "outputs": []
    },
    {
      "cell_type": "code",
      "metadata": {
        "colab": {
          "base_uri": "https://localhost:8080/",
          "height": 287
        },
        "id": "rcKUbWOzq1_Y",
        "outputId": "01366194-055c-47a0-b47c-f3ba88c5275a"
      },
      "source": [
        "#EDA\n",
        "df=df.reset_index()\n",
        "df=df.drop(df.columns[0], axis=1)\n",
        "df=df.drop(df.loc[df['rating']=='Good but could have a better option for external memory'].index,axis=0)\n",
        "df['rating']=df['rating'].astype('string')\n",
        "#print(df['rating'].value_counts())\n",
        "df['rating']=df['rating'].apply(lambda x : float(x.split(' ')[0]))\n",
        "df['review_text']=df['review_text'].astype(str)\n",
        "#df['rating']=df['rating'].apply(lambda x : float(x.split(' ')[0]))\n",
        "#df['rating']=df['rating'].astype(str)\n",
        "df.head()"
      ],
      "execution_count": null,
      "outputs": [
        {
          "output_type": "execute_result",
          "data": {
            "text/html": [
              "<div>\n",
              "<style scoped>\n",
              "    .dataframe tbody tr th:only-of-type {\n",
              "        vertical-align: middle;\n",
              "    }\n",
              "\n",
              "    .dataframe tbody tr th {\n",
              "        vertical-align: top;\n",
              "    }\n",
              "\n",
              "    .dataframe thead th {\n",
              "        text-align: right;\n",
              "    }\n",
              "</style>\n",
              "<table border=\"1\" class=\"dataframe\">\n",
              "  <thead>\n",
              "    <tr style=\"text-align: right;\">\n",
              "      <th></th>\n",
              "      <th>Product_code</th>\n",
              "      <th>Product_name</th>\n",
              "      <th>Customer_name</th>\n",
              "      <th>rating</th>\n",
              "      <th>review_title</th>\n",
              "      <th>review_text</th>\n",
              "    </tr>\n",
              "  </thead>\n",
              "  <tbody>\n",
              "    <tr>\n",
              "      <th>0</th>\n",
              "      <td>B097RKZYGS</td>\n",
              "      <td>ASUS-VivoBook-Business-Integrated-M415DA-EB301T</td>\n",
              "      <td>Aubrey Khoza</td>\n",
              "      <td>2.0</td>\n",
              "      <td>The computer keeps on freezing when busy using...</td>\n",
              "      <td>The Laptop keeps on freezing whenever your usi...</td>\n",
              "    </tr>\n",
              "    <tr>\n",
              "      <th>1</th>\n",
              "      <td>B097RKZYGS</td>\n",
              "      <td>ASUS-VivoBook-Business-Integrated-M415DA-EB301T</td>\n",
              "      <td>Keshaw</td>\n",
              "      <td>5.0</td>\n",
              "      <td>I am loving it</td>\n",
              "      <td>Updated : 30 April 2021Still working the same ...</td>\n",
              "    </tr>\n",
              "    <tr>\n",
              "      <th>2</th>\n",
              "      <td>B097RKZYGS</td>\n",
              "      <td>ASUS-VivoBook-Business-Integrated-M415DA-EB301T</td>\n",
              "      <td>Steve smith</td>\n",
              "      <td>4.0</td>\n",
              "      <td>Just an average device, should be fine for dai...</td>\n",
              "      <td>Don't expect anything magical at this price po...</td>\n",
              "    </tr>\n",
              "    <tr>\n",
              "      <th>3</th>\n",
              "      <td>B097RKZYGS</td>\n",
              "      <td>ASUS-VivoBook-Business-Integrated-M415DA-EB301T</td>\n",
              "      <td>Ayush Sengupta</td>\n",
              "      <td>4.0</td>\n",
              "      <td>Display Issue!</td>\n",
              "      <td>I dont know whether my device is faulty or not...</td>\n",
              "    </tr>\n",
              "    <tr>\n",
              "      <th>4</th>\n",
              "      <td>B097RKZYGS</td>\n",
              "      <td>ASUS-VivoBook-Business-Integrated-M415DA-EB301T</td>\n",
              "      <td>Thunderbird</td>\n",
              "      <td>4.0</td>\n",
              "      <td>Great laptop with just a couple of misses</td>\n",
              "      <td>Laptop is good for home use.  SSD, as expected...</td>\n",
              "    </tr>\n",
              "  </tbody>\n",
              "</table>\n",
              "</div>"
            ],
            "text/plain": [
              "  Product_code  ...                                        review_text\n",
              "0   B097RKZYGS  ...  The Laptop keeps on freezing whenever your usi...\n",
              "1   B097RKZYGS  ...  Updated : 30 April 2021Still working the same ...\n",
              "2   B097RKZYGS  ...  Don't expect anything magical at this price po...\n",
              "3   B097RKZYGS  ...  I dont know whether my device is faulty or not...\n",
              "4   B097RKZYGS  ...  Laptop is good for home use.  SSD, as expected...\n",
              "\n",
              "[5 rows x 6 columns]"
            ]
          },
          "metadata": {},
          "execution_count": 5
        }
      ]
    },
    {
      "cell_type": "code",
      "metadata": {
        "colab": {
          "base_uri": "https://localhost:8080/",
          "height": 287
        },
        "id": "VKXTEgY8mGmU",
        "outputId": "d3f8ef6b-12d3-42d0-829d-443c9c6b1c95"
      },
      "source": [
        "#from eda we see some reveiws start with updated: date and we dont want that so we remove it\n",
        "remove_updated = lambda x: re.split(r'(?:Updated :)\\s\\d\\d\\s(?:January|February|March|April|May|June|July|August|September|October|November|December)\\s\\d{4}',x)[-1] if x.startswith('Updated : ') else x\n",
        "df['review_text']=df['review_text'].apply(remove_updated)\n",
        "#setting polarity of the reveiws\n",
        "df['Polarity']=df['review_text'].apply(lambda x: TextBlob(x).sentiment.polarity)\n",
        "#df['subjectivity']=df['review_text'].apply(lambda x: TextBlob(x).sentiment.subjectivity)\n",
        "df.head()"
      ],
      "execution_count": null,
      "outputs": [
        {
          "output_type": "execute_result",
          "data": {
            "text/html": [
              "<div>\n",
              "<style scoped>\n",
              "    .dataframe tbody tr th:only-of-type {\n",
              "        vertical-align: middle;\n",
              "    }\n",
              "\n",
              "    .dataframe tbody tr th {\n",
              "        vertical-align: top;\n",
              "    }\n",
              "\n",
              "    .dataframe thead th {\n",
              "        text-align: right;\n",
              "    }\n",
              "</style>\n",
              "<table border=\"1\" class=\"dataframe\">\n",
              "  <thead>\n",
              "    <tr style=\"text-align: right;\">\n",
              "      <th></th>\n",
              "      <th>Product_code</th>\n",
              "      <th>Product_name</th>\n",
              "      <th>Customer_name</th>\n",
              "      <th>rating</th>\n",
              "      <th>review_title</th>\n",
              "      <th>review_text</th>\n",
              "      <th>Polarity</th>\n",
              "    </tr>\n",
              "  </thead>\n",
              "  <tbody>\n",
              "    <tr>\n",
              "      <th>0</th>\n",
              "      <td>B097RKZYGS</td>\n",
              "      <td>ASUS-VivoBook-Business-Integrated-M415DA-EB301T</td>\n",
              "      <td>Aubrey Khoza</td>\n",
              "      <td>2.0</td>\n",
              "      <td>The computer keeps on freezing when busy using...</td>\n",
              "      <td>The Laptop keeps on freezing whenever your usi...</td>\n",
              "      <td>0.000000</td>\n",
              "    </tr>\n",
              "    <tr>\n",
              "      <th>1</th>\n",
              "      <td>B097RKZYGS</td>\n",
              "      <td>ASUS-VivoBook-Business-Integrated-M415DA-EB301T</td>\n",
              "      <td>Keshaw</td>\n",
              "      <td>5.0</td>\n",
              "      <td>I am loving it</td>\n",
              "      <td>Still working the same as on day 1. No issues ...</td>\n",
              "      <td>0.275159</td>\n",
              "    </tr>\n",
              "    <tr>\n",
              "      <th>2</th>\n",
              "      <td>B097RKZYGS</td>\n",
              "      <td>ASUS-VivoBook-Business-Integrated-M415DA-EB301T</td>\n",
              "      <td>Steve smith</td>\n",
              "      <td>4.0</td>\n",
              "      <td>Just an average device, should be fine for dai...</td>\n",
              "      <td>Don't expect anything magical at this price po...</td>\n",
              "      <td>0.154167</td>\n",
              "    </tr>\n",
              "    <tr>\n",
              "      <th>3</th>\n",
              "      <td>B097RKZYGS</td>\n",
              "      <td>ASUS-VivoBook-Business-Integrated-M415DA-EB301T</td>\n",
              "      <td>Ayush Sengupta</td>\n",
              "      <td>4.0</td>\n",
              "      <td>Display Issue!</td>\n",
              "      <td>I dont know whether my device is faulty or not...</td>\n",
              "      <td>0.121131</td>\n",
              "    </tr>\n",
              "    <tr>\n",
              "      <th>4</th>\n",
              "      <td>B097RKZYGS</td>\n",
              "      <td>ASUS-VivoBook-Business-Integrated-M415DA-EB301T</td>\n",
              "      <td>Thunderbird</td>\n",
              "      <td>4.0</td>\n",
              "      <td>Great laptop with just a couple of misses</td>\n",
              "      <td>Laptop is good for home use.  SSD, as expected...</td>\n",
              "      <td>0.095701</td>\n",
              "    </tr>\n",
              "  </tbody>\n",
              "</table>\n",
              "</div>"
            ],
            "text/plain": [
              "  Product_code  ...  Polarity\n",
              "0   B097RKZYGS  ...  0.000000\n",
              "1   B097RKZYGS  ...  0.275159\n",
              "2   B097RKZYGS  ...  0.154167\n",
              "3   B097RKZYGS  ...  0.121131\n",
              "4   B097RKZYGS  ...  0.095701\n",
              "\n",
              "[5 rows x 7 columns]"
            ]
          },
          "metadata": {},
          "execution_count": 6
        }
      ]
    },
    {
      "cell_type": "code",
      "metadata": {
        "colab": {
          "base_uri": "https://localhost:8080/",
          "height": 287
        },
        "id": "ajZMSDgTk6Lj",
        "outputId": "36f7de28-e73d-4a35-c8af-aa7b22239d74"
      },
      "source": [
        "#setting the tone of the reveiw according to the polarity of the reveiw \n",
        "df['Tone']=None\n",
        "df['Polarity']=df['Polarity'].astype('float')\n",
        "df.loc[df['Polarity']>0,['Tone']]='Good'\n",
        "df.loc[df['Polarity']==0,['Tone']]='Neutral'\n",
        "df.loc[df['Polarity']<0,['Tone']]='Bad'\n",
        "df.head()"
      ],
      "execution_count": null,
      "outputs": [
        {
          "output_type": "execute_result",
          "data": {
            "text/html": [
              "<div>\n",
              "<style scoped>\n",
              "    .dataframe tbody tr th:only-of-type {\n",
              "        vertical-align: middle;\n",
              "    }\n",
              "\n",
              "    .dataframe tbody tr th {\n",
              "        vertical-align: top;\n",
              "    }\n",
              "\n",
              "    .dataframe thead th {\n",
              "        text-align: right;\n",
              "    }\n",
              "</style>\n",
              "<table border=\"1\" class=\"dataframe\">\n",
              "  <thead>\n",
              "    <tr style=\"text-align: right;\">\n",
              "      <th></th>\n",
              "      <th>Product_code</th>\n",
              "      <th>Product_name</th>\n",
              "      <th>Customer_name</th>\n",
              "      <th>rating</th>\n",
              "      <th>review_title</th>\n",
              "      <th>review_text</th>\n",
              "      <th>Polarity</th>\n",
              "      <th>Tone</th>\n",
              "    </tr>\n",
              "  </thead>\n",
              "  <tbody>\n",
              "    <tr>\n",
              "      <th>0</th>\n",
              "      <td>B097RKZYGS</td>\n",
              "      <td>ASUS-VivoBook-Business-Integrated-M415DA-EB301T</td>\n",
              "      <td>Aubrey Khoza</td>\n",
              "      <td>2.0</td>\n",
              "      <td>The computer keeps on freezing when busy using...</td>\n",
              "      <td>The Laptop keeps on freezing whenever your usi...</td>\n",
              "      <td>0.000000</td>\n",
              "      <td>Neutral</td>\n",
              "    </tr>\n",
              "    <tr>\n",
              "      <th>1</th>\n",
              "      <td>B097RKZYGS</td>\n",
              "      <td>ASUS-VivoBook-Business-Integrated-M415DA-EB301T</td>\n",
              "      <td>Keshaw</td>\n",
              "      <td>5.0</td>\n",
              "      <td>I am loving it</td>\n",
              "      <td>Still working the same as on day 1. No issues ...</td>\n",
              "      <td>0.275159</td>\n",
              "      <td>Good</td>\n",
              "    </tr>\n",
              "    <tr>\n",
              "      <th>2</th>\n",
              "      <td>B097RKZYGS</td>\n",
              "      <td>ASUS-VivoBook-Business-Integrated-M415DA-EB301T</td>\n",
              "      <td>Steve smith</td>\n",
              "      <td>4.0</td>\n",
              "      <td>Just an average device, should be fine for dai...</td>\n",
              "      <td>Don't expect anything magical at this price po...</td>\n",
              "      <td>0.154167</td>\n",
              "      <td>Good</td>\n",
              "    </tr>\n",
              "    <tr>\n",
              "      <th>3</th>\n",
              "      <td>B097RKZYGS</td>\n",
              "      <td>ASUS-VivoBook-Business-Integrated-M415DA-EB301T</td>\n",
              "      <td>Ayush Sengupta</td>\n",
              "      <td>4.0</td>\n",
              "      <td>Display Issue!</td>\n",
              "      <td>I dont know whether my device is faulty or not...</td>\n",
              "      <td>0.121131</td>\n",
              "      <td>Good</td>\n",
              "    </tr>\n",
              "    <tr>\n",
              "      <th>4</th>\n",
              "      <td>B097RKZYGS</td>\n",
              "      <td>ASUS-VivoBook-Business-Integrated-M415DA-EB301T</td>\n",
              "      <td>Thunderbird</td>\n",
              "      <td>4.0</td>\n",
              "      <td>Great laptop with just a couple of misses</td>\n",
              "      <td>Laptop is good for home use.  SSD, as expected...</td>\n",
              "      <td>0.095701</td>\n",
              "      <td>Good</td>\n",
              "    </tr>\n",
              "  </tbody>\n",
              "</table>\n",
              "</div>"
            ],
            "text/plain": [
              "  Product_code  ...     Tone\n",
              "0   B097RKZYGS  ...  Neutral\n",
              "1   B097RKZYGS  ...     Good\n",
              "2   B097RKZYGS  ...     Good\n",
              "3   B097RKZYGS  ...     Good\n",
              "4   B097RKZYGS  ...     Good\n",
              "\n",
              "[5 rows x 8 columns]"
            ]
          },
          "metadata": {},
          "execution_count": 7
        }
      ]
    },
    {
      "cell_type": "code",
      "metadata": {
        "colab": {
          "base_uri": "https://localhost:8080/",
          "height": 542
        },
        "id": "48Hmyn6LoP3I",
        "outputId": "916af5f3-abb7-4f79-fc1f-666776a6346e"
      },
      "source": [
        "#making the master dataset which will contain the analysis of all the products\n",
        "master=pd.read_csv('/content/gdrive/MyDrive/Laptop_Reveiw/Data/Master_reveiw_2021-10-09.csv')\n",
        "master=master.drop(master.columns[[0,-2]], axis=1)\n",
        "master = master.rename(columns={'number of reveiws': 'number_of_reveiws'})\n",
        "master['Rating']=master['Rating'].apply(lambda x : float(x.split(' ')[0]))\n",
        "master=master.drop_duplicates(subset=['Product_code','number_of_reveiws'], keep='first')\n",
        "master=master.reset_index(drop=True)\n",
        "master['Avg_rev_rating']=None\n",
        "master['rev_rat_dist']=None\n",
        "master['rev_tone_dist']=None\n",
        "master.head()"
      ],
      "execution_count": null,
      "outputs": [
        {
          "output_type": "execute_result",
          "data": {
            "text/html": [
              "<div>\n",
              "<style scoped>\n",
              "    .dataframe tbody tr th:only-of-type {\n",
              "        vertical-align: middle;\n",
              "    }\n",
              "\n",
              "    .dataframe tbody tr th {\n",
              "        vertical-align: top;\n",
              "    }\n",
              "\n",
              "    .dataframe thead th {\n",
              "        text-align: right;\n",
              "    }\n",
              "</style>\n",
              "<table border=\"1\" class=\"dataframe\">\n",
              "  <thead>\n",
              "    <tr style=\"text-align: right;\">\n",
              "      <th></th>\n",
              "      <th>Product_code</th>\n",
              "      <th>Product_name</th>\n",
              "      <th>Rating</th>\n",
              "      <th>number_of_reveiws</th>\n",
              "      <th>Price</th>\n",
              "      <th>Images</th>\n",
              "      <th>Link</th>\n",
              "      <th>Reveiw Link</th>\n",
              "      <th>Avg_rev_rating</th>\n",
              "      <th>rev_rat_dist</th>\n",
              "      <th>rev_tone_dist</th>\n",
              "    </tr>\n",
              "  </thead>\n",
              "  <tbody>\n",
              "    <tr>\n",
              "      <th>0</th>\n",
              "      <td>B097RKZYGS</td>\n",
              "      <td>ASUS VivoBook 14 (2020), 14-inch (35.56 cms) F...</td>\n",
              "      <td>3.9</td>\n",
              "      <td>156</td>\n",
              "      <td>₹31,990</td>\n",
              "      <td>https://m.media-amazon.com/images/I/716bvqzz7P...</td>\n",
              "      <td>https://www.amazon.in/ASUS-VivoBook-Integrated...</td>\n",
              "      <td>https://www.amazon.in/ASUS-VivoBook-Business-I...</td>\n",
              "      <td>None</td>\n",
              "      <td>None</td>\n",
              "      <td>None</td>\n",
              "    </tr>\n",
              "    <tr>\n",
              "      <th>1</th>\n",
              "      <td>B08C5W6PL2</td>\n",
              "      <td>HP Chromebook 14-inch (35.56 cms) Thin &amp; Light...</td>\n",
              "      <td>3.9</td>\n",
              "      <td>766</td>\n",
              "      <td>₹25,999</td>\n",
              "      <td>https://m.media-amazon.com/images/I/613WULNEr1...</td>\n",
              "      <td>https://www.amazon.in/HP-Chromebook-14a-na0003...</td>\n",
              "      <td>https://www.amazon.in/HP-Chromebook-14a-na0003...</td>\n",
              "      <td>None</td>\n",
              "      <td>None</td>\n",
              "      <td>None</td>\n",
              "    </tr>\n",
              "    <tr>\n",
              "      <th>2</th>\n",
              "      <td>B08HJYFZ14</td>\n",
              "      <td>HP 15 AMD Athlon 15.6\" (39.62cms) HD Laptop (S...</td>\n",
              "      <td>3.5</td>\n",
              "      <td>483</td>\n",
              "      <td>₹25,999</td>\n",
              "      <td>https://m.media-amazon.com/images/I/61bkuSlKF4...</td>\n",
              "      <td>https://www.amazon.in/HP-Athlon-15-6-inch-Silv...</td>\n",
              "      <td>https://www.amazon.in/HP-Athlon-15-6-inch-Silv...</td>\n",
              "      <td>None</td>\n",
              "      <td>None</td>\n",
              "      <td>None</td>\n",
              "    </tr>\n",
              "    <tr>\n",
              "      <th>3</th>\n",
              "      <td>B08HJZHTM1</td>\n",
              "      <td>HP 15 Intel Pentium Gold 6405U Processor Entry...</td>\n",
              "      <td>3.4</td>\n",
              "      <td>843</td>\n",
              "      <td>₹25,999</td>\n",
              "      <td>https://m.media-amazon.com/images/I/71FB8qoB78...</td>\n",
              "      <td>https://www.amazon.in/HP-Pentium-Processor-15-...</td>\n",
              "      <td>https://www.amazon.in/HP-Pentium-Processor-15-...</td>\n",
              "      <td>None</td>\n",
              "      <td>None</td>\n",
              "      <td>None</td>\n",
              "    </tr>\n",
              "    <tr>\n",
              "      <th>4</th>\n",
              "      <td>B0924PSV78</td>\n",
              "      <td>RDP ThinBook 1010 - Intel Celeron Quad Core Pr...</td>\n",
              "      <td>3.4</td>\n",
              "      <td>258</td>\n",
              "      <td>₹19,990</td>\n",
              "      <td>https://m.media-amazon.com/images/I/51C6EHkMQp...</td>\n",
              "      <td>https://www.amazon.in/RDP-ThinBook-1010-Celero...</td>\n",
              "      <td>https://www.amazon.in/RDP-ThinBook-1010-Celero...</td>\n",
              "      <td>None</td>\n",
              "      <td>None</td>\n",
              "      <td>None</td>\n",
              "    </tr>\n",
              "  </tbody>\n",
              "</table>\n",
              "</div>"
            ],
            "text/plain": [
              "  Product_code  ... rev_tone_dist\n",
              "0   B097RKZYGS  ...          None\n",
              "1   B08C5W6PL2  ...          None\n",
              "2   B08HJYFZ14  ...          None\n",
              "3   B08HJZHTM1  ...          None\n",
              "4   B0924PSV78  ...          None\n",
              "\n",
              "[5 rows x 11 columns]"
            ]
          },
          "metadata": {},
          "execution_count": 4
        }
      ]
    },
    {
      "cell_type": "code",
      "metadata": {
        "colab": {
          "base_uri": "https://localhost:8080/"
        },
        "id": "N0jUosdpi_Cn",
        "outputId": "b8a07904-c36b-49ee-9577-2cd1fc8044d2"
      },
      "source": [
        "master['Rating'].value_counts().sort_index(ascending=False)"
      ],
      "execution_count": null,
      "outputs": [
        {
          "output_type": "execute_result",
          "data": {
            "text/plain": [
              "5.0    12\n",
              "4.8     3\n",
              "4.7     4\n",
              "4.6     3\n",
              "4.5     9\n",
              "4.4     9\n",
              "4.3    20\n",
              "4.2    18\n",
              "4.1    14\n",
              "4.0    20\n",
              "3.9    14\n",
              "3.8    11\n",
              "3.7     8\n",
              "3.6     9\n",
              "3.5    11\n",
              "3.4    15\n",
              "3.3     8\n",
              "3.2     2\n",
              "3.1     3\n",
              "3.0     3\n",
              "2.9     1\n",
              "2.8     2\n",
              "2.7     2\n",
              "2.4     1\n",
              "2.0     2\n",
              "1.6     1\n",
              "1.0     1\n",
              "Name: Rating, dtype: int64"
            ]
          },
          "metadata": {},
          "execution_count": 7
        }
      ]
    },
    {
      "cell_type": "code",
      "metadata": {
        "colab": {
          "base_uri": "https://localhost:8080/",
          "height": 542
        },
        "id": "ztJ4p1caoRmU",
        "outputId": "cc4307d1-be2c-40df-c2b5-d3700f0be876"
      },
      "source": [
        "product_codes=list(master['Product_code'].value_counts().index)\n",
        "\n",
        "for code in product_codes:\n",
        "  reviews=df.loc[df['Product_code']==code]\n",
        "  master.iat[master.loc[master['Product_code']==code].index.values[0],-3]=reviews['rating'].mean()\n",
        "  master.iat[master.loc[master['Product_code']==code].index.values[0],-2]=' '.join([str(ele).strip() for ele in reviews['rating'].value_counts().sort_index(ascending=False).values])\n",
        "  master.iat[master.loc[master['Product_code']==code].index.values[0],-1]=' '.join([str(ele).strip() for ele in reviews['Tone'].value_counts().sort_index(ascending=False).values])\n",
        "master.head()"
      ],
      "execution_count": null,
      "outputs": [
        {
          "output_type": "execute_result",
          "data": {
            "text/html": [
              "<div>\n",
              "<style scoped>\n",
              "    .dataframe tbody tr th:only-of-type {\n",
              "        vertical-align: middle;\n",
              "    }\n",
              "\n",
              "    .dataframe tbody tr th {\n",
              "        vertical-align: top;\n",
              "    }\n",
              "\n",
              "    .dataframe thead th {\n",
              "        text-align: right;\n",
              "    }\n",
              "</style>\n",
              "<table border=\"1\" class=\"dataframe\">\n",
              "  <thead>\n",
              "    <tr style=\"text-align: right;\">\n",
              "      <th></th>\n",
              "      <th>Product_code</th>\n",
              "      <th>Product_name</th>\n",
              "      <th>Rating</th>\n",
              "      <th>number_of_reveiws</th>\n",
              "      <th>Price</th>\n",
              "      <th>Images</th>\n",
              "      <th>Link</th>\n",
              "      <th>Reveiw Link</th>\n",
              "      <th>Avg_rev_rating</th>\n",
              "      <th>rev_rat_dist</th>\n",
              "      <th>rev_tone_dist</th>\n",
              "    </tr>\n",
              "  </thead>\n",
              "  <tbody>\n",
              "    <tr>\n",
              "      <th>0</th>\n",
              "      <td>B097RKZYGS</td>\n",
              "      <td>ASUS VivoBook 14 (2020), 14-inch (35.56 cms) F...</td>\n",
              "      <td>3.9</td>\n",
              "      <td>156</td>\n",
              "      <td>₹31,990</td>\n",
              "      <td>https://m.media-amazon.com/images/I/716bvqzz7P...</td>\n",
              "      <td>https://www.amazon.in/ASUS-VivoBook-Integrated...</td>\n",
              "      <td>https://www.amazon.in/ASUS-VivoBook-Business-I...</td>\n",
              "      <td>3.318182</td>\n",
              "      <td>21 17 8 2 18</td>\n",
              "      <td>10 43 13</td>\n",
              "    </tr>\n",
              "    <tr>\n",
              "      <th>1</th>\n",
              "      <td>B08C5W6PL2</td>\n",
              "      <td>HP Chromebook 14-inch (35.56 cms) Thin &amp; Light...</td>\n",
              "      <td>3.9</td>\n",
              "      <td>766</td>\n",
              "      <td>₹25,999</td>\n",
              "      <td>https://m.media-amazon.com/images/I/613WULNEr1...</td>\n",
              "      <td>https://www.amazon.in/HP-Chromebook-14a-na0003...</td>\n",
              "      <td>https://www.amazon.in/HP-Chromebook-14a-na0003...</td>\n",
              "      <td>3.257692</td>\n",
              "      <td>103 41 20 12 84</td>\n",
              "      <td>26 171 63</td>\n",
              "    </tr>\n",
              "    <tr>\n",
              "      <th>2</th>\n",
              "      <td>B08HJYFZ14</td>\n",
              "      <td>HP 15 AMD Athlon 15.6\" (39.62cms) HD Laptop (S...</td>\n",
              "      <td>3.5</td>\n",
              "      <td>483</td>\n",
              "      <td>₹25,999</td>\n",
              "      <td>https://m.media-amazon.com/images/I/61bkuSlKF4...</td>\n",
              "      <td>https://www.amazon.in/HP-Athlon-15-6-inch-Silv...</td>\n",
              "      <td>https://www.amazon.in/HP-Athlon-15-6-inch-Silv...</td>\n",
              "      <td>2.610687</td>\n",
              "      <td>31 14 13 19 54</td>\n",
              "      <td>24 60 47</td>\n",
              "    </tr>\n",
              "    <tr>\n",
              "      <th>3</th>\n",
              "      <td>B08HJZHTM1</td>\n",
              "      <td>HP 15 Intel Pentium Gold 6405U Processor Entry...</td>\n",
              "      <td>3.4</td>\n",
              "      <td>843</td>\n",
              "      <td>₹25,999</td>\n",
              "      <td>https://m.media-amazon.com/images/I/71FB8qoB78...</td>\n",
              "      <td>https://www.amazon.in/HP-Pentium-Processor-15-...</td>\n",
              "      <td>https://www.amazon.in/HP-Pentium-Processor-15-...</td>\n",
              "      <td>2.305439</td>\n",
              "      <td>45 21 27 15 131</td>\n",
              "      <td>48 85 106</td>\n",
              "    </tr>\n",
              "    <tr>\n",
              "      <th>4</th>\n",
              "      <td>B0924PSV78</td>\n",
              "      <td>RDP ThinBook 1010 - Intel Celeron Quad Core Pr...</td>\n",
              "      <td>3.4</td>\n",
              "      <td>258</td>\n",
              "      <td>₹19,990</td>\n",
              "      <td>https://m.media-amazon.com/images/I/51C6EHkMQp...</td>\n",
              "      <td>https://www.amazon.in/RDP-ThinBook-1010-Celero...</td>\n",
              "      <td>https://www.amazon.in/RDP-ThinBook-1010-Celero...</td>\n",
              "      <td>2.832215</td>\n",
              "      <td>45 23 9 6 66</td>\n",
              "      <td>26 83 40</td>\n",
              "    </tr>\n",
              "  </tbody>\n",
              "</table>\n",
              "</div>"
            ],
            "text/plain": [
              "  Product_code  ... rev_tone_dist\n",
              "0   B097RKZYGS  ...      10 43 13\n",
              "1   B08C5W6PL2  ...     26 171 63\n",
              "2   B08HJYFZ14  ...      24 60 47\n",
              "3   B08HJZHTM1  ...     48 85 106\n",
              "4   B0924PSV78  ...      26 83 40\n",
              "\n",
              "[5 rows x 11 columns]"
            ]
          },
          "metadata": {},
          "execution_count": 72
        }
      ]
    },
    {
      "cell_type": "code",
      "metadata": {
        "colab": {
          "base_uri": "https://localhost:8080/",
          "height": 167
        },
        "id": "U8TD8Ln5woJ6",
        "outputId": "0f6a2e2c-9481-4c8f-e360-5796cf65be0c"
      },
      "source": [
        "#product_codes[0]\n",
        "master['Avg_rev_rating']=master['Avg_rev_rating'].fillna(0)\n",
        "master.loc[master['Product_code']=='B09BF6S7RX']"
      ],
      "execution_count": null,
      "outputs": [
        {
          "output_type": "execute_result",
          "data": {
            "text/html": [
              "<div>\n",
              "<style scoped>\n",
              "    .dataframe tbody tr th:only-of-type {\n",
              "        vertical-align: middle;\n",
              "    }\n",
              "\n",
              "    .dataframe tbody tr th {\n",
              "        vertical-align: top;\n",
              "    }\n",
              "\n",
              "    .dataframe thead th {\n",
              "        text-align: right;\n",
              "    }\n",
              "</style>\n",
              "<table border=\"1\" class=\"dataframe\">\n",
              "  <thead>\n",
              "    <tr style=\"text-align: right;\">\n",
              "      <th></th>\n",
              "      <th>Product_code</th>\n",
              "      <th>Product_name</th>\n",
              "      <th>Rating</th>\n",
              "      <th>number_of_reveiws</th>\n",
              "      <th>Price</th>\n",
              "      <th>Images</th>\n",
              "      <th>Link</th>\n",
              "      <th>Reveiw Link</th>\n",
              "      <th>Avg_rev_rating</th>\n",
              "      <th>rev_rat_dist</th>\n",
              "      <th>rev_tone_dist</th>\n",
              "    </tr>\n",
              "  </thead>\n",
              "  <tbody>\n",
              "    <tr>\n",
              "      <th>106</th>\n",
              "      <td>B09BF6S7RX</td>\n",
              "      <td>ASUS VivoBook 14 (2021), Intel Core i3-1115G4 ...</td>\n",
              "      <td>4.0</td>\n",
              "      <td>8</td>\n",
              "      <td>₹41,990</td>\n",
              "      <td>https://m.media-amazon.com/images/I/71WuDXpTAl...</td>\n",
              "      <td>https://www.amazon.in/ASUS-VivoBook-i3-1115G4-...</td>\n",
              "      <td>https://www.amazon.in/ASUS-VivoBook-i3-1115G4-...</td>\n",
              "      <td>0.0</td>\n",
              "      <td></td>\n",
              "      <td></td>\n",
              "    </tr>\n",
              "  </tbody>\n",
              "</table>\n",
              "</div>"
            ],
            "text/plain": [
              "    Product_code  ... rev_tone_dist\n",
              "106   B09BF6S7RX  ...              \n",
              "\n",
              "[1 rows x 11 columns]"
            ]
          },
          "metadata": {},
          "execution_count": 73
        }
      ]
    },
    {
      "cell_type": "code",
      "metadata": {
        "id": "RiWVfcEFzXq6"
      },
      "source": [
        "master.to_csv('Master_df.csv')"
      ],
      "execution_count": null,
      "outputs": []
    },
    {
      "cell_type": "code",
      "metadata": {
        "colab": {
          "base_uri": "https://localhost:8080/",
          "height": 195
        },
        "id": "7-Dfy8GG6PLf",
        "outputId": "8229c668-a0e3-4470-82c8-c4e85523bb4d"
      },
      "source": [
        "data = pd.read_csv('https://raw.githubusercontent.com/DibyaSadhukhan/Amazon_Review_Analysis/main/Data/Master_df.csv')\n",
        "a=data.iloc[0]\n",
        "a=dict(a)\n",
        "a['rev_rat_dist']=list(map(int,a['rev_rat_dist'].split(' ')))\n",
        "#print(a['rev_rat_dist'])\n",
        "#print(data.dtypes)\n",
        "#det=data.loc[data['Product_code']=='yo']\n",
        "#print(det)\n",
        "#det=dict(det)\n",
        "a['Images'].values"
      ],
      "execution_count": null,
      "outputs": [
        {
          "output_type": "error",
          "ename": "AttributeError",
          "evalue": "ignored",
          "traceback": [
            "\u001b[0;31m---------------------------------------------------------------------------\u001b[0m",
            "\u001b[0;31mAttributeError\u001b[0m                            Traceback (most recent call last)",
            "\u001b[0;32m<ipython-input-91-1610f1ca4606>\u001b[0m in \u001b[0;36m<module>\u001b[0;34m()\u001b[0m\n\u001b[1;32m      8\u001b[0m \u001b[0;31m#print(det)\u001b[0m\u001b[0;34m\u001b[0m\u001b[0;34m\u001b[0m\u001b[0;34m\u001b[0m\u001b[0m\n\u001b[1;32m      9\u001b[0m \u001b[0;31m#det=dict(det)\u001b[0m\u001b[0;34m\u001b[0m\u001b[0;34m\u001b[0m\u001b[0;34m\u001b[0m\u001b[0m\n\u001b[0;32m---> 10\u001b[0;31m \u001b[0ma\u001b[0m\u001b[0;34m[\u001b[0m\u001b[0;34m'Images'\u001b[0m\u001b[0;34m]\u001b[0m\u001b[0;34m.\u001b[0m\u001b[0mvalues\u001b[0m\u001b[0;34m\u001b[0m\u001b[0;34m\u001b[0m\u001b[0m\n\u001b[0m",
            "\u001b[0;31mAttributeError\u001b[0m: 'str' object has no attribute 'values'"
          ]
        }
      ]
    },
    {
      "cell_type": "markdown",
      "metadata": {
        "id": "zEJ6kJ6HRoYs"
      },
      "source": [
        "# test1"
      ]
    },
    {
      "cell_type": "code",
      "metadata": {
        "id": "A_4P6Qi8d7rM"
      },
      "source": [
        "def format_text(revs):\n",
        "  Non_alpha=re.compile(r'[\\W]')# removing non word characters\n",
        "  Non_Ascii=re.compile(r'[^a-z0-1\\s]')#removing non ascii\n",
        "  formatted=\"\"\n",
        "  for rev in revs.split('\\n'):\n",
        "    rev=rev.lower()\n",
        "    rev_noPun=Non_alpha.sub(r' ',rev)\n",
        "    rev=Non_Ascii.sub(r' ',rev_noPun)\n",
        "    formatted+=rev\n",
        "  return formatted\n",
        "def get_aspects(x):\n",
        "    import en_core_web_lg\n",
        "    nlp = en_core_web_lg.load()\n",
        "    stop_words=[\"i\", \"me\", \"my\", \"myself\", \"we\", \"our\", \"ours\", \"ourselves\", \"you\", \"your\", \"yours\", \"yourself\", \n",
        "            \"yourselves\", \"he\", \"him\", \"his\", \"himself\", \"she\", \"her\", \"hers\", \"herself\", \"it\", \"its\", \"itself\", \n",
        "            \"they\", \"them\", \"their\", \"theirs\", \"themselves\", \"what\", \"which\", \"who\", \"whom\", \"this\", \"that\", \"these\", \n",
        "            \"those\", \"am\", \"is\", \"are\", \"was\", \"were\", \"be\", \"been\", \"being\", \"have\", \"has\", \"had\", \"having\", \"do\", \n",
        "            \"does\", \"did\", \"doing\", \"a\", \"an\", \"the\", \"and\", \"but\", \"if\", \"or\", \"because\", \"as\", \"until\", \"while\", \n",
        "            \"of\", \"at\", \"by\", \"for\", \"with\", \"about\", \"against\", \"between\", \"into\", \"through\", \"during\", \"before\", \n",
        "            \"after\", \"above\", \"below\", \"to\", \"from\", \"up\", \"down\", \"in\", \"out\", \"on\", \"off\", \"over\", \"under\", \"again\", \n",
        "            \"further\", \"then\", \"once\", \"here\", \"there\", \"when\", \"where\", \"why\", \"how\", \"all\", \"any\", \"both\", \"each\", \n",
        "            \"few\", \"more\", \"most\", \"other\", \"some\", \"such\", \"no\", \"nor\", \"not\", \"only\", \"own\", \"same\", \"so\", \"than\",\n",
        "            \"too\", \"very\", \"s\", \"t\", \"can\", \"will\", \"just\", \"don\", \"should\", \"now\"]\n",
        "    doc=nlp(x) ## Tokenize and extract grammatical components\n",
        "    doc=[i.text for i in doc if i.text not in stop_words and i.pos_==\"NOUN\"] ## Remove common words and retain only nouns\n",
        "    doc=list(map(lambda i: i.lower(),doc)) ## Normalize text to lower case\n",
        "    doc=pd.Series(doc)\n",
        "    counts=doc.value_counts().head(10).tolist()\n",
        "    doc=doc.value_counts().head(10).index.tolist() ## Get 5 most frequent nouns\n",
        "    return doc,counts\n",
        "def get_polarity(reveiws):\n",
        "  reveiws['Reveiw Text']= reveiws['Reveiw Text'].astype(str)\n",
        "  pol = lambda x: TextBlob(x).sentiment.polarity\n",
        "  reveiws['polarity']= reveiws['Reveiw Text'].apply(pol)\n",
        "  return reveiws\n",
        "def get_Reveiw_df(filename):\n",
        "  f = open('/content/gdrive/MyDrive/Amazon_product_Reveiws/'+filename+'.txt',\"r\")\n",
        "  a=f.read().split('||')\n",
        "  reveiws = pd.DataFrame(columns=['Customer Name','Rating','Reveiw Title','Reveiw Text'])\n",
        "  for rev in a:\n",
        "    name=rev.split('\\',')[0]\n",
        "    try:\n",
        "      rating=rev.split('\\',')[1]\n",
        "    except:\n",
        "      rating=\"\"\n",
        "    try:\n",
        "      reveiwTitle=rev.split('\\',')[-2]\n",
        "    except:\n",
        "      reveiwTitle=\"\"\n",
        "    comment=rev.split('\\',')[-1]\n",
        "    reveiws = reveiws.append({'Customer Name' : name.split('\\'')[-1] , 'Rating' : rating[2:], 'Reveiw Title' : reveiwTitle[2:], 'Reveiw Text': comment[2:-2] }, ignore_index = True)\n",
        "  f.close()\n",
        "  #reveiws.head()\n",
        "  return reveiws\n",
        "def get_polarity_txt(list):\n",
        "  pol = lambda x: TextBlob(x).sentiment.polarity\n",
        "  return map(pol,list)\n"
      ],
      "execution_count": null,
      "outputs": []
    },
    {
      "cell_type": "code",
      "metadata": {
        "colab": {
          "base_uri": "https://localhost:8080/"
        },
        "id": "F8j53tfidbG2",
        "outputId": "9b2e0179-5850-406b-ed78-fa3b4725de5d"
      },
      "source": [
        "reveiw_link=[]\n",
        "for i in range(len(df)):\n",
        "  reveiw_link.append(df.iat[i,-6])\n",
        "print(reveiw_link)"
      ],
      "execution_count": null,
      "outputs": [
        {
          "output_type": "stream",
          "name": "stdout",
          "text": [
            "['https://www.amazon.in/ASUS-VivoBook-Business-Integrated-M415DA-EB301T/product-reviews/B097RKZYGS/ref=cm_cr_dp_d_show_all_btm?ie=UTF8&reviewerType=all_reviews', 'https://www.amazon.in/HP-Chromebook-14a-na0003TU-Touchscreen-Expandable/product-reviews/B08C5W6PL2/ref=cm_cr_dp_d_show_all_btm?ie=UTF8&reviewerType=all_reviews', 'https://www.amazon.in/HP-Athlon-15-6-inch-Silver-3050U-15s-gy0001au/product-reviews/B08HJYFZ14/ref=cm_cr_dp_d_show_all_btm?ie=UTF8&reviewerType=all_reviews', 'https://www.amazon.in/HP-Pentium-Processor-15-6-inch-15s-du1052tu/product-reviews/B08HJZHTM1/ref=cm_cr_dp_d_show_all_btm?ie=UTF8&reviewerType=all_reviews', 'https://www.amazon.in/RDP-ThinBook-1010-Celeron-Processor/product-reviews/B0924PSV78/ref=cm_cr_dp_d_show_all_btm?ie=UTF8&reviewerType=all_reviews', 'https://www.amazon.in/Lenovo-15-6-inch-Integrated-Graphics-82C700J0IH/product-reviews/B095JY5B3F/ref=cm_cr_dp_d_show_all_btm?ie=UTF8&reviewerType=all_reviews', 'https://www.amazon.in/Lenovo-Integrated-Graphics-Platinum-81W100W9IN/product-reviews/B08JCP96XL/ref=cm_cr_dp_d_show_all_btm?ie=UTF8&reviewerType=all_reviews', 'https://www.amazon.in/Lenovo-IdeaPad-Business-Graphics-Platinum/product-reviews/B0999BTTKZ/ref=cm_cr_dp_d_show_all_btm?ie=UTF8&reviewerType=all_reviews', 'https://www.amazon.in/Lenovo-Integrated-Graphics-Platinum-81W100VFIN/product-reviews/B08JCDHPGF/ref=cm_cr_dp_d_show_all_btm?ie=UTF8&reviewerType=all_reviews', 'https://www.amazon.in/HP-Laptop-14-Inch-Windows-dy2501tu/product-reviews/B093VZC5X9/ref=cm_cr_dp_d_show_all_btm?ie=UTF8&reviewerType=all_reviews', 'https://www.amazon.in/Notebook-Resolution-i7-11370H-15-6-inch-Fingerprint/product-reviews/B098XL1SY5/ref=cm_cr_dp_d_show_all_btm?ie=UTF8&reviewerType=all_reviews', 'https://www.amazon.in/HP-14-inch-Windows-Natural-14s-dk0501AU/product-reviews/B0991MJLN2/ref=cm_cr_dp_d_show_all_btm?ie=UTF8&reviewerType=all_reviews', 'https://www.amazon.in/Acer-Aspire-Generation-14-inch-Laptop/product-reviews/B09D3B7NX9/ref=cm_cr_dp_d_show_all_btm?ie=UTF8&reviewerType=all_reviews', 'https://www.amazon.in/Dell-Inspiron-3501-Integrated-D560559WIN9S/product-reviews/B097C2JJ1R/ref=cm_cr_dp_d_show_all_btm?ie=UTF8&reviewerType=all_reviews', 'https://www.amazon.in/ASUS-VivoBook-i3-1005G1-39-62cms-X515JA-EJ362TS/product-reviews/B0983WGJZP/ref=cm_cr_dp_d_show_all_btm?ie=UTF8&reviewerType=all_reviews', 'https://www.amazon.in/HP-Processor-Windows-Natural-14s-dq2535TU/product-reviews/B0928NL6F3/ref=cm_cr_dp_d_show_all_btm?ie=UTF8&reviewerType=all_reviews', 'https://www.amazon.in/Acer-Aspire-Generation-14-inch-Laptop/product-reviews/B09D3B7NX9/ref=cm_cr_dp_d_show_all_btm?ie=UTF8&reviewerType=all_reviews', 'https://www.amazon.in/HP-Laptop-15-6-inch-Windows-15s-dy3001TU/product-reviews/B08XY3843B/ref=cm_cr_dp_d_show_all_btm?ie=UTF8&reviewerType=all_reviews', 'https://www.amazon.in/HP-Processor-39-62cms-Integrated-15s-fr2006TU/product-reviews/B08XNYH4LX/ref=cm_cr_dp_d_show_all_btm?ie=UTF8&reviewerType=all_reviews', 'https://www.amazon.in/HP-Chromebook-14-inch-Touchscreen-14a-cb0005AU/product-reviews/B09CMMMV11/ref=cm_cr_dp_d_show_all_btm?ie=UTF8&reviewerType=all_reviews', 'https://www.amazon.in/Acer-Processor-Business-Integrated-EX215-31/product-reviews/B095BYNN8Z/ref=cm_cr_dp_d_show_all_btm?ie=UTF8&reviewerType=all_reviews', 'https://www.amazon.in/ASUS-Celeron-Dual-Core-X515MA-BR004T/product-reviews/B094Y8L2G9/ref=cm_cr_dp_d_show_all_btm?ie=UTF8&reviewerType=all_reviews', 'https://www.amazon.in/HP-Pavilion-Processor-35-56cms-14-dv0084TX/product-reviews/B08XMLV2HK/ref=cm_cr_dp_d_show_all_btm?ie=UTF8&reviewerType=all_reviews', 'https://www.amazon.in/HP-640-Upgradable-Graphics-Warranty/product-reviews/B09F3VKNWB/ref=cm_cr_dp_d_show_all_btm?ie=UTF8&reviewerType=all_reviews', 'https://www.amazon.in/Dell-Inspiron-3501-Integrated-D560492WIN9BE/product-reviews/B097SZMNQH/ref=cm_cr_dp_d_show_all_btm?ie=UTF8&reviewerType=all_reviews', 'https://www.amazon.in/ASUS-VivoBook-i3-1005G1-Integrated-X415JA-EK104T/product-reviews/B08S4NF565/ref=cm_cr_dp_d_show_all_btm?ie=UTF8&reviewerType=all_reviews', 'https://www.amazon.in/AVITA-Essential-NE14A2INC44A-MW-Celeron-N4020-Integrated/product-reviews/B08YRFDN62/ref=cm_cr_dp_d_show_all_btm?ie=UTF8&reviewerType=all_reviews', 'https://www.amazon.in/Lenovo-15-6-inch-Integrated-Graphics-82C700JEIH/product-reviews/B095YWBXFH/ref=cm_cr_dp_d_show_all_btm?ie=UTF8&reviewerType=all_reviews', 'https://www.amazon.in/HP-Notebook-245-G7-ATHLON-3050U/product-reviews/B08TBVBKN5/ref=cm_cr_dp_d_show_all_btm?ie=UTF8&reviewerType=all_reviews', 'https://www.amazon.in/AVITA-Essential-NE14A2INC43A-CR-Celeron-N4020-Integrated/product-reviews/B08YR723GM/ref=cm_cr_dp_d_show_all_btm?ie=UTF8&reviewerType=all_reviews', 'https://www.amazon.in/ASUS-15-6-inch-i3-10110U-Integrated-X509FA-EJ311TS/product-reviews/B09CCXBCX3/ref=cm_cr_dp_d_show_all_btm?ie=UTF8&reviewerType=all_reviews', 'https://www.amazon.in/AVITA-Essential-NE14A2INC433-CR-Integrated-Graphics/product-reviews/B08DDYYZ3G/ref=cm_cr_dp_d_show_all_btm?ie=UTF8&reviewerType=all_reviews', 'https://www.amazon.in/Dell-Vostro-3401-Integrated-D552181WIN9BE/product-reviews/B097SZ3FXB/ref=cm_cr_dp_d_show_all_btm?ie=UTF8&reviewerType=all_reviews', 'https://www.amazon.in/Lenovo-Graphics-Warranty-Platinum-81WB012DIN/product-reviews/B09DMT6V7G/ref=cm_cr_dp_d_show_all_btm?ie=UTF8&reviewerType=all_reviews', 'https://www.amazon.in/Dell-i3-1125G4-Inspiron-5410-D560563WIN9S/product-reviews/B097SYQL3M/ref=cm_cr_dp_d_show_all_btm?ie=UTF8&reviewerType=all_reviews', nan, 'https://www.amazon.in/HP-3-3250-Laptop-Windows-15s-gr0011AU/product-reviews/B08T6SJ215/ref=cm_cr_dp_d_show_all_btm?ie=UTF8&reviewerType=all_reviews', 'https://www.amazon.in/HP-3-3250-Laptop-Windows-15s-gr0012AU/product-reviews/B08T6THSMQ/ref=cm_cr_dp_d_show_all_btm?ie=UTF8&reviewerType=all_reviews', 'https://www.amazon.in/Dell-Vostro-3400-Integrated-D552190WIN9BE/product-reviews/B097SZHHLC/ref=cm_cr_dp_d_show_all_btm?ie=UTF8&reviewerType=all_reviews', 'https://www.amazon.in/HP-Processor-Windows-Natural-14s-dq2535TU/product-reviews/B0928NL6F3/ref=cm_cr_dp_d_show_all_btm?ie=UTF8&reviewerType=all_reviews', 'https://www.amazon.in/ASUS-VivoBook-i3-1005G1-Integrated-X415JA-EK104T/product-reviews/B08S4NF565/ref=cm_cr_dp_d_show_all_btm?ie=UTF8&reviewerType=all_reviews', 'https://www.amazon.in/Lenovo-IdeaPad-Business-Graphics-Platinum/product-reviews/B0999B6MT3/ref=cm_cr_dp_d_show_all_btm?ie=UTF8&reviewerType=all_reviews', 'https://www.amazon.in/Lenovo-IdeaPad-Backlit-Fingerprint-82H700K7IN/product-reviews/B095KPHGYQ/ref=cm_cr_dp_d_show_all_btm?ie=UTF8&reviewerType=all_reviews', 'https://www.amazon.in/HP-Pavilion-15-6-inch-5-4600H-15-ec1024AX/product-reviews/B08CZ2KNS4/ref=cm_cr_dp_d_show_all_btm?ie=UTF8&reviewerType=all_reviews', 'https://www.amazon.in/Renewed-Fujitsu-15-6-Inch-Windows-Graphics/product-reviews/B091B6K2ZM/ref=cm_cr_dp_d_show_all_btm?ie=UTF8&reviewerType=all_reviews', 'https://www.amazon.in/HP-db1060au-Laptop-Ryzen3-Microsoft-Natural/product-reviews/B083SNGBLF/ref=cm_cr_dp_d_show_all_btm?ie=UTF8&reviewerType=all_reviews', 'https://www.amazon.in/Dell-i3-1115G4-Integrated-Graphics-D552175WIN9BE/product-reviews/B08X4P6V2M/ref=cm_cr_dp_d_show_all_btm?ie=UTF8&reviewerType=all_reviews', 'https://www.amazon.in/ASUS-i3-1115G4-15-6-inch-Integrated-X513EA-BQ312TS/product-reviews/B08PQR77JB/ref=cm_cr_dp_d_show_all_btm?ie=UTF8&reviewerType=all_reviews', 'https://www.amazon.in/ASUS-VivoBook-i3-1005G1-39-62cms-X515JA-EJ362TS/product-reviews/B0983WGJZP/ref=cm_cr_dp_d_show_all_btm?ie=UTF8&reviewerType=all_reviews', 'https://www.amazon.in/Dell-i3-1005G1-Integrated-Graphics-D552151WIN9BE/product-reviews/B08R777GBL/ref=cm_cr_dp_d_show_all_btm?ie=UTF8&reviewerType=all_reviews', 'https://www.amazon.in/HP-Chromebook-12b-ca0010TU-Touchscreen-Integrated/product-reviews/B08C5WSTR6/ref=cm_cr_dp_d_show_all_btm?ie=UTF8&reviewerType=all_reviews', 'https://www.amazon.in/ASUS-15-6-inch-i3-10110U-Integrated-X509FA-EJ311TS/product-reviews/B09CCXBCX3/ref=cm_cr_dp_d_show_all_btm?ie=UTF8&reviewerType=all_reviews', 'https://www.amazon.in/Renewed-Dell-14-Inch-Windows-3340-i3-4-128/product-reviews/B08SML9W2R/ref=cm_cr_dp_d_show_all_btm?ie=UTF8&reviewerType=all_reviews', 'https://www.amazon.in/Dell-Inspiron-3501-Integrated-D560559WIN9S/product-reviews/B097C2JJ1R/ref=cm_cr_dp_d_show_all_btm?ie=UTF8&reviewerType=all_reviews', 'https://www.amazon.in/Dell-i3-1125G4-Inspiron-5410-D560563WIN9S/product-reviews/B097SYQL3M/ref=cm_cr_dp_d_show_all_btm?ie=UTF8&reviewerType=all_reviews', 'https://www.amazon.in/Renewed-Lenovo-ThinkCenter-Keyboard-Speakers/product-reviews/B096SB3YGV/ref=cm_cr_dp_d_show_all_btm?ie=UTF8&reviewerType=all_reviews', nan, 'https://www.amazon.in/HP-Pavilion-Graphics-39-62cms-15-eg0103TX/product-reviews/B08XBZBFCQ/ref=cm_cr_dp_d_show_all_btm?ie=UTF8&reviewerType=all_reviews', 'https://www.amazon.in/Dell-Inspiron-7415-Integrated-D560470WIN9P/product-reviews/B095S8HPMY/ref=cm_cr_dp_d_show_all_btm?ie=UTF8&reviewerType=all_reviews', 'https://www.amazon.in/Lenovo-Graphics-Warranty-Platinum-81WB012DIN/product-reviews/B09DMT6V7G/ref=cm_cr_dp_d_show_all_btm?ie=UTF8&reviewerType=all_reviews', 'https://www.amazon.in/Lenovo-Graphics-Warranty-Platinum-81WB0158IN/product-reviews/B0999C7769/ref=cm_cr_dp_d_show_all_btm?ie=UTF8&reviewerType=all_reviews', 'https://www.amazon.in/Renewed-Dell-Latitude-Numeric-Business/product-reviews/B09C8Y45XH/ref=cm_cr_dp_d_show_all_btm?ie=UTF8&reviewerType=all_reviews', 'https://www.amazon.in/ASUS-VivoBook-i3-1115G4-Integrated-TP470EA-EC301TS/product-reviews/B08CDV49P2/ref=cm_cr_dp_d_show_all_btm?ie=UTF8&reviewerType=all_reviews', 'https://www.amazon.in/Dell-i5-1135G7-Integrated-Graphics-D552154WIN9BE/product-reviews/B08RXZCXH6/ref=cm_cr_dp_d_show_all_btm?ie=UTF8&reviewerType=all_reviews', 'https://www.amazon.in/Dell-Latitude-3510-i3-10110U-Warranty/product-reviews/B08B9X82C6/ref=cm_cr_dp_d_show_all_btm?ie=UTF8&reviewerType=all_reviews', 'https://www.amazon.in/HP-Graphics-14-inch-Windows-14s-dq2100TU/product-reviews/B095JZLDSF/ref=cm_cr_dp_d_show_all_btm?ie=UTF8&reviewerType=all_reviews', 'https://www.amazon.in/Lenovo-82C7A006IH-Windows-10-Integrated-Graphics/product-reviews/B08DHZS1XQ/ref=cm_cr_dp_d_show_all_btm?ie=UTF8&reviewerType=all_reviews', 'https://www.amazon.in/Dell-Inspiron-3505-R3-3250U-D560486WIN9S/product-reviews/B099X41XHY/ref=cm_cr_dp_d_show_all_btm?ie=UTF8&reviewerType=all_reviews', 'https://www.amazon.in/Lenovo-IdeaPad-Business-Keyboard-82H801CWIN/product-reviews/B09999TTV3/ref=cm_cr_dp_d_show_all_btm?ie=UTF8&reviewerType=all_reviews', 'https://www.amazon.in/HP-Laptop-Screen-Windows-15s-du1516TU/product-reviews/B095YC5VH4/ref=cm_cr_dp_d_show_all_btm?ie=UTF8&reviewerType=all_reviews', 'https://www.amazon.in/HP-Pavilion-15-6-inch-Graphics-15-dk1514TX/product-reviews/B09DY8BGSY/ref=cm_cr_dp_d_show_all_btm?ie=UTF8&reviewerType=all_reviews', 'https://www.amazon.in/HP-Processor-39-62cms-i3-1115G4-15s-du3038TU/product-reviews/B08S3MGDS3/ref=cm_cr_dp_d_show_all_btm?ie=UTF8&reviewerType=all_reviews', 'https://www.amazon.in/Apple-MacBook-Chip-13-inch-512GB/product-reviews/B08N5YD6NF/ref=cm_cr_dp_d_show_all_btm?ie=UTF8&reviewerType=all_reviews', 'https://www.amazon.in/Lenovo-IdeaPad-Fingerprint-Warranty-82H700KTIN/product-reviews/B096SKD3V7/ref=cm_cr_dp_d_show_all_btm?ie=UTF8&reviewerType=all_reviews', 'https://www.amazon.in/AVITA-Essential-NE14A2INC43A-CR-Celeron-N4020-Integrated/product-reviews/B08YR723GM/ref=cm_cr_dp_d_show_all_btm?ie=UTF8&reviewerType=all_reviews', nan, 'https://www.amazon.in/HP-Pavilion-15-6-inch-5-3550H-15-ec0101AX/product-reviews/B08CJ1513V/ref=cm_cr_dp_d_show_all_btm?ie=UTF8&reviewerType=all_reviews', 'https://www.amazon.in/Renewed-Fujitsu-15-6-Inch-Windows-Graphics/product-reviews/B091B6K2ZM/ref=cm_cr_dp_d_show_all_btm?ie=UTF8&reviewerType=all_reviews', 'https://www.amazon.in/ASUS-i3-1115G4-15-6-inch-Integrated-X513EA-BQ312TS/product-reviews/B08PQR77JB/ref=cm_cr_dp_d_show_all_btm?ie=UTF8&reviewerType=all_reviews', 'https://www.amazon.in/Dell-Vostro-3400-Integrated-D552186WIN9BE/product-reviews/B097T1WN1Y/ref=cm_cr_dp_d_show_all_btm?ie=UTF8&reviewerType=all_reviews', 'https://www.amazon.in/Dell-Inspiron-3505-R3-3250U-D560486WIN9S/product-reviews/B099X41XHY/ref=cm_cr_dp_d_show_all_btm?ie=UTF8&reviewerType=all_reviews', 'https://www.amazon.in/Lenovo-39-62cms-Fingerprint-Platinum-81WE018TIN/product-reviews/B08PV3L6WR/ref=cm_cr_dp_d_show_all_btm?ie=UTF8&reviewerType=all_reviews', 'https://www.amazon.in/Lenovo-V15-15-6-inch-Windows-82C7001YIH/product-reviews/B0897MV47X/ref=cm_cr_dp_d_show_all_btm?ie=UTF8&reviewerType=all_reviews', 'https://www.amazon.in/HP-Processor-15-6-inch-Windows-15s-ey1004AU/product-reviews/B092JLRFS5/ref=cm_cr_dp_d_show_all_btm?ie=UTF8&reviewerType=all_reviews', 'https://www.amazon.in/ASUS-VivoBook15-X515EA-BQ312TS-Intel-i3-1115G4-15-6-inch-Warranty/product-reviews/B09DCSJFBJ/ref=cm_cr_dp_d_show_all_btm?ie=UTF8&reviewerType=all_reviews', 'https://www.amazon.in/Lenovo-IdeaPad-Business-Graphics-Platinum/product-reviews/B0999B6MT3/ref=cm_cr_dp_d_show_all_btm?ie=UTF8&reviewerType=all_reviews', 'https://www.amazon.in/ASUS-VivoBook-i3-1005G1-Integrated-X415JA-EB312TS/product-reviews/B098F4SGHR/ref=cm_cr_dp_d_show_all_btm?ie=UTF8&reviewerType=all_reviews', 'https://www.amazon.in/Notebook-Horizon-i7-10510U-Graphics-XMA1904-AF/product-reviews/B089DFJHZ8/ref=cm_cr_dp_d_show_all_btm?ie=UTF8&reviewerType=all_reviews', 'https://www.amazon.in/Renewed-Elitebook-745-Graphics-Windows/product-reviews/B09B3Z23L8/ref=cm_cr_dp_d_show_all_btm?ie=UTF8&reviewerType=all_reviews', 'https://www.amazon.in/AVITA-Essential-NE14A2INC44A-MB-Celeron-N4020-Integrated/product-reviews/B08YR9DDVZ/ref=cm_cr_dp_d_show_all_btm?ie=UTF8&reviewerType=all_reviews', 'https://www.amazon.in/ASUS-VivoBook-14-0-inch-i5-1035G1-X415JF-EB522TS/product-reviews/B096W27N4K/ref=cm_cr_dp_d_show_all_btm?ie=UTF8&reviewerType=all_reviews', 'https://www.amazon.in/HP-inches-Laptop-Windows-15s-du1066TU/product-reviews/B095YC11CF/ref=cm_cr_dp_d_show_all_btm?ie=UTF8&reviewerType=all_reviews', 'https://www.amazon.in/Dell-Vostro-3400-Integrated-D552186WIN9BE/product-reviews/B097T1WN1Y/ref=cm_cr_dp_d_show_all_btm?ie=UTF8&reviewerType=all_reviews', 'https://www.amazon.in/ASUS-i5-10300H-Graphics-Fortress-FX566LH-HN257T/product-reviews/B08CRMTKMK/ref=cm_cr_dp_d_show_all_btm?ie=UTF8&reviewerType=all_reviews', 'https://www.amazon.in/ASUS-VivoBook-14-0-inch-i5-1035G1-X415JF-EB522TS/product-reviews/B096W27N4K/ref=cm_cr_dp_d_show_all_btm?ie=UTF8&reviewerType=all_reviews', 'https://www.amazon.in/Lenovo-IdeaPad-Keyboard-Warranty-82H80156IN/product-reviews/B09BCSPX7X/ref=cm_cr_dp_d_show_all_btm?ie=UTF8&reviewerType=all_reviews', 'https://www.amazon.in/Renewed-Dell-14-Inch-Windows-3340-i3-4-128/product-reviews/B08SML9W2R/ref=cm_cr_dp_d_show_all_btm?ie=UTF8&reviewerType=all_reviews', 'https://www.amazon.in/HP-Notebook-245-G7-ATHLON-3050U/product-reviews/B08TBVBKN5/ref=cm_cr_dp_d_show_all_btm?ie=UTF8&reviewerType=all_reviews', 'https://www.amazon.in/Renewed-Elitebook-745-Graphics-Windows/product-reviews/B09B3Z23L8/ref=cm_cr_dp_d_show_all_btm?ie=UTF8&reviewerType=all_reviews', 'https://www.amazon.in/Lenovo-IdeaPad-39-62cm-Warranty-82H800U5IN/product-reviews/B09BCRJQB4/ref=cm_cr_dp_d_show_all_btm?ie=UTF8&reviewerType=all_reviews', 'https://www.amazon.in/Lenovo-IdeaPad-39-62cm-Warranty-82H801FKIN/product-reviews/B09C5XN8X7/ref=cm_cr_dp_d_show_all_btm?ie=UTF8&reviewerType=all_reviews', 'https://www.amazon.in/HP-db1060au-Laptop-Ryzen3-Microsoft-Natural/product-reviews/B083SNGBLF/ref=cm_cr_dp_d_show_all_btm?ie=UTF8&reviewerType=all_reviews', 'https://www.amazon.in/Dell-i3-1125G4-Inspiron-5410-D560531WIN9S/product-reviews/B097SZ1DPQ/ref=cm_cr_dp_d_show_all_btm?ie=UTF8&reviewerType=all_reviews', 'https://www.amazon.in/Lenovo-ThinkPad-15-6-inch-Windows-20TDS0G300/product-reviews/B095SQM9KM/ref=cm_cr_dp_d_show_all_btm?ie=UTF8&reviewerType=all_reviews', 'https://www.amazon.in/Dell-Inspiron-3501-Integrated-D560420WIN9B/product-reviews/B094Y5YJ1P/ref=cm_cr_dp_d_show_all_btm?ie=UTF8&reviewerType=all_reviews', 'https://www.amazon.in/Dell-LATITUDE-Upgradable-Graphics-Warranty/product-reviews/B09F3W3YT3/ref=cm_cr_dp_d_show_all_btm?ie=UTF8&reviewerType=all_reviews', 'https://www.amazon.in/Lenovo-IdeaPad-Fingerprint-Warranty-82H700KTIN/product-reviews/B096SKD3V7/ref=cm_cr_dp_d_show_all_btm?ie=UTF8&reviewerType=all_reviews', 'https://www.amazon.in/Renewed-Dell-14-Inch-Windows-3340-i3-4-128/product-reviews/B08SML9W2R/ref=cm_cr_dp_d_show_all_btm?ie=UTF8&reviewerType=all_reviews', 'https://www.amazon.in/HP-Pavilion-Graphics-39-62cms-15-eg0103TX/product-reviews/B08XBZBFCQ/ref=cm_cr_dp_d_show_all_btm?ie=UTF8&reviewerType=all_reviews', 'https://www.amazon.in/ASUS-15-6-inch-i5-10300H-Graphics-FX566LI-HN272T/product-reviews/B098P62W63/ref=cm_cr_dp_d_show_all_btm?ie=UTF8&reviewerType=all_reviews', 'https://www.amazon.in/Lenovo-IdeaPad-Keyboard-Warranty-82H80156IN/product-reviews/B09BCSPX7X/ref=cm_cr_dp_d_show_all_btm?ie=UTF8&reviewerType=all_reviews', nan, 'https://www.amazon.in/HP-14-inch-Windows-Natural-14s-fq1030AU/product-reviews/B0928TPR8H/ref=cm_cr_dp_d_show_all_btm?ie=UTF8&reviewerType=all_reviews', 'https://www.amazon.in/Dell-i5-1135G7-Inspiron-3511-D560505WIN9S/product-reviews/B097SZTNJ3/ref=cm_cr_dp_d_show_all_btm?ie=UTF8&reviewerType=all_reviews', 'https://www.amazon.in/HP-Pavilion-Aero-5-5600U-1920x1200/product-reviews/B098NNGNVC/ref=cm_cr_dp_d_show_all_btm?ie=UTF8&reviewerType=all_reviews', 'https://www.amazon.in/Dell-XPS-12-Integrated-Graphics/product-reviews/B07NVLR8T5/ref=cm_cr_dp_d_show_all_btm?ie=UTF8&reviewerType=all_reviews', 'https://www.amazon.in/Lenovo-15-6-inch-Integrated-Graphics-82C700JCIH/product-reviews/B0972R7ZK2/ref=cm_cr_dp_d_show_all_btm?ie=UTF8&reviewerType=all_reviews', 'https://www.amazon.in/HP-Processor-Windows-Graphics-15s-dr3500TX/product-reviews/B0928T6QM3/ref=cm_cr_dp_d_show_all_btm?ie=UTF8&reviewerType=all_reviews', 'https://www.amazon.in/Lenovo-V15-ADA-Business-Windows-82C700H3IH/product-reviews/B091KJHJT3/ref=cm_cr_dp_d_show_all_btm?ie=UTF8&reviewerType=all_reviews', 'https://www.amazon.in/HP-16-1-inch-Graphics-Flicker-16-e0075AX/product-reviews/B098QB1TPX/ref=cm_cr_dp_d_show_all_btm?ie=UTF8&reviewerType=all_reviews', 'https://www.amazon.in/Acer-Aspire-Generation-Processor-15-6-inch/product-reviews/B096SL21J8/ref=cm_cr_dp_d_show_all_btm?ie=UTF8&reviewerType=all_reviews', 'https://www.amazon.in/HP-15-6-inch-Windows-Natural-15s-eq2042AU/product-reviews/B099VZ7493/ref=cm_cr_dp_d_show_all_btm?ie=UTF8&reviewerType=all_reviews', 'https://www.amazon.in/Lenovo-V14-14-inch-Laptop-82C6000KIH/product-reviews/B08CXSLPTZ/ref=cm_cr_dp_d_show_all_btm?ie=UTF8&reviewerType=all_reviews', 'https://www.amazon.in/Lenovo-Keyboard-Fingerprint-Business-82FE00QLIN/product-reviews/B095KP1TJM/ref=cm_cr_dp_d_show_all_btm?ie=UTF8&reviewerType=all_reviews', 'https://www.amazon.in/ASUS-VivoBook-i5-1135G7-Yr-McAfee-K413EA-EB522TS/product-reviews/B09CD3L6CQ/ref=cm_cr_dp_d_show_all_btm?ie=UTF8&reviewerType=all_reviews', 'https://www.amazon.in/HP-Processor-15-6-inch-Laptop-15s-fq2071TU/product-reviews/B08XNZD56X/ref=cm_cr_dp_d_show_all_btm?ie=UTF8&reviewerType=all_reviews', 'https://www.amazon.in/Dell-Vostro-3400-Integrated-D552184WIN9BE/product-reviews/B097T1JNQS/ref=cm_cr_dp_d_show_all_btm?ie=UTF8&reviewerType=all_reviews', 'https://www.amazon.in/Lenovo-V15-Windows-Graphics-82C7003PIH/product-reviews/B08HJJKDSH/ref=cm_cr_dp_d_show_all_btm?ie=UTF8&reviewerType=all_reviews', 'https://www.amazon.in/HP-Pavilion-15-6-inch-5-3550H-15-ec0101AX/product-reviews/B08CJ1513V/ref=cm_cr_dp_d_show_all_btm?ie=UTF8&reviewerType=all_reviews', nan, 'https://www.amazon.in/ASUS-VivoBook-i3-1115G4-Integrated-X415EA-EK342TS/product-reviews/B09BF6S7RX/ref=cm_cr_dp_d_show_all_btm?ie=UTF8&reviewerType=all_reviews', nan, 'https://www.amazon.in/HP-inches-Windows-Natural-14s-fq1029AU/product-reviews/B0928SZKL1/ref=cm_cr_dp_d_show_all_btm?ie=UTF8&reviewerType=all_reviews', 'https://www.amazon.in/LifeDigital-Laptop-Intel%C2%AE-Storage-Windows/product-reviews/B08HRMHZ8J/ref=cm_cr_dp_d_show_all_btm?ie=UTF8&reviewerType=all_reviews', 'https://www.amazon.in/Dell-Latitude-E5440-14in-Notebook/product-reviews/B071X5CVWP/ref=cm_cr_dp_d_show_all_btm?ie=UTF8&reviewerType=all_reviews', 'https://www.amazon.in/ASUS-Vivobook-M515DA-BQ512TS-inches-Windows/product-reviews/B094X1SYN8/ref=cm_cr_dp_d_show_all_btm?ie=UTF8&reviewerType=all_reviews', 'https://www.amazon.in/ASUS-15-6-inch-i5-10300H-Graphics-FX566LI-HN272T/product-reviews/B098P62W63/ref=cm_cr_dp_d_show_all_btm?ie=UTF8&reviewerType=all_reviews', 'https://www.amazon.in/Acer-Aspire-Ryzen-Quad-3550H/product-reviews/B08R7Z63PB/ref=cm_cr_dp_d_show_all_btm?ie=UTF8&reviewerType=all_reviews', 'https://www.amazon.in/HP-Graphics-14-inch-Windows-14s-dq2100TU/product-reviews/B095JZLDSF/ref=cm_cr_dp_d_show_all_btm?ie=UTF8&reviewerType=all_reviews', 'https://www.amazon.in/Dell-Inspiron-15-6-inch-Laptop-Graphics/product-reviews/B08MB4PXCW/ref=cm_cr_dp_d_show_all_btm?ie=UTF8&reviewerType=all_reviews', 'https://www.amazon.in/HP-Laptop-Screen-Windows-15s-du1516TU/product-reviews/B095YC5VH4/ref=cm_cr_dp_d_show_all_btm?ie=UTF8&reviewerType=all_reviews', 'https://www.amazon.in/Lenovo-Thinkpad-Bluetooth-Integrated-Graphics/product-reviews/B08JQLJS7D/ref=cm_cr_dp_d_show_all_btm?ie=UTF8&reviewerType=all_reviews', 'https://www.amazon.in/Acer-i5-1135G7-Graphics-15-6-inch-A515-56/product-reviews/B098DSF15C/ref=cm_cr_dp_d_show_all_btm?ie=UTF8&reviewerType=all_reviews', 'https://www.amazon.in/Lenovo-IdeaPad-Business-Keyboard-82H801CWIN/product-reviews/B09999TTV3/ref=cm_cr_dp_d_show_all_btm?ie=UTF8&reviewerType=all_reviews', 'https://www.amazon.in/HP-255-G8-3K1G7PA-Graphics/product-reviews/B091TWZF2Y/ref=cm_cr_dp_d_show_all_btm?ie=UTF8&reviewerType=all_reviews', 'https://www.amazon.in/Acer-Aspire-Intel-Core-i3-10th/product-reviews/B088CFBQFN/ref=cm_cr_dp_d_show_all_btm?ie=UTF8&reviewerType=all_reviews', 'https://www.amazon.in/HP-245-G7-AMD-Ryzen/product-reviews/B08KQGQYRC/ref=cm_cr_dp_d_show_all_btm?ie=UTF8&reviewerType=all_reviews', 'https://www.amazon.in/ASUS-VivoBook14-Integrated-14-1-inch-M415DA-EB502TS/product-reviews/B08ZJ2HFQ2/ref=cm_cr_dp_d_show_all_btm?ie=UTF8&reviewerType=all_reviews', 'https://www.amazon.in/AVITA-NS14A8INF542-CS-i5-10210U-Keyboard-Fingerprint/product-reviews/B099F6BLDC/ref=cm_cr_dp_d_show_all_btm?ie=UTF8&reviewerType=all_reviews', 'https://www.amazon.in/Dell-Inspiron-3505-Integrated-D560361WIN9B/product-reviews/B097SZZ4TV/ref=cm_cr_dp_d_show_all_btm?ie=UTF8&reviewerType=all_reviews', 'https://www.amazon.in/ASUS-15-6-inch-RTX-3050-Graphics-FA506IC-HN005T/product-reviews/B09CCW5XVM/ref=cm_cr_dp_d_show_all_btm?ie=UTF8&reviewerType=all_reviews', 'https://www.amazon.in/Dell-Inspiron-3501-15-6-inch-i5-1135G7/product-reviews/B08VRSHJKL/ref=cm_cr_dp_d_show_all_btm?ie=UTF8&reviewerType=all_reviews', 'https://www.amazon.in/ASUS-VivoBook-S532EQ-BQ702TS-I7-1165G7-SILVER/product-reviews/B08PZ3VRCS/ref=cm_cr_dp_d_show_all_btm?ie=UTF8&reviewerType=all_reviews', 'https://www.amazon.in/Renewed-Digital-15-6-inch-Windows-CX7/product-reviews/B095224LRK/ref=cm_cr_dp_d_show_all_btm?ie=UTF8&reviewerType=all_reviews', 'https://www.amazon.in/Lenovo-IdeaPad-Keyboard-Warranty-82H80156IN/product-reviews/B09BCSPX7X/ref=cm_cr_dp_d_show_all_btm?ie=UTF8&reviewerType=all_reviews', 'https://www.amazon.in/Lenovo-IdeaPad-39-63cm-Windows-82EY00V1IN/product-reviews/B094XBL1B1/ref=cm_cr_dp_d_show_all_btm?ie=UTF8&reviewerType=all_reviews', 'https://www.amazon.in/Fujitsu-33-78cm-Graphics-Fingerprint-4ZR1D67595/product-reviews/B098P1K6W9/ref=cm_cr_dp_d_show_all_btm?ie=UTF8&reviewerType=all_reviews', 'https://www.amazon.in/Dell-Display-Integrated-Graphics-D552166WIN9DE/product-reviews/B08X4P5TVN/ref=cm_cr_dp_d_show_all_btm?ie=UTF8&reviewerType=all_reviews', 'https://www.amazon.in/HP-Pavilion-Processor-16-1-inch-16-a0022TX/product-reviews/B08CGJ5K3V/ref=cm_cr_dp_d_show_all_btm?ie=UTF8&reviewerType=all_reviews', 'https://www.amazon.in/Dell-Inspiron-i3-1005G1-Integrated-D560397WIN9BE/product-reviews/B08MQ67ZX3/ref=cm_cr_dp_d_show_all_btm?ie=UTF8&reviewerType=all_reviews', 'https://www.amazon.in/Lenovo-15-6-inch-Integrated-Graphics-82C700HXIH/product-reviews/B095JW3CCX/ref=cm_cr_dp_d_show_all_btm?ie=UTF8&reviewerType=all_reviews', 'https://www.amazon.in/Renewed-HP-Chromebook-Graphics-14a-na0002TU/product-reviews/B08PKSL9NL/ref=cm_cr_dp_d_show_all_btm?ie=UTF8&reviewerType=all_reviews', 'https://www.amazon.in/HP-i3-1115G4-Windows-Graphics-42V68PA/product-reviews/B096G1V3RC/ref=cm_cr_dp_d_show_all_btm?ie=UTF8&reviewerType=all_reviews', 'https://www.amazon.in/Dell-Inspiron-3501-Integrated-D560420WIN9B/product-reviews/B094Y5YJ1P/ref=cm_cr_dp_d_show_all_btm?ie=UTF8&reviewerType=all_reviews', 'https://www.amazon.in/Lenovo-IdeaPad-i5-9300HF-39-63cm-81LK01QTIN/product-reviews/B092MTLNBB/ref=cm_cr_dp_d_show_all_btm?ie=UTF8&reviewerType=all_reviews', 'https://www.amazon.in/HP-cf3006tu-14-inch-i3-1005G1-Graphics/product-reviews/B08CHWNVNH/ref=cm_cr_dp_d_show_all_btm?ie=UTF8&reviewerType=all_reviews', 'https://www.amazon.in/HP-Laptop-15-6-inch-Windows-15s-fq2535TU/product-reviews/B08XNYN5QV/ref=cm_cr_dp_d_show_all_btm?ie=UTF8&reviewerType=all_reviews', 'https://www.amazon.in/Lenovo-IdeaPad-i7-11370H-39-63cm-82K1004EIN/product-reviews/B09BJ7GD7B/ref=cm_cr_dp_d_show_all_btm?ie=UTF8&reviewerType=all_reviews', 'https://www.amazon.in/Dell-Inspiron-i3-1005G1-Integrated-D560421WIN9S/product-reviews/B08X4NB38M/ref=cm_cr_dp_d_show_all_btm?ie=UTF8&reviewerType=all_reviews', 'https://www.amazon.in/Lenovo-15-inch-Laptop-Windows-81YD001MIH/product-reviews/B086XRYW2S/ref=cm_cr_dp_d_show_all_btm?ie=UTF8&reviewerType=all_reviews', 'https://www.amazon.in/Dell-Inspiron-3501-i5-1135G7-Graphics/product-reviews/B08QCKPLZX/ref=cm_cr_dp_d_show_all_btm?ie=UTF8&reviewerType=all_reviews', 'https://www.amazon.in/Lenovo-IdeaPad-Business-Fingerprint-82H700J8IN/product-reviews/B096SHTH39/ref=cm_cr_dp_d_show_all_btm?ie=UTF8&reviewerType=all_reviews', 'https://www.amazon.in/Dell-Inspiron-3501-i5-1135G7-Windows/product-reviews/B091N715Q8/ref=cm_cr_dp_d_show_all_btm?ie=UTF8&reviewerType=all_reviews', 'https://www.amazon.in/Dell-Inspiron-15-6-inch-Laptop-Graphics/product-reviews/B08KY7QQ7H/ref=cm_cr_dp_d_show_all_btm?ie=UTF8&reviewerType=all_reviews', 'https://www.amazon.in/HP-Laptop-Graphics-Windows-15s-fr2005tu/product-reviews/B08P8JCWM2/ref=cm_cr_dp_d_show_all_btm?ie=UTF8&reviewerType=all_reviews', 'https://www.amazon.in/Lenovo-Intel-Laptop-Windows-82C500XWIH/product-reviews/B0979M3Z9W/ref=cm_cr_dp_d_show_all_btm?ie=UTF8&reviewerType=all_reviews', nan, nan, 'https://www.amazon.in/ASUS-Vivobook-M712UA-AU521TS-Transparent-International/product-reviews/B097PMDLWG/ref=cm_cr_dp_d_show_all_btm?ie=UTF8&reviewerType=all_reviews', 'https://www.amazon.in/HP-Processor-Graphics-15-6-inch-15s-er1007AU/product-reviews/B0979FNWGM/ref=cm_cr_dp_d_show_all_btm?ie=UTF8&reviewerType=all_reviews', 'https://www.amazon.in/Fujitsu-Convertible-Business-Graphics-4ZR1D71993/product-reviews/B098P4M233/ref=cm_cr_dp_d_show_all_btm?ie=UTF8&reviewerType=all_reviews', 'https://www.amazon.in/Renewed-HP-14-inch-Windows-14s-dr2015TU/product-reviews/B097Y23NGB/ref=cm_cr_dp_d_show_all_btm?ie=UTF8&reviewerType=all_reviews', 'https://www.amazon.in/Apple-MacBook-Chip-13-inch-512GB/product-reviews/B08N5YD6NF/ref=cm_cr_dp_d_show_all_btm?ie=UTF8&reviewerType=all_reviews', nan, 'https://www.amazon.in/Certified-Refurbished-Lenovo-T440-Integrated/product-reviews/B07GCL6J69/ref=cm_cr_dp_d_show_all_btm?ie=UTF8&reviewerType=all_reviews', 'https://www.amazon.in/MSI-Modern-14-Core-11th/product-reviews/B09FPBZQDL/ref=cm_cr_dp_d_show_all_btm?ie=UTF8&reviewerType=all_reviews', 'https://www.amazon.in/Acer-A315-23-15-6-inch-5-3500U-Graphics/product-reviews/B088CDKJ7V/ref=cm_cr_dp_d_show_all_btm?ie=UTF8&reviewerType=all_reviews', 'https://www.amazon.in/HP-Pavilion-Processor-15-6-inch-15-dk1508TX/product-reviews/B08ZN6KNP1/ref=cm_cr_dp_d_show_all_btm?ie=UTF8&reviewerType=all_reviews', 'https://www.amazon.in/HP-Pavilion-15-6-inch-Fingerprint-15-eh1103AU/product-reviews/B09DGDW4Y1/ref=cm_cr_dp_d_show_all_btm?ie=UTF8&reviewerType=all_reviews', 'https://www.amazon.in/HP-Pavilion-Touchscreen-i3-10110U-14-dh1178tu/product-reviews/B08L28CF3G/ref=cm_cr_dp_d_show_all_btm?ie=UTF8&reviewerType=all_reviews', 'https://www.amazon.in/Acer-SF313-52-13-5-inch-i5-1035G4-Integrated/product-reviews/B08DFB8SMH/ref=cm_cr_dp_d_show_all_btm?ie=UTF8&reviewerType=all_reviews', 'https://www.amazon.in/ASUS-VivoBook-i3-10110U-Integrated-X409FA-EK617T/product-reviews/B09C8RD7BM/ref=cm_cr_dp_d_show_all_btm?ie=UTF8&reviewerType=all_reviews', 'https://www.amazon.in/LG-Ultra-Light-16-inches-Thunderbolt-16Z90P-G-AJ55A2/product-reviews/B09B7Z9M85/ref=cm_cr_dp_d_show_all_btm?ie=UTF8&reviewerType=all_reviews', 'https://www.amazon.in/Lenovo-Ideapad-Laptop-Windows-81W100HHIN/product-reviews/B08G5M5WTG/ref=cm_cr_dp_d_show_all_btm?ie=UTF8&reviewerType=all_reviews', 'https://www.amazon.in/TravisLappy-15-G-15-R-250-LS-A991P/product-reviews/B092DDHZCM/ref=cm_cr_dp_d_show_all_btm?ie=UTF8&reviewerType=all_reviews', 'https://www.amazon.in/Dell-Inspiron-Display-Graphics-D560338WIN9S/product-reviews/B08HPY2N4W/ref=cm_cr_dp_d_show_all_btm?ie=UTF8&reviewerType=all_reviews', 'https://www.amazon.in/Renewed-HP-Elitebook-Laptop-640G1/product-reviews/B094Q8F8K4/ref=cm_cr_dp_d_show_all_btm?ie=UTF8&reviewerType=all_reviews', nan, 'https://www.amazon.in/Dell-Inspiron-Display-Graphics-D560332WIN9S/product-reviews/B08X4PJG61/ref=cm_cr_dp_d_show_all_btm?ie=UTF8&reviewerType=all_reviews', 'https://www.amazon.in/ASUS-17-3-inch-i7-11800H-GeForce-RTX-3050-Ti-FX766HE-HX022T/product-reviews/B0987S6PG1/ref=cm_cr_dp_d_show_all_btm?ie=UTF8&reviewerType=all_reviews', 'https://www.amazon.in/Dell-Inspiron-5502-15-6-inch-i5-1135G7/product-reviews/B08LSCMTFS/ref=cm_cr_dp_d_show_all_btm?ie=UTF8&reviewerType=all_reviews', 'https://www.amazon.in/HP-Pavilion-Touchscreen-Convertible-14-dw1036TU/product-reviews/B08SRDW9ZT/ref=cm_cr_dp_d_show_all_btm?ie=UTF8&reviewerType=all_reviews', 'https://www.amazon.in/Lenovo-IdeaPad-Windows-Graphics-82EY00U4IN/product-reviews/B096SKGTCG/ref=cm_cr_dp_d_show_all_btm?ie=UTF8&reviewerType=all_reviews', 'https://www.amazon.in/HP-Pavilion-Processor-15-6-inch-15-dk1146TX/product-reviews/B091FH823X/ref=cm_cr_dp_d_show_all_btm?ie=UTF8&reviewerType=all_reviews', 'https://www.amazon.in/Renewed-Digital-15-6-inch-Windows-CX7/product-reviews/B095224LRK/ref=cm_cr_dp_d_show_all_btm?ie=UTF8&reviewerType=all_reviews', 'https://www.amazon.in/HP-15-6-inch-Windows-Natural-15s-eq2042AU/product-reviews/B099VZ7493/ref=cm_cr_dp_d_show_all_btm?ie=UTF8&reviewerType=all_reviews', nan, 'https://www.amazon.in/ASUS-VivoBook-15-6-inch-Integrated-M513IA-BQ712TS/product-reviews/B098F4MWDG/ref=cm_cr_dp_d_show_all_btm?ie=UTF8&reviewerType=all_reviews', 'https://www.amazon.in/ASUS-Dash-F15-15-6-inch-i7-11370H-FX516PC-HN063T/product-reviews/B096KVJ5PC/ref=cm_cr_dp_d_show_all_btm?ie=UTF8&reviewerType=all_reviews', 'https://www.amazon.in/ASUS-VivoBook-i5-1135G7-Integrated-X415EA-EB572TS/product-reviews/B09BF65Z1V/ref=cm_cr_dp_d_show_all_btm?ie=UTF8&reviewerType=all_reviews', 'https://www.amazon.in/AVITA-NS14A8INF562-CS-14-inch-i5-10210U-Graphics/product-reviews/B08B25DWYF/ref=cm_cr_dp_d_show_all_btm?ie=UTF8&reviewerType=all_reviews', 'https://www.amazon.in/Acer-i7-11800H-15-6-inch-Graphics-Keyboard/product-reviews/B09B2DH1PD/ref=cm_cr_dp_d_show_all_btm?ie=UTF8&reviewerType=all_reviews', 'https://www.amazon.in/ASUS-VivoBook-i3-10110U-Integrated-X409FA-EK617T/product-reviews/B09C8RD7BM/ref=cm_cr_dp_d_show_all_btm?ie=UTF8&reviewerType=all_reviews', 'https://www.amazon.in/Inspiron-5584-15-6-inch-i5-8265U-Graphics/product-reviews/B07XJNBZ9S/ref=cm_cr_dp_d_show_all_btm?ie=UTF8&reviewerType=all_reviews', 'https://www.amazon.in/Lenovo-IdeaPad-15-6-inch-Windows-81Y4017UIN/product-reviews/B094XF92HG/ref=cm_cr_dp_d_show_all_btm?ie=UTF8&reviewerType=all_reviews', 'https://www.amazon.in/Envy-x360-Convertible-Touchscreen-13-ay0508AU/product-reviews/B098NNR5XH/ref=cm_cr_dp_d_show_all_btm?ie=UTF8&reviewerType=all_reviews', 'https://www.amazon.in/Lenovo-Ideapad-Windows-Graphics-81Y400E1IN/product-reviews/B08BSGG6V9/ref=cm_cr_dp_d_show_all_btm?ie=UTF8&reviewerType=all_reviews', nan, nan, 'https://www.amazon.in/HP-inches-Screen-Laptop-Windows/product-reviews/B093Q3R1VV/ref=cm_cr_dp_d_show_all_btm?ie=UTF8&reviewerType=all_reviews', 'https://www.amazon.in/Acer-Aspire-Core-8th-A315-53G-5968/product-reviews/B07YZLMFY4/ref=cm_cr_dp_d_show_all_btm?ie=UTF8&reviewerType=all_reviews', 'https://www.amazon.in/Microsoft-i5-1035G1-Touchscreen-Graphics-THH-00023/product-reviews/B08SX5XVBK/ref=cm_cr_dp_d_show_all_btm?ie=UTF8&reviewerType=all_reviews', 'https://www.amazon.in/HP-39-62cms-i5-1135G7-Integrated-15s-du3032TU/product-reviews/B08PQPRD69/ref=cm_cr_dp_d_show_all_btm?ie=UTF8&reviewerType=all_reviews', 'https://www.amazon.in/Acer-Aspire-Ryzen-Quad-3550H/product-reviews/B08XYKGB7X/ref=cm_cr_dp_d_show_all_btm?ie=UTF8&reviewerType=all_reviews', 'https://www.amazon.in/Lenovo-40-64cm-500Nits-Warranty-82JQ0062IN/product-reviews/B09B2YTM4M/ref=cm_cr_dp_d_show_all_btm?ie=UTF8&reviewerType=all_reviews', 'https://www.amazon.in/Hitachi-Processor-Ultralight-Notebook-Computer/product-reviews/B09BNQTFM2/ref=cm_cr_dp_d_show_all_btm?ie=UTF8&reviewerType=all_reviews', nan, 'https://www.amazon.in/Lenovo-V15-Windows-Graphics-82C7003PIH/product-reviews/B08HJJKDSH/ref=cm_cr_dp_d_show_all_btm?ie=UTF8&reviewerType=all_reviews', 'https://www.amazon.in/Dell-Inspiron-15-6-inch-i5-1135G7-Windows/product-reviews/B08Y6XG7K1/ref=cm_cr_dp_d_show_all_btm?ie=UTF8&reviewerType=all_reviews', 'https://www.amazon.in/Lenovo-IdeaPad-250Nits-Graphics-81Y4019EIN/product-reviews/B097TZMG7R/ref=cm_cr_dp_d_show_all_btm?ie=UTF8&reviewerType=all_reviews', 'https://www.amazon.in/HP-Pavilion-13-3-inch-Ceramic-13-bb0078TU/product-reviews/B09839P9XB/ref=cm_cr_dp_d_show_all_btm?ie=UTF8&reviewerType=all_reviews', 'https://www.amazon.in/Lenovo-14-inch-Windows-Professional-82C4016TIH/product-reviews/B08BXZF8PS/ref=cm_cr_dp_d_show_all_btm?ie=UTF8&reviewerType=all_reviews', 'https://www.amazon.in/Hitachi-Processor-Ultralight-Notebook-Computer/product-reviews/B09BNQTFM2/ref=cm_cr_dp_d_show_all_btm?ie=UTF8&reviewerType=all_reviews', 'https://www.amazon.in/HP-240-G8-3D0J1PA-I3-1005G1/product-reviews/B08ZXR8ZRP/ref=cm_cr_dp_d_show_all_btm?ie=UTF8&reviewerType=all_reviews', 'https://www.amazon.in/Vivobook-X515MA-EJ101T-PQC-N5030-TRANSPARENT-International/product-reviews/B08WLYZVSF/ref=cm_cr_dp_d_show_all_btm?ie=UTF8&reviewerType=all_reviews', 'https://www.amazon.in/HP-14-inch-i3-1005G1-Natural-14s-er0004TU/product-reviews/B08HHB9Q2M/ref=cm_cr_dp_d_show_all_btm?ie=UTF8&reviewerType=all_reviews', 'https://www.amazon.in/Lenovo-IdeaPad-Windows-Graphics-81Y40183IN/product-reviews/B096SK39ZB/ref=cm_cr_dp_d_show_all_btm?ie=UTF8&reviewerType=all_reviews', 'https://www.amazon.in/ASUS-Ryzen-Hexa-Core-M515UA-EJ512TS/product-reviews/B095M9T5W5/ref=cm_cr_dp_d_show_all_btm?ie=UTF8&reviewerType=all_reviews', 'https://www.amazon.in/ASUS-15-6-inch-i5-11300H-FX516PC-HN057T-Moonlight/product-reviews/B096KWK1DB/ref=cm_cr_dp_d_show_all_btm?ie=UTF8&reviewerType=all_reviews', 'https://www.amazon.in/Dell-E6420-i5-8-GB-500-GB-Integrated/product-reviews/B07LB4XRWC/ref=cm_cr_dp_d_show_all_btm?ie=UTF8&reviewerType=all_reviews', 'https://www.amazon.in/Lenovo-V145-AMD-A6-Laptop-Windows-81MTA000IH/product-reviews/B083C9RDCW/ref=cm_cr_dp_d_show_all_btm?ie=UTF8&reviewerType=all_reviews', 'https://www.amazon.in/HP-Pavilion-15-6-inch-Windows-15-eh1101AU/product-reviews/B09DGCZXQB/ref=cm_cr_dp_d_show_all_btm?ie=UTF8&reviewerType=all_reviews', 'https://www.amazon.in/Apple-MacBook-Chip-13-inch-256GB/product-reviews/B08N5VSQNG/ref=cm_cr_dp_d_show_all_btm?ie=UTF8&reviewerType=all_reviews', 'https://www.amazon.in/Lenovo-IdeaPad-Backlit-Fingerprint-82KT00BXIN/product-reviews/B096SKFBCF/ref=cm_cr_dp_d_show_all_btm?ie=UTF8&reviewerType=all_reviews']\n"
          ]
        }
      ]
    },
    {
      "cell_type": "code",
      "metadata": {
        "colab": {
          "base_uri": "https://localhost:8080/",
          "height": 593
        },
        "id": "wWEs1-mOdqXW",
        "outputId": "f54291e8-e777-4300-b7e2-14ead73e73a2"
      },
      "source": [
        "df_index=0\n",
        "for links in reveiw_link[:3]:\n",
        "  try:\n",
        "    filename=links.split('/')[3]\n",
        "    reveiws=get_Reveiw_df(filename)\n",
        "    reveiws['Actual Rating']=reveiws['Rating'].apply(lambda x : (x.split(' ')[0].strip()))\n",
        "    reveiws['Actual Rating']=pd.to_numeric(reveiws['Actual Rating'], downcast='float')\n",
        "    for index,row in reveiws.iterrows():\n",
        "      revt=reveiws.iat[index,-2]\n",
        "      #print(revt)\n",
        "      flag=re.findall(r'(?:Updated :)\\s\\d\\d\\s(?:January|February|March|April|May|June|July|August|September|October|November|December)\\s\\d{4}',revt)\n",
        "      if len(flag)>0:\n",
        "        comt=revt.split(flag[0])[-1]\n",
        "        reveiws.iat[index,-2]=comt\n",
        "    reveiws=get_polarity(reveiws)\n",
        "    reveiws['polarity']=reveiws['polarity'].astype('float')\n",
        "    reveiws['Tone']=None\n",
        "    reveiws.loc[reveiws['polarity']>0,['Tone']]='Good'\n",
        "    reveiws.loc[reveiws['polarity']==0,['Tone']]='Neutral'\n",
        "    reveiws.loc[reveiws['polarity']<0,['Tone']]='Bad'\n",
        "    \n",
        "    rev = '\\n'.join(reveiws[\"Reveiw Text\"])\n",
        "    all_rev= format_text(rev)\n",
        "    a=reveiws['Tone'].value_counts()\n",
        "    df.iat[df_index,-4]=str([a.index.to_list(),a.values.tolist()])\n",
        "    #print(rev)\n",
        "    aspects,counts=get_aspects(all_rev)\n",
        "    aspect_sent=[]\n",
        "    for i in range(len(aspects)):\n",
        "      if counts[i]>sum(counts)/len(counts):\n",
        "        aspect_sentence=re.findall(r'([^.]*'+aspects[i].lower()+'[^.]*)', rev.lower())\n",
        "        aspect_sent.append(format_text(aspect_sentence))\n",
        "    df.iat[df_index,-2]=aspect_sent\n",
        "    df.iat[df_index,-3]=[aspects,counts]\n",
        "    df.iat[df_index,-5]=reveiws['Actual Rating'].mean()\n",
        "    df_index+=1\n",
        "  except:\n",
        "    df_index+=1\n",
        "#reveiws.dtypes\n",
        "df.head(5)"
      ],
      "execution_count": null,
      "outputs": [
        {
          "output_type": "execute_result",
          "data": {
            "text/html": [
              "<div>\n",
              "<style scoped>\n",
              "    .dataframe tbody tr th:only-of-type {\n",
              "        vertical-align: middle;\n",
              "    }\n",
              "\n",
              "    .dataframe tbody tr th {\n",
              "        vertical-align: top;\n",
              "    }\n",
              "\n",
              "    .dataframe thead th {\n",
              "        text-align: right;\n",
              "    }\n",
              "</style>\n",
              "<table border=\"1\" class=\"dataframe\">\n",
              "  <thead>\n",
              "    <tr style=\"text-align: right;\">\n",
              "      <th></th>\n",
              "      <th>Unnamed: 0</th>\n",
              "      <th>Product_code</th>\n",
              "      <th>Product_name</th>\n",
              "      <th>Rating</th>\n",
              "      <th>number of reveiws</th>\n",
              "      <th>Price</th>\n",
              "      <th>Images</th>\n",
              "      <th>Link</th>\n",
              "      <th>Reveiw File</th>\n",
              "      <th>Reveiw Link</th>\n",
              "      <th>Avg Reveiw Rating</th>\n",
              "      <th>Tone</th>\n",
              "      <th>aspects and counts</th>\n",
              "      <th>aspect Sentences</th>\n",
              "      <th>aspect Sentence polarity</th>\n",
              "    </tr>\n",
              "  </thead>\n",
              "  <tbody>\n",
              "    <tr>\n",
              "      <th>0</th>\n",
              "      <td>0</td>\n",
              "      <td>B097RKZYGS</td>\n",
              "      <td>ASUS VivoBook 14 (2020), 14-inch (35.56 cms) F...</td>\n",
              "      <td>3.9</td>\n",
              "      <td>156</td>\n",
              "      <td>₹31,990</td>\n",
              "      <td>https://m.media-amazon.com/images/I/716bvqzz7P...</td>\n",
              "      <td>https://www.amazon.in/ASUS-VivoBook-Integrated...</td>\n",
              "      <td>/content/gdrive/MyDrive/Amazon_product_Reveiws...</td>\n",
              "      <td>https://www.amazon.in/ASUS-VivoBook-Business-I...</td>\n",
              "      <td>0.0</td>\n",
              "      <td>[['Good', 'Bad', 'Neutral'], [43, 13, 11]]</td>\n",
              "      <td>[['Good', 'Bad', 'Neutral'], [43, 13, 11]]</td>\n",
              "      <td></td>\n",
              "      <td></td>\n",
              "    </tr>\n",
              "    <tr>\n",
              "      <th>1</th>\n",
              "      <td>1</td>\n",
              "      <td>B08C5W6PL2</td>\n",
              "      <td>HP Chromebook 14-inch (35.56 cms) Thin &amp; Light...</td>\n",
              "      <td>3.9</td>\n",
              "      <td>766</td>\n",
              "      <td>₹25,999</td>\n",
              "      <td>https://m.media-amazon.com/images/I/613WULNEr1...</td>\n",
              "      <td>https://www.amazon.in/HP-Chromebook-14a-na0003...</td>\n",
              "      <td>/content/gdrive/MyDrive/Amazon_product_Reveiws...</td>\n",
              "      <td>https://www.amazon.in/HP-Chromebook-14a-na0003...</td>\n",
              "      <td>0.0</td>\n",
              "      <td>[['Good', 'Bad', 'Neutral'], [171, 63, 29]]</td>\n",
              "      <td>[['Good', 'Bad', 'Neutral'], [171, 63, 29]]</td>\n",
              "      <td></td>\n",
              "      <td></td>\n",
              "    </tr>\n",
              "    <tr>\n",
              "      <th>2</th>\n",
              "      <td>2</td>\n",
              "      <td>B08HJYFZ14</td>\n",
              "      <td>HP 15 AMD Athlon 15.6\" (39.62cms) HD Laptop (S...</td>\n",
              "      <td>3.5</td>\n",
              "      <td>483</td>\n",
              "      <td>₹25,999</td>\n",
              "      <td>https://m.media-amazon.com/images/I/61bkuSlKF4...</td>\n",
              "      <td>https://www.amazon.in/HP-Athlon-15-6-inch-Silv...</td>\n",
              "      <td>/content/gdrive/MyDrive/Amazon_product_Reveiws...</td>\n",
              "      <td>https://www.amazon.in/HP-Athlon-15-6-inch-Silv...</td>\n",
              "      <td>0.0</td>\n",
              "      <td>[['Good', 'Bad', 'Neutral'], [60, 47, 28]]</td>\n",
              "      <td>[['Good', 'Bad', 'Neutral'], [60, 47, 28]]</td>\n",
              "      <td></td>\n",
              "      <td></td>\n",
              "    </tr>\n",
              "    <tr>\n",
              "      <th>3</th>\n",
              "      <td>3</td>\n",
              "      <td>B08HJZHTM1</td>\n",
              "      <td>HP 15 Intel Pentium Gold 6405U Processor Entry...</td>\n",
              "      <td>3.4</td>\n",
              "      <td>843</td>\n",
              "      <td>₹25,999</td>\n",
              "      <td>https://m.media-amazon.com/images/I/71FB8qoB78...</td>\n",
              "      <td>https://www.amazon.in/HP-Pentium-Processor-15-...</td>\n",
              "      <td>/content/gdrive/MyDrive/Amazon_product_Reveiws...</td>\n",
              "      <td>https://www.amazon.in/HP-Pentium-Processor-15-...</td>\n",
              "      <td>0.0</td>\n",
              "      <td>[['Bad', 'Good', 'Neutral'], [106, 85, 49]]</td>\n",
              "      <td>[['Bad', 'Good', 'Neutral'], [106, 85, 49]]</td>\n",
              "      <td></td>\n",
              "      <td></td>\n",
              "    </tr>\n",
              "    <tr>\n",
              "      <th>4</th>\n",
              "      <td>4</td>\n",
              "      <td>B0924PSV78</td>\n",
              "      <td>RDP ThinBook 1010 - Intel Celeron Quad Core Pr...</td>\n",
              "      <td>3.4</td>\n",
              "      <td>258</td>\n",
              "      <td>₹19,990</td>\n",
              "      <td>https://m.media-amazon.com/images/I/51C6EHkMQp...</td>\n",
              "      <td>https://www.amazon.in/RDP-ThinBook-1010-Celero...</td>\n",
              "      <td>/content/gdrive/MyDrive/Amazon_product_Reveiws...</td>\n",
              "      <td>https://www.amazon.in/RDP-ThinBook-1010-Celero...</td>\n",
              "      <td>0.0</td>\n",
              "      <td>[['Good', 'Bad', 'Neutral'], [83, 40, 29]]</td>\n",
              "      <td>[['Good', 'Bad', 'Neutral'], [83, 40, 29]]</td>\n",
              "      <td></td>\n",
              "      <td></td>\n",
              "    </tr>\n",
              "  </tbody>\n",
              "</table>\n",
              "</div>"
            ],
            "text/plain": [
              "   Unnamed: 0 Product_code  ... aspect Sentences  aspect Sentence polarity\n",
              "0           0   B097RKZYGS  ...                                           \n",
              "1           1   B08C5W6PL2  ...                                           \n",
              "2           2   B08HJYFZ14  ...                                           \n",
              "3           3   B08HJZHTM1  ...                                           \n",
              "4           4   B0924PSV78  ...                                           \n",
              "\n",
              "[5 rows x 15 columns]"
            ]
          },
          "metadata": {},
          "execution_count": 13
        }
      ]
    },
    {
      "cell_type": "code",
      "metadata": {
        "id": "-xotas8djDSa",
        "colab": {
          "base_uri": "https://localhost:8080/",
          "height": 162
        },
        "outputId": "dd149232-039a-4978-d38e-7a2cb356c393"
      },
      "source": [
        "df.to_csv('hi.csv')"
      ],
      "execution_count": null,
      "outputs": [
        {
          "output_type": "error",
          "ename": "NameError",
          "evalue": "ignored",
          "traceback": [
            "\u001b[0;31m---------------------------------------------------------------------------\u001b[0m",
            "\u001b[0;31mNameError\u001b[0m                                 Traceback (most recent call last)",
            "\u001b[0;32m<ipython-input-14-08f232b00a9b>\u001b[0m in \u001b[0;36m<module>\u001b[0;34m()\u001b[0m\n\u001b[0;32m----> 1\u001b[0;31m \u001b[0msawq\u001b[0m\u001b[0;34m-\u001b[0m\u001b[0mdf\u001b[0m\u001b[0;34m.\u001b[0m\u001b[0mto_csv\u001b[0m\u001b[0;34m(\u001b[0m\u001b[0;34m'hi.csv'\u001b[0m\u001b[0;34m)\u001b[0m\u001b[0;34m\u001b[0m\u001b[0;34m\u001b[0m\u001b[0m\n\u001b[0m",
            "\u001b[0;31mNameError\u001b[0m: name 'sawq' is not defined"
          ]
        }
      ]
    },
    {
      "cell_type": "code",
      "metadata": {
        "colab": {
          "base_uri": "https://localhost:8080/"
        },
        "id": "0XdJo2dzqU8s",
        "outputId": "8daa2c33-aa6d-4c99-f4ef-da15b6522a8a"
      },
      "source": [
        "#print(len(reveiws))\n",
        "a=reveiws['Tone'].value_counts()\n",
        "df['Tone']=[a.index.to_list(),a.values.tolist()])"
      ],
      "execution_count": null,
      "outputs": [
        {
          "output_type": "stream",
          "name": "stdout",
          "text": [
            "[['Good', 'Bad', 'Neutral'], [40, 10, 8]]\n"
          ]
        }
      ]
    },
    {
      "cell_type": "code",
      "metadata": {
        "colab": {
          "base_uri": "https://localhost:8080/",
          "height": 206
        },
        "id": "k9s-GOzRsGRW",
        "outputId": "ac6ce44d-02cb-4fab-d54d-e5d8d3515134"
      },
      "source": [
        "reveiws.head()"
      ],
      "execution_count": null,
      "outputs": [
        {
          "output_type": "execute_result",
          "data": {
            "text/html": [
              "<div>\n",
              "<style scoped>\n",
              "    .dataframe tbody tr th:only-of-type {\n",
              "        vertical-align: middle;\n",
              "    }\n",
              "\n",
              "    .dataframe tbody tr th {\n",
              "        vertical-align: top;\n",
              "    }\n",
              "\n",
              "    .dataframe thead th {\n",
              "        text-align: right;\n",
              "    }\n",
              "</style>\n",
              "<table border=\"1\" class=\"dataframe\">\n",
              "  <thead>\n",
              "    <tr style=\"text-align: right;\">\n",
              "      <th></th>\n",
              "      <th>Customer Name</th>\n",
              "      <th>Rating</th>\n",
              "      <th>Reveiw Title</th>\n",
              "      <th>Reveiw Text</th>\n",
              "      <th>polarity</th>\n",
              "      <th>Tone</th>\n",
              "    </tr>\n",
              "  </thead>\n",
              "  <tbody>\n",
              "    <tr>\n",
              "      <th>0</th>\n",
              "      <td>Aubrey Khoza</td>\n",
              "      <td>2.0 out of 5 stars</td>\n",
              "      <td>The computer keeps on freezing when busy using...</td>\n",
              "      <td>The Laptop keeps on freezing whenever your usi...</td>\n",
              "      <td>0.000000</td>\n",
              "      <td>Neutral</td>\n",
              "    </tr>\n",
              "    <tr>\n",
              "      <th>1</th>\n",
              "      <td>Keshaw</td>\n",
              "      <td>5.0 out of 5 stars</td>\n",
              "      <td>I am loving it</td>\n",
              "      <td>Still working the same as on day 1. No issues ...</td>\n",
              "      <td>0.275159</td>\n",
              "      <td>Good</td>\n",
              "    </tr>\n",
              "    <tr>\n",
              "      <th>2</th>\n",
              "      <td>Steve smith</td>\n",
              "      <td>4.0 out of 5 stars</td>\n",
              "      <td>Just an average device, should be fine for dai...</td>\n",
              "      <td>Don't expect anything magical at this price po...</td>\n",
              "      <td>0.154167</td>\n",
              "      <td>Good</td>\n",
              "    </tr>\n",
              "    <tr>\n",
              "      <th>3</th>\n",
              "      <td>Ayush Sengupta</td>\n",
              "      <td>4.0 out of 5 stars</td>\n",
              "      <td>Display Issue!</td>\n",
              "      <td>I dont know whether my device is faulty or not...</td>\n",
              "      <td>0.121131</td>\n",
              "      <td>Good</td>\n",
              "    </tr>\n",
              "    <tr>\n",
              "      <th>4</th>\n",
              "      <td>Thunderbird</td>\n",
              "      <td>4.0 out of 5 stars</td>\n",
              "      <td>Great laptop with just a couple of misses</td>\n",
              "      <td>Laptop is good for home use.  SSD, as expected...</td>\n",
              "      <td>0.095701</td>\n",
              "      <td>Good</td>\n",
              "    </tr>\n",
              "  </tbody>\n",
              "</table>\n",
              "</div>"
            ],
            "text/plain": [
              "    Customer Name              Rating  ...  polarity     Tone\n",
              "0    Aubrey Khoza  2.0 out of 5 stars  ...  0.000000  Neutral\n",
              "1          Keshaw  5.0 out of 5 stars  ...  0.275159     Good\n",
              "2     Steve smith  4.0 out of 5 stars  ...  0.154167     Good\n",
              "3  Ayush Sengupta  4.0 out of 5 stars  ...  0.121131     Good\n",
              "4     Thunderbird  4.0 out of 5 stars  ...  0.095701     Good\n",
              "\n",
              "[5 rows x 6 columns]"
            ]
          },
          "metadata": {},
          "execution_count": 11
        }
      ]
    },
    {
      "cell_type": "code",
      "metadata": {
        "id": "i0bUPth9vD5C",
        "colab": {
          "base_uri": "https://localhost:8080/"
        },
        "outputId": "870e1c49-8ef1-48bc-eab6-d49ca9222d56"
      },
      "source": [
        "reveiws['Tone'].value_counts()\n"
      ],
      "execution_count": null,
      "outputs": [
        {
          "output_type": "execute_result",
          "data": {
            "text/plain": [
              "Good       40\n",
              "Bad        10\n",
              "Neutral     8\n",
              "Name: Tone, dtype: int64"
            ]
          },
          "metadata": {},
          "execution_count": 10
        }
      ]
    },
    {
      "cell_type": "code",
      "metadata": {
        "colab": {
          "base_uri": "https://localhost:8080/"
        },
        "id": "SPWKRQIMRumE",
        "outputId": "16a962dd-50fa-4e03-f81d-3a03f14445c9"
      },
      "source": [
        "rev = '\\n'.join(reveiws[\"Reveiw Text\"])\n",
        "rev= format_text(rev)\n",
        "#print(rev)\n",
        "print(get_aspects(rev))\n"
      ],
      "execution_count": null,
      "outputs": [
        {
          "output_type": "stream",
          "name": "stdout",
          "text": [
            "the laptop keeps on freezing whenever your using it  how can  i resolve the problem still working the same as on day 1  no issues so far  update on battery life  i was wrong  it goes     hrs easily  if you go for another laptop  make sure that have ssd  it does magical performance improvements and increase battery life          this seems to be the best laptop below  0k  got in    00   absolutely premium look and performance 1  display is above average but not the best per fhd configuration    performance is awesome  mainly due to ryzen   and ssd memory    fingerprint sensor is perfect    very light weight and portable  size is perfect    sound is awesome    battery goes up to     hrs easily cons  power button is placed beside the delete key within keyboard  many times you go for delete but shutdown the laptop  i just disabled the action of power button from windows settings so nothing happen if i press power button accidentally  no issues now overall good for home office use and can be worked on heavy coding applications too  but did not try games so no comments on that don t expect anything magical at this price point  it s an average laptop meant for average office work or study purposes  the laptop may seem laggy at the beginning  that s because of the pre installed mcafee antivirus  just uninstall it and you should be fine  would not suggest it for gaming i dont know whether my device is faulty or not  but i am observinf a weird issue right from the first day of usage  when i turn on the laptop everything is fine  then if i close the screen lid and open it again after sometime the display becomes yellowish like the night mode   but night mode stays off  if i restart the laptop  then everything becomes fine again  i hope this issue gets fixed by future software updates laptop is good for home use   ssd  as expected makes a big difference to the speed  not much bloatware   performance is great for home use  office 01  works well   no heating issues so far   laptop does have a good battery life atleast to last     hours with good use    silly  things that the laptop could ve done better with  1  speaker volume is quite low  video calls conferences under a fan would be tough   can be sorted with a bluetooth speaker    camera is of decent quality  yet lacks an overall glass closure  that could ve avoided dust settling within the camera cavity    as pointed out by few  the power button is oddly placed at the right end next to a heavily used delete key   within a couple of days  i  accidentally put the laptop to sleep atleast for   times  so  takes a bit of getting used    base plastic feels a bit flimsy  but does hold up well  not a big issue overall a great laptop for the price    k  and none of the cons are deal readers for me this is budget laptop so there isn t point talking about gaming  laptop comes with   bit windows 10 preinstalled for which  gb ram isn t enough   either install one more   gb ram or else use    bit because only downside of this system is ram idle windows 10 takes like  0    like every one already commented  remove macaffe antivirus completely  it slows the system a lot   ryzen   is good enough for browsing  ms office   vc etc    power back up is really good  finger print is nice addition on a budget laptop   no ethernet port though but type c and type a   1 makes up for that  overall it s the best one this price range very poor quality product  completely unsatisfied  better buy from store after checking defective product don t want money in it  better buy from store design         nice build quality without metal body  doesn t feel cheap  keypad is at bottom with couple of mm from the surface in this new m 1 da series  apart from m 0 da  proformance        with  gb ram and    gb ssd along with its processor initially i found that its quite quick in booting up within    sec even opening apps  didn t find any issue like heating  battery         first of all this model m 1 da comes with   whrs m 0 da comes with   whrs   mi notebook el comes with   whrs  battery capacity  battery backup is at least     hrs  charging is also good  screen         it s not ips display so viewing angles are not good  specially white balance light changes with different angles  also asus optimization settings force screen to be yellowish anytime  this setting can be changed if you want  speakers         initially i found that the sound was very low  i changed some realtek sound console settings and then the volume increased almost double  now i have no problem with it  misc      web cam is poor  useless in low light conditions although most laptop have same problem even in      k price range  but good thing is you get fp reader which is quite fast it is worth the value pros performance by ryzen   and ssd is bestbooting time is   to   secsbody is durable metal chassischiclet keyboard is goodhd screen with self adjusting brightnesswifi  bluetooth connection is fastled indicatorsno gaming lags fingerprint sensors is too fastcons camera is not hd  but okay for video calls the hinge is not that good  screen wobbles a little but looking at the price its more than enough got it for     0   in republic day salebuild quality and performance is good   ram ssd upgrades are possible    gb wasn t enough  i added a g skill ripjawss  gb additionally  now it s very good and meets my basic needs this laptop definitely need an m   nvme ssd to get that snappiness you will not like its performance with pre installed hard drive  webcam is beloew average in this segment  screen quality and build quality is good  overall you can consider this laptop but with an ssd upgrade it is a nice and a quick laptop in starting days it should work in future as it works now  but power button should be given seperatly sound should be more better than now overall all good thanks asus perfect laptop important   uninstall mcafee antivirus as soon as possible  it slows down the laptop a lot  also finish all updates from microsoft the laptop was very slow the first day  but after a week of use it has improved a lot pros 1  good display  keyboard   pretty fast  easily runs cs go on medium settings    boot up time is pretty good   fingerprint scanner is very convenient   long battery lifecons 1  sound is dull  but i use earphones so it doesn t matter   average cameraat starting for the first time itself is hanging like crazy  all apps crashing  the laptop has no volume  even on 100 i ve to stick ear near speaker to understand  it s a very slow laptop  rather you buy something with ssdeverything thing is fine but camera quality is poor because of vga camand ram is only  gb so you can upgrade for better performancevery good product from asus at this price range     ssd is lightening fast     screen could have been better     sound is awesome     batter life is also good     overall it s a really nice laptop for working professionals and students    it s a laptop with all the things included to help the laptop run smoothly due to ssd included it gets started within fraction of seconds worth the price best for office useit s good  not bad at all  quality has been maintained  but sometimes the laptop automatically freezes  do not know if it s the windows or the ryzen processor  battery is decent  could have been better  camera is average definitely not for hardcore working professionals but the best choice for students  impressive this laptop avrage camera quality bad and speaker sound low and display side angle colour blur  and battery  hours working normal uses and design good performance good boot time is also goodyou can and on it after ram and storage upgradation but don t recommend to game on itother wise beast in small bugdetbattery is average of   to   will surfing internet and 1   to  hour will gaming  nsf most wanted if you are a student must buy if you have a small bugdetvery nice good quality and features  better performance than expected  laptop is very good in terms of design and looks  screen is of decent quality  sound is very less  good for medium works  overall it s it s very good budget laptop   camera not working  difficult to reach tech support  customer hotline non responsive after holding for 10 minutes  still in warranty but no use if one cant go through nice laptop  good battery ok for normal work  light gaming can do internet surfing and more handy keyboard   low web camera quality although enough   average battery life   to   hours when on wifi  but upto 10 hours when offline it is a good laptop in this price range  laptop is little bit slow because it has only hdd in this laptop ssd slot is available  overall laptop is good after using it for 1 week 1   uninstalled hdd kit    no backlit as it was mentioned in the product detail    battery performance is very low     it s was mentioned that the storage will be of     gb and it s    gb instead of    gb      lap is worth for  0 k rs most of the features are available but camera is very poorfrom day 1 itself microphone jack is not working  i ordered this laptop once  it was lagging so i replaced it when i  received replaced product it was having same issues  i suggest plz avoid buying it and save you money0   camera quality is very bad 1   speakers sound us very low     performance is achieved after installing nvme m   ssd this product is good but there is one mistake in it is it s battery is not quite goodand the fingerprint is waste total waste is only to show off it doesn t scan properlylaptop is good but battery life is very badi think it will be more helpful if this product has  gb of memoryinstead of finger print unlockdon t think just buy it     overall a good product in good price sound and webcam quality is horrible  try to choose ssd version for nice performance  average product but kinda disspointed with audio qualityprocessor is not upto the mark    otherwise fantastic product    keyboard is just awesomeits very slow  don t waste your money but if you want baddest experience of your life only in that case you should go we this laptopdon t buy    not any gaming possible at all  very slow  freezes all the the time even in   tabs in microsoft edge poor volume  to hear anything we need some external speakers product offers value for this price range however i am disappointed with the display quality  it is below average in terms of clarityover all good   value for moneyvery slow and it heats up too    amazon service not willing to acknowledge this as a problem product is very nice    very gud purchase in this price  serves it purpose  th screen is a bit dim though   gb ram is very low for this devicenot for good gaming but i love it on everythingeverything is good except sound very low soundit keeps freezingworks super coolbest laptop under  0kits awesome for study purpose and office usegood productbooting very  slow  browser  speed like old celeron system every time need updates totaly waste of time i think my old hp compag is better than  this asus laptoplaptop is really good   very light weightyou can also add ram and ssd i didn t upgrade but it s working fine fingerprint sensor is super fast and it has 10 0p display very cleardon t purchase any asus product however it offers at no cost    don t purchase any asus product however it offers at no cost i purchased i   gb 1tb and no resolution found for my issue they replied i have to pay extra chargethis is an average laptop where by spending a bit more you can convert this into splendid one  upgrade the ram to   gb and addition of extra     ssd asus customer care is pathetic  at   k this device is overpriced  when you will receive this  you will not be able to work at all  as it will keep freezing  this is a super slow device  also sound is very low  now you will have to uninstall mcfee antivirus  remove one drive from sync  go to startup app and remove all the app at startup  remove unnecessary app  do windows update  also remove ms office as that is of no use because that s the trail version for  0 days and even for that you will have give your card details  once you do all this it s good to go for basic use very slow not reponsive sluggish better go for another brand dont know why add more money and get another one screen quality is good thank you one of the  best laptop in this price range \n"
          ]
        }
      ]
    },
    {
      "cell_type": "markdown",
      "metadata": {
        "id": "C4HNdxxLuXnF"
      },
      "source": [
        "# test code"
      ]
    },
    {
      "cell_type": "code",
      "metadata": {
        "id": "5zTjQHeBdy9B"
      },
      "source": [
        "aspects,counts=get_aspects(rev)"
      ],
      "execution_count": null,
      "outputs": []
    },
    {
      "cell_type": "code",
      "metadata": {
        "colab": {
          "base_uri": "https://localhost:8080/"
        },
        "id": "y9xIczZTlA5r",
        "outputId": "270c0853-1fa4-4462-db1b-b780f3a2cd26"
      },
      "source": [
        "#print([aspects,counts])\n",
        "#reveiws['aspect_sentence']=reveiws['Reveiw Text'].apply(lambda x : pick_only_key_sentence(x,aspects[:5]))\n",
        "rev = '\\n'.join(reveiws[\"Reveiw Text\"])\n",
        "aspect_sent=[]\n",
        "for i in range(len(aspect)):\n",
        "  if counts[i]>sum(counts)/len(counts):\n",
        "    aspect_sent.append(re.findall(r'([^.]*'+aspects[i].lower()+'[^.]*)', rev.lower()))\n",
        "print(aspect_sent[0])\n"
      ],
      "execution_count": null,
      "outputs": [
        {
          "output_type": "stream",
          "name": "stdout",
          "text": [
            "['the laptop keeps on freezing whenever your using it', ' if you go for another laptop, make sure that have ssd', '---------this seems to be the best laptop below 30k (got in 28500)', ' many times you go for delete but shutdown the laptop', \" it's an average laptop meant for average office work or study purposes\", \" the laptop may seem laggy at the beginning, that's because of the pre-installed mcafee antivirus, just uninstall it and you should be fine\", ' when i turn on the laptop everything is fine', ' if i restart the laptop, then everything becomes fine again', '\\nlaptop is good for home use', '  laptop does have a good battery life atleast to last 4-5 hours with good use', \"4 (silly) things that the laptop could've done better with -1\", '  within a couple of days, i  accidentally put the laptop to sleep atleast for 5 times', 'overall a great laptop for the price (29k) and none of the cons are deal readers for me', '\\nthis is budget laptop so there isn’t point talking about gaming', ' laptop comes with 64bit windows 10 preinstalled for which 4gb ram isn’t enough ', ' finger print is nice addition on a budget laptop ', ' web cam is poor, useless in low light conditions although most laptop have same problem even in 35-45k price range', '\\nthis laptop definitely need an m', ' overall you can consider this laptop but with an ssd upgrade', '\\nit is a nice and a quick laptop in starting days it should work in future as it works now ', 'but power button should be given seperatly sound should be more better than now overall all good thanks asus perfect laptop\\n*important*: uninstall mcafee antivirus as soon as possible', ' it slows down the laptop a lot', 'the laptop was very slow the first day, but after a week of use it has improved a lot', \" the laptop has no volume, even on 100 i've to stick ear near speaker to understand\", \" it's a very slow laptop, rather you buy something with ssd\\neverything thing is fine but camera quality is poor because of vga camand ram is only 4gb so you can upgrade for better performance\\nvery good product from asus at this price range\", \" overall it's a really nice laptop for working professionals and students\", \"\\nit's a laptop with all the things included to help the laptop run smoothly\", 'best for office use\\nit’s good, not bad at all, quality has been maintained, but sometimes the laptop automatically freezes, do not know if it’s the windows or the ryzen processor', '\\nthis laptop avrage camera quality bad and speaker sound low and display side angle colour blur', ' better performance than expected 💯\\nlaptop is very good in terms of design and looks', \" overall it's it's very good budget laptop\", '\\nnice laptop, good battery ok for normal work, light gaming can do internet surfing and more', '\\nit is a good laptop in this price range ', 'laptop is little bit slow because it has only hdd', 'in this laptop ssd slot is available ', 'overall laptop is good after using it for 1 week', '\\nlap is worth for 30 k rs most of the features are available but camera is very poor\\nfrom day 1 itself microphone jack is not working 😭\\ni ordered this laptop once, it was lagging so i replaced it when i  received replaced product it was having same issues', \"\\nthis product is good but there is one mistake in it is it's battery is not quite goodand the fingerprint is waste total waste is only to show off it doesn't scan properly\\nlaptop is good but battery life is very bad\\ni think it will be more helpful if this product has 8gb of memoryinstead of finger print unlock\\ndon't think just buy it\", ' keyboard is just awesome\\nits very slow, don\\'t waste your money but if you want baddest experience of your life only in that case you should go we this laptop\\ndon\\'t buy\", \\'not any gaming possible at all, very slow, freezes all the the time even in 2 tabs in microsoft edge', 'very low sound\\nit keeps freezing\\nworks super coolbest laptop under 30k\\nits awesome for study purpose and office use\\ngood product\\nbooting very  slow  browser  speed like old celeron system every time need updates totaly waste of time i think my old hp compag is better than  this asus laptop\\nlaptop is really good 👍 very light weightyou can also add ram and ssd i didn\\'t upgrade but it\\'s working fine fingerprint sensor is super fast and it has 1080p display very clear\\ndon\\'t purchase any asus product however it offers at no cost\", \"don\\'t purchase any asus product however it offers at no cost i purchased i3 4gb 1tb and no resolution found for my issue they replied i have to pay extra charge\\nthis is an average laptop where by spending a bit more you can convert this into splendid one', '\\none of the  best laptop in this price range,\\n']\n"
          ]
        }
      ]
    },
    {
      "cell_type": "code",
      "metadata": {
        "colab": {
          "base_uri": "https://localhost:8080/"
        },
        "id": "rVspFJQCq9an",
        "outputId": "2a9a7fc1-cd9e-48d6-e8ae-188e49b85cb3"
      },
      "source": [
        "revs1=[]\n",
        "revs1.append(reveiws['aspect_sentence'])\n",
        "def merge_aspect_sent(revs1):\n",
        "  aspect_sent=\"\"\n",
        "  for rev in revs1[0]:\n",
        "      aspect_sent=aspect_sent+'\\n'.join(rev)\n",
        "  return aspect_sent\n",
        "a=merge_aspect_sent(revs1)\n",
        "print(a)"
      ],
      "execution_count": null,
      "outputs": [
        {
          "output_type": "stream",
          "name": "stdout",
          "text": [
            " update on battery life, i was wrong\n",
            " it does magical performance improvements and increase battery life\n",
            " battery goes up to 4-5 hrs easily  laptop does have a good battery life atleast to last 4-5 hours with good use#battery: 4/5\n",
            " first of all this model m415da comes with 37whrs(m409da comes with 32whrs & mi notebook el comes with 46whrs) battery capacity\n",
            " battery backup is at least 4-5 hrs long battery lifecons:1 battery is decent, could have been better, camera is average and battery 3hours working normal uses and design good performance good boot time is also goodyou can and on it after ram and storage upgradation but don't recommend to game on itother wise beast in small bugdetbattery is average of 4 to 5 will surfing internet and 1nice laptop, good battery ok for normal work, light gaming can do internet surfing and more\n",
            " average battery life 4 to 6 hours when on wifi, but upto 10 hours when offline3) battery performance is very low this product is good but there is one mistake in it is it's battery is not quite goodand the fingerprint is waste total waste is only to show off it doesn't scan properlylaptop is good but battery life is very bad\n"
          ]
        }
      ]
    },
    {
      "cell_type": "code",
      "metadata": {
        "id": "Vk3MOeChuZTw"
      },
      "source": [
        "reveiws.to_csv(\"hi.csv\")"
      ],
      "execution_count": null,
      "outputs": []
    },
    {
      "cell_type": "code",
      "metadata": {
        "id": "FbgO4mZlatE_"
      },
      "source": [
        ""
      ],
      "execution_count": null,
      "outputs": []
    }
  ]
}