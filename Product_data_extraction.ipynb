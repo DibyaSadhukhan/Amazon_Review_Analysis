{
  "nbformat": 4,
  "nbformat_minor": 0,
  "metadata": {
    "colab": {
      "name": "Product_data_extraction.ipynb",
      "provenance": [],
      "collapsed_sections": [
        "RW7I1pUs5FZU",
        "BflG1OyJfGAB",
        "-4soP2GqiFTO"
      ],
      "authorship_tag": "ABX9TyMJJOpuu9rp0o3FI5DPRJbr",
      "include_colab_link": true
    },
    "kernelspec": {
      "name": "python3",
      "display_name": "Python 3"
    },
    "language_info": {
      "name": "python"
    }
  },
  "cells": [
    {
      "cell_type": "markdown",
      "metadata": {
        "id": "view-in-github",
        "colab_type": "text"
      },
      "source": [
        "<a href=\"https://colab.research.google.com/github/DibyaSadhukhan/Amazon_Review_Analysis/blob/main/Product_data_extraction.ipynb\" target=\"_parent\"><img src=\"https://colab.research.google.com/assets/colab-badge.svg\" alt=\"Open In Colab\"/></a>"
      ]
    },
    {
      "cell_type": "code",
      "metadata": {
        "colab": {
          "base_uri": "https://localhost:8080/"
        },
        "id": "u2Bci5Zfe4wL",
        "outputId": "8805c201-8a49-467b-ff6b-f6dae5378676"
      },
      "source": [
        "#mounting the google drive\n",
        "from google.colab import drive\n",
        "drive.mount('/content/gdrive')"
      ],
      "execution_count": null,
      "outputs": [
        {
          "output_type": "stream",
          "name": "stdout",
          "text": [
            "Mounted at /content/gdrive\n"
          ]
        }
      ]
    },
    {
      "cell_type": "code",
      "metadata": {
        "id": "FyfmARwJfiEu"
      },
      "source": [
        "#importing required packages\n",
        "import pandas as pd"
      ],
      "execution_count": null,
      "outputs": []
    },
    {
      "cell_type": "markdown",
      "metadata": {
        "id": "RW7I1pUs5FZU"
      },
      "source": [
        "#Extracts the recommended products"
      ]
    },
    {
      "cell_type": "code",
      "metadata": {
        "id": "Qf3tuwcK5JOY"
      },
      "source": [
        "data = pd.read_csv('Products.csv')\n",
        "data=data.drop(data.columns[0], axis=1)\n",
        "data=data.nlargest(5,['number_of_reveiws','Rating'])\n",
        "data.head(10)\n",
        "data.to_csv('Top_products.csv')"
      ],
      "execution_count": null,
      "outputs": []
    },
    {
      "cell_type": "code",
      "metadata": {
        "id": "mau3cnn0YSV7"
      },
      "source": [
        "\"\"\"\n",
        "data=data.nlargest(5,['number_of_reveiws','Rating'])\n",
        "data.head(10)\n",
        "data.to_csv('Top_products.csv')\n",
        "\"\"\""
      ],
      "execution_count": null,
      "outputs": []
    },
    {
      "cell_type": "markdown",
      "metadata": {
        "id": "BflG1OyJfGAB"
      },
      "source": [
        "#Extracts the products for the first page "
      ]
    },
    {
      "cell_type": "code",
      "metadata": {
        "colab": {
          "base_uri": "https://localhost:8080/",
          "height": 311
        },
        "id": "_LVM7zqAfWnU",
        "outputId": "4fcd2fec-9639-4fa0-d1be-b100ad4165a6"
      },
      "source": [
        "\n",
        "df = pd.read_csv('/content/gdrive/MyDrive/Laptop_Reveiw/Data/Master_reveiw_2021-11-06.csv')\n",
        "#changing the data type of rating column \n",
        "df = df.rename(columns={'number of reveiws': 'number_of_reveiws'})\n",
        "df['Rating']=df['Rating'].apply(lambda x : float(x.split(' ')[0]))\n",
        "df=df.drop(df.columns[[0,-1,-2,-3]], axis=1)\n",
        "#removing duplicate products\n",
        "#df.loc[df['Product_code']=='B08SML9W2R']\n",
        "df=df.drop_duplicates(subset=['Product_code','number_of_reveiws'], keep='first')\n",
        "#print(df['Product_code'].value_counts())\n",
        "f = lambda x: x.split(' ')[1] if x.startswith('(Renewed)') or x.startswith('2020') or x.startswith('Newest')  else x.split(' ')[0]\n",
        "df['Brand'] = df['Product_name'].map(f)\n",
        "df['number_of_reveiws']=df['number_of_reveiws'].astype(int)\n",
        "df['Brand']=df['Brand'].apply(lambda x : x.upper())\n",
        "df['Price']=df['Price'].str.replace(',', '')\n",
        "df['Price']=df['Price'].str.replace('₹', '')\n",
        "df['Price']=df['Price'].astype(int)\n",
        "#df['Renewed'] = list(map(lambda x: x.startswith('(Renewed)'), df['Product_name'])) \n",
        "#df['Brand'].value_counts()\n",
        "\n",
        "df.to_csv('Products.csv')\n",
        "print(len(df))\n",
        "df.head()\n"
      ],
      "execution_count": null,
      "outputs": [
        {
          "output_type": "stream",
          "name": "stdout",
          "text": [
            "189\n"
          ]
        },
        {
          "output_type": "execute_result",
          "data": {
            "text/html": [
              "<div>\n",
              "<style scoped>\n",
              "    .dataframe tbody tr th:only-of-type {\n",
              "        vertical-align: middle;\n",
              "    }\n",
              "\n",
              "    .dataframe tbody tr th {\n",
              "        vertical-align: top;\n",
              "    }\n",
              "\n",
              "    .dataframe thead th {\n",
              "        text-align: right;\n",
              "    }\n",
              "</style>\n",
              "<table border=\"1\" class=\"dataframe\">\n",
              "  <thead>\n",
              "    <tr style=\"text-align: right;\">\n",
              "      <th></th>\n",
              "      <th>Product_code</th>\n",
              "      <th>Product_name</th>\n",
              "      <th>Rating</th>\n",
              "      <th>number_of_reveiws</th>\n",
              "      <th>Price</th>\n",
              "      <th>Images</th>\n",
              "      <th>Link</th>\n",
              "      <th>Brand</th>\n",
              "    </tr>\n",
              "  </thead>\n",
              "  <tbody>\n",
              "    <tr>\n",
              "      <th>0</th>\n",
              "      <td>B08CKY5XX3</td>\n",
              "      <td>ASUS VivoBook 15 (2020), 39.6 cm HD, Dual Core...</td>\n",
              "      <td>4.1</td>\n",
              "      <td>659</td>\n",
              "      <td>27639</td>\n",
              "      <td>https://m.media-amazon.com/images/I/71S8U9VzLT...</td>\n",
              "      <td>https://www.amazon.in/ASUS-VivoBook-Integrated...</td>\n",
              "      <td>ASUS</td>\n",
              "    </tr>\n",
              "    <tr>\n",
              "      <th>1</th>\n",
              "      <td>B095YC11CF</td>\n",
              "      <td>HP 15 10th Gen Intel Core i3 Thin and Light 15...</td>\n",
              "      <td>3.8</td>\n",
              "      <td>1511</td>\n",
              "      <td>40990</td>\n",
              "      <td>https://m.media-amazon.com/images/I/81Ne5qKmE8...</td>\n",
              "      <td>https://www.amazon.in/HP-inches-Laptop-Windows...</td>\n",
              "      <td>HP</td>\n",
              "    </tr>\n",
              "    <tr>\n",
              "      <th>2</th>\n",
              "      <td>B08X4N3DW2</td>\n",
              "      <td>Dell Inspiron 3502 15.6\" (39.62 cms) HD Displa...</td>\n",
              "      <td>4.2</td>\n",
              "      <td>276</td>\n",
              "      <td>44125</td>\n",
              "      <td>https://m.media-amazon.com/images/I/51jPUwqQTF...</td>\n",
              "      <td>https://www.amazon.in/Dell-Inspiron-Integrated...</td>\n",
              "      <td>DELL</td>\n",
              "    </tr>\n",
              "    <tr>\n",
              "      <th>3</th>\n",
              "      <td>B09G9ZPV38</td>\n",
              "      <td>Lenovo IdeaPad Slim 1 Intel Celeron N4020 11.6...</td>\n",
              "      <td>3.8</td>\n",
              "      <td>92</td>\n",
              "      <td>25990</td>\n",
              "      <td>https://m.media-amazon.com/images/I/61km1VkaCs...</td>\n",
              "      <td>https://www.amazon.in/Lenovo-IdeaPad-Celeron-P...</td>\n",
              "      <td>LENOVO</td>\n",
              "    </tr>\n",
              "    <tr>\n",
              "      <th>4</th>\n",
              "      <td>B0928NL6F3</td>\n",
              "      <td>HP 14 11th Gen Intel Core i5 Processor 14 inch...</td>\n",
              "      <td>4.1</td>\n",
              "      <td>417</td>\n",
              "      <td>57990</td>\n",
              "      <td>https://m.media-amazon.com/images/I/71bJqS8ZLT...</td>\n",
              "      <td>https://www.amazon.in/HP-Processor-Windows-Nat...</td>\n",
              "      <td>HP</td>\n",
              "    </tr>\n",
              "  </tbody>\n",
              "</table>\n",
              "</div>"
            ],
            "text/plain": [
              "  Product_code  ...   Brand\n",
              "0   B08CKY5XX3  ...    ASUS\n",
              "1   B095YC11CF  ...      HP\n",
              "2   B08X4N3DW2  ...    DELL\n",
              "3   B09G9ZPV38  ...  LENOVO\n",
              "4   B0928NL6F3  ...      HP\n",
              "\n",
              "[5 rows x 8 columns]"
            ]
          },
          "metadata": {},
          "execution_count": 6
        }
      ]
    },
    {
      "cell_type": "code",
      "metadata": {
        "colab": {
          "base_uri": "https://localhost:8080/",
          "height": 304
        },
        "id": "U5YvA4ibgNLD",
        "outputId": "f9c5b4f9-77e1-45c6-b337-84e714bb1348"
      },
      "source": [
        "df = pd.read_csv('Products.csv')\n",
        "df.head()"
      ],
      "execution_count": null,
      "outputs": [
        {
          "output_type": "execute_result",
          "data": {
            "text/html": [
              "<div>\n",
              "<style scoped>\n",
              "    .dataframe tbody tr th:only-of-type {\n",
              "        vertical-align: middle;\n",
              "    }\n",
              "\n",
              "    .dataframe tbody tr th {\n",
              "        vertical-align: top;\n",
              "    }\n",
              "\n",
              "    .dataframe thead th {\n",
              "        text-align: right;\n",
              "    }\n",
              "</style>\n",
              "<table border=\"1\" class=\"dataframe\">\n",
              "  <thead>\n",
              "    <tr style=\"text-align: right;\">\n",
              "      <th></th>\n",
              "      <th>Unnamed: 0</th>\n",
              "      <th>Product_code</th>\n",
              "      <th>Product_name</th>\n",
              "      <th>Rating</th>\n",
              "      <th>number_of_reveiws</th>\n",
              "      <th>Price</th>\n",
              "      <th>Images</th>\n",
              "      <th>Brand</th>\n",
              "    </tr>\n",
              "  </thead>\n",
              "  <tbody>\n",
              "    <tr>\n",
              "      <th>0</th>\n",
              "      <td>0</td>\n",
              "      <td>B097RKZYGS</td>\n",
              "      <td>ASUS VivoBook 14 (2020), 14-inch (35.56 cms) F...</td>\n",
              "      <td>3.9</td>\n",
              "      <td>156</td>\n",
              "      <td>31990</td>\n",
              "      <td>https://m.media-amazon.com/images/I/716bvqzz7P...</td>\n",
              "      <td>ASUS</td>\n",
              "    </tr>\n",
              "    <tr>\n",
              "      <th>1</th>\n",
              "      <td>1</td>\n",
              "      <td>B08C5W6PL2</td>\n",
              "      <td>HP Chromebook 14-inch (35.56 cms) Thin &amp; Light...</td>\n",
              "      <td>3.9</td>\n",
              "      <td>766</td>\n",
              "      <td>25999</td>\n",
              "      <td>https://m.media-amazon.com/images/I/613WULNEr1...</td>\n",
              "      <td>HP</td>\n",
              "    </tr>\n",
              "    <tr>\n",
              "      <th>2</th>\n",
              "      <td>2</td>\n",
              "      <td>B08HJYFZ14</td>\n",
              "      <td>HP 15 AMD Athlon 15.6\" (39.62cms) HD Laptop (S...</td>\n",
              "      <td>3.5</td>\n",
              "      <td>483</td>\n",
              "      <td>25999</td>\n",
              "      <td>https://m.media-amazon.com/images/I/61bkuSlKF4...</td>\n",
              "      <td>HP</td>\n",
              "    </tr>\n",
              "    <tr>\n",
              "      <th>3</th>\n",
              "      <td>3</td>\n",
              "      <td>B08HJZHTM1</td>\n",
              "      <td>HP 15 Intel Pentium Gold 6405U Processor Entry...</td>\n",
              "      <td>3.4</td>\n",
              "      <td>843</td>\n",
              "      <td>25999</td>\n",
              "      <td>https://m.media-amazon.com/images/I/71FB8qoB78...</td>\n",
              "      <td>HP</td>\n",
              "    </tr>\n",
              "    <tr>\n",
              "      <th>4</th>\n",
              "      <td>4</td>\n",
              "      <td>B0924PSV78</td>\n",
              "      <td>RDP ThinBook 1010 - Intel Celeron Quad Core Pr...</td>\n",
              "      <td>3.4</td>\n",
              "      <td>258</td>\n",
              "      <td>19990</td>\n",
              "      <td>https://m.media-amazon.com/images/I/51C6EHkMQp...</td>\n",
              "      <td>RDP</td>\n",
              "    </tr>\n",
              "  </tbody>\n",
              "</table>\n",
              "</div>"
            ],
            "text/plain": [
              "   Unnamed: 0  ... Brand\n",
              "0           0  ...  ASUS\n",
              "1           1  ...    HP\n",
              "2           2  ...    HP\n",
              "3           3  ...    HP\n",
              "4           4  ...   RDP\n",
              "\n",
              "[5 rows x 8 columns]"
            ]
          },
          "metadata": {},
          "execution_count": 6
        }
      ]
    },
    {
      "cell_type": "code",
      "metadata": {
        "id": "LOpG7E0Qft2B"
      },
      "source": [
        "#test\n",
        "\"\"\"\n",
        "df['Price']=df['Price'].str.replace(',', '')\n",
        "df['Price']=df['Price'].str.replace('₹', '')\n",
        "data=df\n",
        "def get_data_frame(brand,ub,lb,sort):\n",
        "    table = pd.DataFrame(columns = data.columns)\n",
        "    if ub==-1:\n",
        "        table=data.loc[data['Price']>100000]\n",
        "    elif lb>0 and ub>0:\n",
        "        table=data.loc[(data['Price']>lb)&(data['Price']<=ub)]\n",
        "    else:\n",
        "        table=data\n",
        "    if brand!='Any':\n",
        "        table=table.loc[table['Brand']==brand]\n",
        "    if sort=='Price_A':\n",
        "        table=table.nsmallest(5,['Price'])\n",
        "    elif sort=='Price_D':\n",
        "        table=table.nlargest(5,['Price'])\n",
        "    else:\n",
        "        table=table.nlargest(5,[sort])\n",
        "    return table\n",
        "\n",
        "get_data_frame('Any',35000,20000,'Price_D')\n",
        "display=df[['Product_code','Brand','Product_name','Price','Rating','number of reveiws','Images']]\n",
        "display.to_csv('Products.csv')\n",
        "all_data=[]\n",
        "for i in range(display.shape[0]):\n",
        "  all_data.append(dict(display.iloc[i]))\n",
        "print(all_data[1])\n",
        "#display.head()\n",
        "  \"\"\""
      ],
      "execution_count": null,
      "outputs": []
    },
    {
      "cell_type": "code",
      "metadata": {
        "colab": {
          "base_uri": "https://localhost:8080/",
          "height": 492
        },
        "id": "Si6_aXkwFz5J",
        "outputId": "993c78c1-c4e4-41ce-f65a-54db505fb847"
      },
      "source": [
        "data = pd.read_csv('https://raw.githubusercontent.com/DibyaSadhukhan/Amazon_Review_Analysis/main/Data/Top_products.csv')\n",
        "data.head()"
      ],
      "execution_count": null,
      "outputs": [
        {
          "output_type": "execute_result",
          "data": {
            "text/html": [
              "<div>\n",
              "<style scoped>\n",
              "    .dataframe tbody tr th:only-of-type {\n",
              "        vertical-align: middle;\n",
              "    }\n",
              "\n",
              "    .dataframe tbody tr th {\n",
              "        vertical-align: top;\n",
              "    }\n",
              "\n",
              "    .dataframe thead th {\n",
              "        text-align: right;\n",
              "    }\n",
              "</style>\n",
              "<table border=\"1\" class=\"dataframe\">\n",
              "  <thead>\n",
              "    <tr style=\"text-align: right;\">\n",
              "      <th></th>\n",
              "      <th>Unnamed: 0</th>\n",
              "      <th>Product_code</th>\n",
              "      <th>Product_name</th>\n",
              "      <th>Rating</th>\n",
              "      <th>number_of_reveiws</th>\n",
              "      <th>Price</th>\n",
              "      <th>Images</th>\n",
              "      <th>Brand</th>\n",
              "    </tr>\n",
              "  </thead>\n",
              "  <tbody>\n",
              "    <tr>\n",
              "      <th>0</th>\n",
              "      <td>36</td>\n",
              "      <td>B08T6THSMQ</td>\n",
              "      <td>HP 15 (2021) Thin &amp; Light Ryzen 3-3250 Laptop,...</td>\n",
              "      <td>4.2</td>\n",
              "      <td>1679</td>\n",
              "      <td>40999</td>\n",
              "      <td>https://m.media-amazon.com/images/I/71SMr4ZGf1...</td>\n",
              "      <td>HP</td>\n",
              "    </tr>\n",
              "    <tr>\n",
              "      <th>1</th>\n",
              "      <td>35</td>\n",
              "      <td>B08T6SJ215</td>\n",
              "      <td>HP 15 (2021) Thin &amp; Light Ryzen 3-3250 Laptop,...</td>\n",
              "      <td>3.9</td>\n",
              "      <td>1673</td>\n",
              "      <td>36999</td>\n",
              "      <td>https://m.media-amazon.com/images/I/71SMr4ZGf1...</td>\n",
              "      <td>HP</td>\n",
              "    </tr>\n",
              "    <tr>\n",
              "      <th>2</th>\n",
              "      <td>136</td>\n",
              "      <td>B08XNYN5QV</td>\n",
              "      <td>HP 15 (2021) Thin &amp; Light 11th Gen Core i5 Lap...</td>\n",
              "      <td>4.2</td>\n",
              "      <td>1528</td>\n",
              "      <td>43290</td>\n",
              "      <td>https://m.media-amazon.com/images/I/71uOkXZyte...</td>\n",
              "      <td>HP</td>\n",
              "    </tr>\n",
              "    <tr>\n",
              "      <th>3</th>\n",
              "      <td>57</td>\n",
              "      <td>B095JZLDSF</td>\n",
              "      <td>HP 14 (2021) Thin &amp; Light 11th Gen Core i3 Lap...</td>\n",
              "      <td>3.4</td>\n",
              "      <td>1312</td>\n",
              "      <td>41990</td>\n",
              "      <td>https://m.media-amazon.com/images/I/71CiYVzgJs...</td>\n",
              "      <td>HP</td>\n",
              "    </tr>\n",
              "    <tr>\n",
              "      <th>4</th>\n",
              "      <td>30</td>\n",
              "      <td>B08DDYYZ3G</td>\n",
              "      <td>AVITA Essential NE14A2INC433-CR 14\" (35.56cms)...</td>\n",
              "      <td>3.9</td>\n",
              "      <td>1155</td>\n",
              "      <td>37990</td>\n",
              "      <td>https://m.media-amazon.com/images/I/61NsZ6UrfP...</td>\n",
              "      <td>AVITA</td>\n",
              "    </tr>\n",
              "  </tbody>\n",
              "</table>\n",
              "</div>"
            ],
            "text/plain": [
              "   Unnamed: 0  ...  Brand\n",
              "0          36  ...     HP\n",
              "1          35  ...     HP\n",
              "2         136  ...     HP\n",
              "3          57  ...     HP\n",
              "4          30  ...  AVITA\n",
              "\n",
              "[5 rows x 8 columns]"
            ]
          },
          "metadata": {},
          "execution_count": 3
        }
      ]
    },
    {
      "cell_type": "code",
      "metadata": {
        "id": "4wvmm4EmF_ZI"
      },
      "source": [
        "data['Product_name']=data['Product_name'].apply(lambda x : ' '.join(x.split(' ')[:8])+'...')\n"
      ],
      "execution_count": null,
      "outputs": []
    },
    {
      "cell_type": "code",
      "metadata": {
        "id": "EEF0aITPGr7i"
      },
      "source": [
        "data.to_csv('Top_products.csv')"
      ],
      "execution_count": null,
      "outputs": []
    },
    {
      "cell_type": "markdown",
      "metadata": {
        "id": "-4soP2GqiFTO"
      },
      "source": [
        "#Block to extract the laptop details or advanced search page from the details file\n"
      ]
    },
    {
      "cell_type": "code",
      "metadata": {
        "colab": {
          "base_uri": "https://localhost:8080/",
          "height": 528
        },
        "id": "ytkNlulxTEJj",
        "outputId": "809b0ceb-58bd-44a8-ebea-cc0d7596e4ed"
      },
      "source": [
        "df=pd.read_csv('/content/gdrive/MyDrive/Laptop_Reveiw/Data/Master_reveiw_2021-11-06.csv')\n",
        "df=df.drop([df.columns[0],df.columns[-3]], axis=1)\n",
        "df['Price']=df['Price'].str.replace(',', '')\n",
        "df['Price']=df['Price'].str.replace('₹', '')\n",
        "df['Price']=df['Price'].astype(int)\n",
        "# the following are the columns for filter of the advance search page\n",
        "df['Brand']='Unkown'\n",
        "df['Screen_size']=0.0\n",
        "df['RAM']=-1\n",
        "df['Processor']='Unknown'\n",
        "df['Hard_drive']='Unknown'\n",
        "#df['Type']='Unknown'\n",
        "#df['all_det']=\"\"\n",
        "df.head()"
      ],
      "execution_count": null,
      "outputs": [
        {
          "output_type": "execute_result",
          "data": {
            "text/html": [
              "<div>\n",
              "<style scoped>\n",
              "    .dataframe tbody tr th:only-of-type {\n",
              "        vertical-align: middle;\n",
              "    }\n",
              "\n",
              "    .dataframe tbody tr th {\n",
              "        vertical-align: top;\n",
              "    }\n",
              "\n",
              "    .dataframe thead th {\n",
              "        text-align: right;\n",
              "    }\n",
              "</style>\n",
              "<table border=\"1\" class=\"dataframe\">\n",
              "  <thead>\n",
              "    <tr style=\"text-align: right;\">\n",
              "      <th></th>\n",
              "      <th>Product_code</th>\n",
              "      <th>Product_name</th>\n",
              "      <th>Rating</th>\n",
              "      <th>number of reveiws</th>\n",
              "      <th>Price</th>\n",
              "      <th>Images</th>\n",
              "      <th>Link</th>\n",
              "      <th>Reveiw Link</th>\n",
              "      <th>details_file</th>\n",
              "      <th>Brand</th>\n",
              "      <th>Screen_size</th>\n",
              "      <th>RAM</th>\n",
              "      <th>Processor</th>\n",
              "      <th>Hard_drive</th>\n",
              "    </tr>\n",
              "  </thead>\n",
              "  <tbody>\n",
              "    <tr>\n",
              "      <th>0</th>\n",
              "      <td>B08CKY5XX3</td>\n",
              "      <td>ASUS VivoBook 15 (2020), 39.6 cm HD, Dual Core...</td>\n",
              "      <td>4.1 out of 5 stars</td>\n",
              "      <td>659</td>\n",
              "      <td>27639</td>\n",
              "      <td>https://m.media-amazon.com/images/I/71S8U9VzLT...</td>\n",
              "      <td>https://www.amazon.in/ASUS-VivoBook-Integrated...</td>\n",
              "      <td>https://www.amazon.in/ASUS-VivoBook-Integrated...</td>\n",
              "      <td>/content/gdrive/MyDrive/Amazon_product_Details...</td>\n",
              "      <td>Unkown</td>\n",
              "      <td>0.0</td>\n",
              "      <td>-1</td>\n",
              "      <td>Unknown</td>\n",
              "      <td>Unknown</td>\n",
              "    </tr>\n",
              "    <tr>\n",
              "      <th>1</th>\n",
              "      <td>B095YC11CF</td>\n",
              "      <td>HP 15 10th Gen Intel Core i3 Thin and Light 15...</td>\n",
              "      <td>3.8 out of 5 stars</td>\n",
              "      <td>1511</td>\n",
              "      <td>40990</td>\n",
              "      <td>https://m.media-amazon.com/images/I/81Ne5qKmE8...</td>\n",
              "      <td>https://www.amazon.in/HP-inches-Laptop-Windows...</td>\n",
              "      <td>https://www.amazon.in/HP-inches-Laptop-Windows...</td>\n",
              "      <td>/content/gdrive/MyDrive/Amazon_product_Details...</td>\n",
              "      <td>Unkown</td>\n",
              "      <td>0.0</td>\n",
              "      <td>-1</td>\n",
              "      <td>Unknown</td>\n",
              "      <td>Unknown</td>\n",
              "    </tr>\n",
              "    <tr>\n",
              "      <th>2</th>\n",
              "      <td>B08X4N3DW2</td>\n",
              "      <td>Dell Inspiron 3502 15.6\" (39.62 cms) HD Displa...</td>\n",
              "      <td>4.2 out of 5 stars</td>\n",
              "      <td>276</td>\n",
              "      <td>44125</td>\n",
              "      <td>https://m.media-amazon.com/images/I/51jPUwqQTF...</td>\n",
              "      <td>https://www.amazon.in/Dell-Inspiron-Integrated...</td>\n",
              "      <td>https://www.amazon.in/Dell-Inspiron-Integrated...</td>\n",
              "      <td>/content/gdrive/MyDrive/Amazon_product_Details...</td>\n",
              "      <td>Unkown</td>\n",
              "      <td>0.0</td>\n",
              "      <td>-1</td>\n",
              "      <td>Unknown</td>\n",
              "      <td>Unknown</td>\n",
              "    </tr>\n",
              "    <tr>\n",
              "      <th>3</th>\n",
              "      <td>B09G9ZPV38</td>\n",
              "      <td>Lenovo IdeaPad Slim 1 Intel Celeron N4020 11.6...</td>\n",
              "      <td>3.8 out of 5 stars</td>\n",
              "      <td>92</td>\n",
              "      <td>25990</td>\n",
              "      <td>https://m.media-amazon.com/images/I/61km1VkaCs...</td>\n",
              "      <td>https://www.amazon.in/Lenovo-IdeaPad-Celeron-P...</td>\n",
              "      <td>https://www.amazon.in/Lenovo-IdeaPad-Celeron-P...</td>\n",
              "      <td>/content/gdrive/MyDrive/Amazon_product_Details...</td>\n",
              "      <td>Unkown</td>\n",
              "      <td>0.0</td>\n",
              "      <td>-1</td>\n",
              "      <td>Unknown</td>\n",
              "      <td>Unknown</td>\n",
              "    </tr>\n",
              "    <tr>\n",
              "      <th>4</th>\n",
              "      <td>B0928NL6F3</td>\n",
              "      <td>HP 14 11th Gen Intel Core i5 Processor 14 inch...</td>\n",
              "      <td>4.1 out of 5 stars</td>\n",
              "      <td>417</td>\n",
              "      <td>57990</td>\n",
              "      <td>https://m.media-amazon.com/images/I/71bJqS8ZLT...</td>\n",
              "      <td>https://www.amazon.in/HP-Processor-Windows-Nat...</td>\n",
              "      <td>https://www.amazon.in/HP-Processor-Windows-Nat...</td>\n",
              "      <td>/content/gdrive/MyDrive/Amazon_product_Details...</td>\n",
              "      <td>Unkown</td>\n",
              "      <td>0.0</td>\n",
              "      <td>-1</td>\n",
              "      <td>Unknown</td>\n",
              "      <td>Unknown</td>\n",
              "    </tr>\n",
              "  </tbody>\n",
              "</table>\n",
              "</div>"
            ],
            "text/plain": [
              "  Product_code  ... Hard_drive\n",
              "0   B08CKY5XX3  ...    Unknown\n",
              "1   B095YC11CF  ...    Unknown\n",
              "2   B08X4N3DW2  ...    Unknown\n",
              "3   B09G9ZPV38  ...    Unknown\n",
              "4   B0928NL6F3  ...    Unknown\n",
              "\n",
              "[5 rows x 14 columns]"
            ]
          },
          "metadata": {},
          "execution_count": 4
        }
      ]
    },
    {
      "cell_type": "code",
      "metadata": {
        "colab": {
          "base_uri": "https://localhost:8080/",
          "height": 626
        },
        "id": "syYTveSNVMDN",
        "outputId": "ee4fe771-811b-40e0-b5d5-5857ab68832a"
      },
      "source": [
        "details_file=[]\n",
        "for i in range(len(df)):\n",
        "  details_file.append(df.iat[i,-6])\n",
        "#print(details_file)\n",
        "i=0\n",
        "# we see that all the text in the td part of the data has the unicode character \\u200e so we strip it from the file  \n",
        "for link in details_file:\n",
        "    f = open(link,\"r\",encoding=\"utf-8\")\n",
        "    a=f.read().split('||')\n",
        "    for det in a:\n",
        "      th=det.split(':')[0]\n",
        "      td=det.split(':')[1:]\n",
        "      if th=='Brand':\n",
        "        df.iat[i,-5]=''.join(td).upper().strip('\\u200e')\n",
        "      elif th=='RAM Size':\n",
        "          df.iat[i,-3]=int(''.join(td).split(' ')[0].strip('\\u200e'))\n",
        "      elif th=='Standing screen display size':\n",
        "        df.iat[i,-4]=float(''.join(td).split(' ')[0].strip('\\u200e'))\n",
        "      elif th=='Processor Type':\n",
        "        df.iat[i,-2]=''.join(td).strip('\\u200e')\n",
        "      elif th=='Hard Disk Description':\n",
        "        df.iat[i,-1]=''.join(td).strip('\\u200e')\n",
        "    f.close()\n",
        "    i+=1\n",
        "df.head(6)"
      ],
      "execution_count": null,
      "outputs": [
        {
          "output_type": "execute_result",
          "data": {
            "text/html": [
              "<div>\n",
              "<style scoped>\n",
              "    .dataframe tbody tr th:only-of-type {\n",
              "        vertical-align: middle;\n",
              "    }\n",
              "\n",
              "    .dataframe tbody tr th {\n",
              "        vertical-align: top;\n",
              "    }\n",
              "\n",
              "    .dataframe thead th {\n",
              "        text-align: right;\n",
              "    }\n",
              "</style>\n",
              "<table border=\"1\" class=\"dataframe\">\n",
              "  <thead>\n",
              "    <tr style=\"text-align: right;\">\n",
              "      <th></th>\n",
              "      <th>Product_code</th>\n",
              "      <th>Product_name</th>\n",
              "      <th>Rating</th>\n",
              "      <th>number of reveiws</th>\n",
              "      <th>Price</th>\n",
              "      <th>Images</th>\n",
              "      <th>Link</th>\n",
              "      <th>Reveiw Link</th>\n",
              "      <th>details_file</th>\n",
              "      <th>Brand</th>\n",
              "      <th>Screen_size</th>\n",
              "      <th>RAM</th>\n",
              "      <th>Processor</th>\n",
              "      <th>Hard_drive</th>\n",
              "    </tr>\n",
              "  </thead>\n",
              "  <tbody>\n",
              "    <tr>\n",
              "      <th>0</th>\n",
              "      <td>B08CKY5XX3</td>\n",
              "      <td>ASUS VivoBook 15 (2020), 39.6 cm HD, Dual Core...</td>\n",
              "      <td>4.1 out of 5 stars</td>\n",
              "      <td>659</td>\n",
              "      <td>27639</td>\n",
              "      <td>https://m.media-amazon.com/images/I/71S8U9VzLT...</td>\n",
              "      <td>https://www.amazon.in/ASUS-VivoBook-Integrated...</td>\n",
              "      <td>https://www.amazon.in/ASUS-VivoBook-Integrated...</td>\n",
              "      <td>/content/gdrive/MyDrive/Amazon_product_Details...</td>\n",
              "      <td>ASUS</td>\n",
              "      <td>15.6</td>\n",
              "      <td>4</td>\n",
              "      <td>Celeron N4020</td>\n",
              "      <td>Solid State Drive</td>\n",
              "    </tr>\n",
              "    <tr>\n",
              "      <th>1</th>\n",
              "      <td>B095YC11CF</td>\n",
              "      <td>HP 15 10th Gen Intel Core i3 Thin and Light 15...</td>\n",
              "      <td>3.8 out of 5 stars</td>\n",
              "      <td>1511</td>\n",
              "      <td>40990</td>\n",
              "      <td>https://m.media-amazon.com/images/I/81Ne5qKmE8...</td>\n",
              "      <td>https://www.amazon.in/HP-inches-Laptop-Windows...</td>\n",
              "      <td>https://www.amazon.in/HP-inches-Laptop-Windows...</td>\n",
              "      <td>/content/gdrive/MyDrive/Amazon_product_Details...</td>\n",
              "      <td>HP</td>\n",
              "      <td>15.6</td>\n",
              "      <td>8</td>\n",
              "      <td>Core i3</td>\n",
              "      <td>Mechanical Hard Drive</td>\n",
              "    </tr>\n",
              "    <tr>\n",
              "      <th>2</th>\n",
              "      <td>B08X4N3DW2</td>\n",
              "      <td>Dell Inspiron 3502 15.6\" (39.62 cms) HD Displa...</td>\n",
              "      <td>4.2 out of 5 stars</td>\n",
              "      <td>276</td>\n",
              "      <td>44125</td>\n",
              "      <td>https://m.media-amazon.com/images/I/51jPUwqQTF...</td>\n",
              "      <td>https://www.amazon.in/Dell-Inspiron-Integrated...</td>\n",
              "      <td>https://www.amazon.in/Dell-Inspiron-Integrated...</td>\n",
              "      <td>/content/gdrive/MyDrive/Amazon_product_Details...</td>\n",
              "      <td>DELL</td>\n",
              "      <td>15.6</td>\n",
              "      <td>4</td>\n",
              "      <td>Pentium Other</td>\n",
              "      <td>Solid State Drive</td>\n",
              "    </tr>\n",
              "    <tr>\n",
              "      <th>3</th>\n",
              "      <td>B09G9ZPV38</td>\n",
              "      <td>Lenovo IdeaPad Slim 1 Intel Celeron N4020 11.6...</td>\n",
              "      <td>3.8 out of 5 stars</td>\n",
              "      <td>92</td>\n",
              "      <td>25990</td>\n",
              "      <td>https://m.media-amazon.com/images/I/61km1VkaCs...</td>\n",
              "      <td>https://www.amazon.in/Lenovo-IdeaPad-Celeron-P...</td>\n",
              "      <td>https://www.amazon.in/Lenovo-IdeaPad-Celeron-P...</td>\n",
              "      <td>/content/gdrive/MyDrive/Amazon_product_Details...</td>\n",
              "      <td>LENOVO</td>\n",
              "      <td>11.6</td>\n",
              "      <td>4</td>\n",
              "      <td>Celeron N4020</td>\n",
              "      <td>SSD</td>\n",
              "    </tr>\n",
              "    <tr>\n",
              "      <th>4</th>\n",
              "      <td>B0928NL6F3</td>\n",
              "      <td>HP 14 11th Gen Intel Core i5 Processor 14 inch...</td>\n",
              "      <td>4.1 out of 5 stars</td>\n",
              "      <td>417</td>\n",
              "      <td>57990</td>\n",
              "      <td>https://m.media-amazon.com/images/I/71bJqS8ZLT...</td>\n",
              "      <td>https://www.amazon.in/HP-Processor-Windows-Nat...</td>\n",
              "      <td>https://www.amazon.in/HP-Processor-Windows-Nat...</td>\n",
              "      <td>/content/gdrive/MyDrive/Amazon_product_Details...</td>\n",
              "      <td>HP</td>\n",
              "      <td>14.0</td>\n",
              "      <td>8</td>\n",
              "      <td>Core i5</td>\n",
              "      <td>SSD</td>\n",
              "    </tr>\n",
              "    <tr>\n",
              "      <th>5</th>\n",
              "      <td>B08C5W6PL2</td>\n",
              "      <td>HP Chromebook 14-inch (35.56 cms) Thin &amp; Light...</td>\n",
              "      <td>3.8 out of 5 stars</td>\n",
              "      <td>862</td>\n",
              "      <td>26750</td>\n",
              "      <td>https://m.media-amazon.com/images/I/613WULNEr1...</td>\n",
              "      <td>https://www.amazon.in/HP-Chromebook-14a-na0003...</td>\n",
              "      <td>https://www.amazon.in/HP-Chromebook-14a-na0003...</td>\n",
              "      <td>/content/gdrive/MyDrive/Amazon_product_Details...</td>\n",
              "      <td>HP</td>\n",
              "      <td>14.0</td>\n",
              "      <td>4</td>\n",
              "      <td>Celeron</td>\n",
              "      <td>Solid State Drive</td>\n",
              "    </tr>\n",
              "  </tbody>\n",
              "</table>\n",
              "</div>"
            ],
            "text/plain": [
              "  Product_code  ...             Hard_drive\n",
              "0   B08CKY5XX3  ...      Solid State Drive\n",
              "1   B095YC11CF  ...  Mechanical Hard Drive\n",
              "2   B08X4N3DW2  ...      Solid State Drive\n",
              "3   B09G9ZPV38  ...                    SSD\n",
              "4   B0928NL6F3  ...                    SSD\n",
              "5   B08C5W6PL2  ...      Solid State Drive\n",
              "\n",
              "[6 rows x 14 columns]"
            ]
          },
          "metadata": {},
          "execution_count": 5
        }
      ]
    },
    {
      "cell_type": "code",
      "metadata": {
        "id": "rVAC3RXshqLL"
      },
      "source": [
        "#DATA CLEANING "
      ],
      "execution_count": null,
      "outputs": []
    },
    {
      "cell_type": "code",
      "metadata": {
        "id": "OmwTo45gl08S",
        "colab": {
          "base_uri": "https://localhost:8080/"
        },
        "outputId": "c19b9eb2-69d1-4bb6-a5ff-4038500a94f8"
      },
      "source": [
        "# removing wrong ram values\n",
        "f = lambda x: -1 if x>16  else x\n",
        "df['RAM'] = df['RAM'].map(f)\n",
        "df['RAM'].value_counts()"
      ],
      "execution_count": null,
      "outputs": [
        {
          "output_type": "execute_result",
          "data": {
            "text/plain": [
              " 8     103\n",
              " 4      51\n",
              " 16     20\n",
              "-1      15\n",
              "Name: RAM, dtype: int64"
            ]
          },
          "metadata": {},
          "execution_count": 7
        }
      ]
    },
    {
      "cell_type": "code",
      "metadata": {
        "id": "K3lcAHbVR434",
        "colab": {
          "base_uri": "https://localhost:8080/"
        },
        "outputId": "12c895a0-0c49-4708-d686-94b1476a5a22"
      },
      "source": [
        "# grouping all the hard drives into SSD , HDD , hybrid and Flash memory\n",
        "for index in df.loc[(df['Hard_drive']=='SSD')|(df['Hard_drive']=='Solid State Drive')].index:\n",
        "  df.iat[index,-1]='Solid State Drive'\n",
        "for index in df.loc[(df['Hard_drive']=='HDD')|(df['Hard_drive']=='Mechanical Hard Drive')|(df['Hard_drive']=='Mechanical hard drive')].index:\n",
        "  df.iat[index,-1]='Hard Disk Drive'\n",
        "for index in df.loc[(df['Hard_drive']=='SSHD')|(df['Hard_drive']=='Hybrid Drive')|(df['Hard_drive']=='Solid State Hard Drive')|(df['Hard_drive']=='Hybrid')|(df['Hard_drive']=='SSD + HDD')].index:\n",
        "  df.iat[index,-1]='Hybrid'\n",
        "df['Hard_drive'].value_counts()"
      ],
      "execution_count": null,
      "outputs": [
        {
          "output_type": "execute_result",
          "data": {
            "text/plain": [
              "Solid State Drive           114\n",
              "Hard Disk Drive              49\n",
              "Hybrid                       16\n",
              "Flash Memory Solid State      7\n",
              "Unknown                       3\n",
              "Name: Hard_drive, dtype: int64"
            ]
          },
          "metadata": {},
          "execution_count": 8
        }
      ]
    },
    {
      "cell_type": "code",
      "metadata": {
        "id": "4Or8Vdh6tbkW",
        "colab": {
          "base_uri": "https://localhost:8080/"
        },
        "outputId": "070c0adc-e8a8-4a67-b17b-f629e45a711f"
      },
      "source": [
        "#classifying the processors\n",
        "for index in df.loc[(df['Processor']=='Core i3')|(df['Processor']=='Core i3 Family')|(df['Processor']=='Core i3-1005G1')|(df['Processor']=='Core i3-10110U')|(df['Processor']=='Core i3 4005U')].index:\n",
        "  df.iat[index,-2]='Intel Core i3'\n",
        "for index in df.loc[(df['Processor']=='Core i5')|(df['Processor']=='Core i5 Family')|(df['Processor']=='Core i5-2540M')|(df['Processor']=='Core i5 3320M')].index:\n",
        "  df.iat[index,-2]='Intel Core i5'\n",
        "for index in df.loc[(df['Processor']=='Core i7')|(df['Processor']=='Core i7 Family')|(df['Processor']=='Corei7-10750H')].index:\n",
        "  df.iat[index,-2]='Intel Core i7'\n",
        "for index in df.loc[(df['Processor']=='Ryzen 3')|(df['Processor']=='Ryzen 3 2200U')|(df['Processor']=='Ryzen 3 3200U')].index:\n",
        "  df.iat[index,-2]='AMD Ryzen 3'\n",
        "for index in df.loc[(df['Processor']=='Ryzen 5')|(df['Processor']=='Ryzen 5 4600H')].index:\n",
        "  df.iat[index,-2]='AMD Ryzen 5'\n",
        "for index in df.loc[(df['Processor']=='Ryzen 7')|(df['Processor']=='AMD Ryzen 7 5800H')].index:\n",
        "  df.iat[index,-2]='AMD Ryzen 7'\n",
        "for index in df.loc[(df['Processor']!='AMD Ryzen 7')&(df['Processor']!='AMD Ryzen 5')&(df['Processor']!='AMD Ryzen 3')&(df['Processor']!='Intel Core i3')&(df['Processor']!='Intel Core i5')&(df['Processor']!='Intel Core i7')].index:\n",
        "  df.iat[index,-2]='Others'\n",
        "df['Processor'].value_counts()\n"
      ],
      "execution_count": null,
      "outputs": [
        {
          "output_type": "execute_result",
          "data": {
            "text/plain": [
              "Intel Core i5    68\n",
              "Intel Core i3    44\n",
              "Others           38\n",
              "Intel Core i7    14\n",
              "AMD Ryzen 5      13\n",
              "AMD Ryzen 3       8\n",
              "AMD Ryzen 7       4\n",
              "Name: Processor, dtype: int64"
            ]
          },
          "metadata": {},
          "execution_count": 9
        }
      ]
    },
    {
      "cell_type": "code",
      "metadata": {
        "colab": {
          "base_uri": "https://localhost:8080/"
        },
        "id": "vQ96n2wtrFLL",
        "outputId": "0fbb8902-8754-4993-a5bc-42aaa31d5ddc"
      },
      "source": [
        "#splitting the screen size into small medium and large\n",
        "df['Screen_size'] = pd.cut(df['Screen_size'],bins=[0,15.0,16.5,50],labels=['Small','Medium','Large'])\n",
        "df['Screen_size'].value_counts()"
      ],
      "execution_count": null,
      "outputs": [
        {
          "output_type": "execute_result",
          "data": {
            "text/plain": [
              "Medium    97\n",
              "Small     69\n",
              "Large     22\n",
              "Name: Screen_size, dtype: int64"
            ]
          },
          "metadata": {},
          "execution_count": 10
        }
      ]
    },
    {
      "cell_type": "code",
      "metadata": {
        "colab": {
          "base_uri": "https://localhost:8080/",
          "height": 53
        },
        "id": "tRGRNavJ0_Xb",
        "outputId": "2fc43475-2587-4dd3-f59a-8df28b8eaeee"
      },
      "source": [
        "\"\"\"#connecting text file to the \n",
        "f = lambda x: \"https://raw.githubusercontent.com/DibyaSadhukhan/Amazon_Review_Analysis/main/Data/Details/\"+x+\".txt\"\n",
        "df['all_det'] = df['Product_code'].map(f)\n",
        "df.head()\"\"\""
      ],
      "execution_count": null,
      "outputs": [
        {
          "output_type": "execute_result",
          "data": {
            "application/vnd.google.colaboratory.intrinsic+json": {
              "type": "string"
            },
            "text/plain": [
              "'#connecting text file to the \\nf = lambda x: \"https://raw.githubusercontent.com/DibyaSadhukhan/Amazon_Review_Analysis/main/Data/Details/\"+x+\".txt\"\\ndf[\\'all_det\\'] = df[\\'Product_code\\'].map(f)\\ndf.head()'"
            ]
          },
          "metadata": {},
          "execution_count": 11
        }
      ]
    },
    {
      "cell_type": "code",
      "metadata": {
        "id": "B8LHSEiK4ywv"
      },
      "source": [
        "df.to_csv('Advanced_search.csv')"
      ],
      "execution_count": null,
      "outputs": []
    },
    {
      "cell_type": "markdown",
      "metadata": {
        "id": "K1UTdkAH1Pmn"
      },
      "source": [
        "#serch\n"
      ]
    },
    {
      "cell_type": "code",
      "metadata": {
        "id": "Yj7vUdBe46_c",
        "colab": {
          "base_uri": "https://localhost:8080/"
        },
        "outputId": "0472f65d-6a30-4651-f15e-fd148164216d"
      },
      "source": [
        "data = pd.read_csv('https://raw.githubusercontent.com/DibyaSadhukhan/Amazon_Review_Analysis/main/Data/Advanced_search.csv')\n",
        "data=data.drop(data.columns[0], axis=1)\n",
        "data=data.rename(columns={'number of reveiws':'number_of_reveiws'})\n",
        "data.head()"
      ],
      "execution_count": null,
      "outputs": [
        {
          "output_type": "error",
          "ename": "NameError",
          "evalue": "ignored",
          "traceback": [
            "\u001b[0;31m---------------------------------------------------------------------------\u001b[0m",
            "\u001b[0;31mNameError\u001b[0m                                 Traceback (most recent call last)",
            "\u001b[0;32m<ipython-input-1-c665a2d40b55>\u001b[0m in \u001b[0;36m<module>\u001b[0;34m()\u001b[0m\n\u001b[0;32m----> 1\u001b[0;31m \u001b[0mdata\u001b[0m \u001b[0;34m=\u001b[0m \u001b[0mpd\u001b[0m\u001b[0;34m.\u001b[0m\u001b[0mread_csv\u001b[0m\u001b[0;34m(\u001b[0m\u001b[0;34m'https://raw.githubusercontent.com/DibyaSadhukhan/Amazon_Review_Analysis/main/Data/Advanced_search.csv'\u001b[0m\u001b[0;34m)\u001b[0m\u001b[0;34m\u001b[0m\u001b[0;34m\u001b[0m\u001b[0m\n\u001b[0m\u001b[1;32m      2\u001b[0m \u001b[0mdata\u001b[0m\u001b[0;34m=\u001b[0m\u001b[0mdata\u001b[0m\u001b[0;34m.\u001b[0m\u001b[0mdrop\u001b[0m\u001b[0;34m(\u001b[0m\u001b[0mdata\u001b[0m\u001b[0;34m.\u001b[0m\u001b[0mcolumns\u001b[0m\u001b[0;34m[\u001b[0m\u001b[0;36m0\u001b[0m\u001b[0;34m]\u001b[0m\u001b[0;34m,\u001b[0m \u001b[0maxis\u001b[0m\u001b[0;34m=\u001b[0m\u001b[0;36m1\u001b[0m\u001b[0;34m)\u001b[0m\u001b[0;34m\u001b[0m\u001b[0;34m\u001b[0m\u001b[0m\n\u001b[1;32m      3\u001b[0m \u001b[0mdata\u001b[0m\u001b[0;34m=\u001b[0m\u001b[0mdata\u001b[0m\u001b[0;34m.\u001b[0m\u001b[0mrename\u001b[0m\u001b[0;34m(\u001b[0m\u001b[0mcolumns\u001b[0m\u001b[0;34m=\u001b[0m\u001b[0;34m{\u001b[0m\u001b[0;34m'number of reveiws'\u001b[0m\u001b[0;34m:\u001b[0m\u001b[0;34m'number_of_reveiws'\u001b[0m\u001b[0;34m}\u001b[0m\u001b[0;34m)\u001b[0m\u001b[0;34m\u001b[0m\u001b[0;34m\u001b[0m\u001b[0m\n\u001b[1;32m      4\u001b[0m \u001b[0mdata\u001b[0m\u001b[0;34m.\u001b[0m\u001b[0mhead\u001b[0m\u001b[0;34m(\u001b[0m\u001b[0;34m)\u001b[0m\u001b[0;34m\u001b[0m\u001b[0;34m\u001b[0m\u001b[0m\n",
            "\u001b[0;31mNameError\u001b[0m: name 'pd' is not defined"
          ]
        }
      ]
    },
    {
      "cell_type": "code",
      "metadata": {
        "colab": {
          "base_uri": "https://localhost:8080/"
        },
        "id": "8eENbM26Zmv-",
        "outputId": "6c7e52ca-9966-4f59-8b94-04ee27f8b19a"
      },
      "source": [
        "Brand_list=list(data['Brand'].value_counts().index)\n",
        "screen_list=list(data['Screen_size'].value_counts().index)\n",
        "RAM_list=list(data['RAM'].value_counts().index)\n",
        "Processor_list=list(data['Processor'].value_counts().index)\n",
        "HD_list=list(data['Hard_drive'].value_counts().index)\n",
        "print(HD_list)"
      ],
      "execution_count": null,
      "outputs": [
        {
          "output_type": "stream",
          "name": "stdout",
          "text": [
            "['Solid State Drive', 'Hard Disk Drive', 'Hybrid', 'Flash Memory Solid State', 'Unknown']\n"
          ]
        }
      ]
    },
    {
      "cell_type": "code",
      "metadata": {
        "colab": {
          "base_uri": "https://localhost:8080/"
        },
        "id": "rpX0Kbh6agi5",
        "outputId": "0bc1b7cc-a8c9-4195-fb9d-0c24ddab5ff3"
      },
      "source": [
        "screen_list"
      ],
      "execution_count": null,
      "outputs": [
        {
          "output_type": "execute_result",
          "data": {
            "text/plain": [
              "['Medium', 'Small', 'Large']"
            ]
          },
          "metadata": {},
          "execution_count": 6
        }
      ]
    },
    {
      "cell_type": "code",
      "metadata": {
        "id": "YVm1_KIEc36D",
        "colab": {
          "base_uri": "https://localhost:8080/",
          "height": 350
        },
        "outputId": "04ddc4dc-e590-45a0-ed19-5fc4cdbf5ed2"
      },
      "source": [
        "#data['Price_range'] = pd.cut(data['Price'],bins=[0,30000,40000,50000,60000,80000])\n",
        "#data['Price_range'].value_counts().plot(kind=\"bar\")"
      ],
      "execution_count": null,
      "outputs": [
        {
          "output_type": "execute_result",
          "data": {
            "text/plain": [
              "<matplotlib.axes._subplots.AxesSubplot at 0x7fbb38826410>"
            ]
          },
          "metadata": {},
          "execution_count": 7
        },
        {
          "output_type": "display_data",
          "data": {
            "image/png": "[encoded data removed]",
            "text/plain": [
              "<Figure size 432x288 with 1 Axes>"
            ]
          },
          "metadata": {
            "needs_background": "light"
          }
        }
      ]
    },
    {
      "cell_type": "markdown",
      "metadata": {
        "id": "G42zq0Hjz81z"
      },
      "source": [
        "<QueryDict: {'csrfmiddlewaretoken': ['zoxe0kwqYNjkdBlJq7gnwCuoB2hTTp0CnrC4uaQf7rQrueaz9cIgcd5NuL0HJN1g'], 'sort': ['Price_A'], 'Price_range': ['1,29999'], 'Brand': ['Any'], 'RAM': ['all', '8', '4'], 'Processor': ['all', 'Intel Core i5', 'Intel Core i3'], 'screen': ['all', 'Medium', 'Small'], 'Hard_disk': ['all', 'Solid State Drive', 'Hard Disk Drive']}>"
      ]
    },
    {
      "cell_type": "code",
      "metadata": {
        "id": "bboAx5KrZQ-R"
      },
      "source": [
        "data1=data"
      ],
      "execution_count": null,
      "outputs": []
    },
    {
      "cell_type": "code",
      "metadata": {
        "id": "goAK5uoLJ2d7"
      },
      "source": [
        "def get_advanced_df(data,brand,ub,lb,sort,Processor,RAM,screen,Hard_disk):\n",
        "    table = pd.DataFrame(columns = data.columns)\n",
        "    if ub==-1:\n",
        "        table=data.loc[data['Price']>100000]\n",
        "    elif lb>0 and ub>0:\n",
        "        table=data.loc[(data['Price']>lb)&(data['Price']<=ub)]\n",
        "    else:\n",
        "        table=data\n",
        "    del data\n",
        "    if brand!='Any':\n",
        "        table=table.loc[table['Brand']==brand]\n",
        "    if sort=='Price_A':\n",
        "        table=table.nsmallest(len(table),['Price'])\n",
        "    elif sort=='Price_D':\n",
        "        table=table.nlargest(len(table),['Price'])\n",
        "    else:\n",
        "        table=table.nlargest(len(table),[sort])\n",
        "    if len(RAM)>1:\n",
        "      RAM.remove('all')\n",
        "      table=table.loc[table['RAM'].isin(RAM)]\n",
        "    if len(Processor)>1:\n",
        "      Processor.remove('all')\n",
        "      table=table.loc[table['Processor'].isin(Processor)]\n",
        "    if len(screen)>1:\n",
        "      screen.remove('all')\n",
        "      table=table.loc[table['Screen_size'].isin(screen)]\n",
        "    if len(Hard_disk)>1:\n",
        "      Hard_disk.remove('all')\n",
        "      table=table.loc[table['Hard_drive'].isin(Hard_disk)]\n",
        "    return table\n"
      ],
      "execution_count": null,
      "outputs": []
    },
    {
      "cell_type": "code",
      "metadata": {
        "colab": {
          "base_uri": "https://localhost:8080/"
        },
        "id": "l695wec_0CCS",
        "outputId": "0c6ff6ce-8b8b-4f0a-decb-6a9de7eca82e"
      },
      "source": [
        "Processor=['all', 'Intel Core i5', 'Intel Core i3']\n",
        "RAM=['all', '8', '4']\n",
        "screen=['all', 'Medium', 'Small']\n",
        "Hard_disk= ['all', 'Solid State Drive', 'Hard Disk Drive']\n",
        "print(get_advanced_df(data,\"Any\",39999,1,\"number of reveiws\",Processor,RAM,screen,Hard_disk))"
      ],
      "execution_count": null,
      "outputs": [
        {
          "output_type": "stream",
          "name": "stdout",
          "text": [
            "    Product_code  ...         Hard_drive\n",
            "67    B08MQ7QKHJ  ...    Hard Disk Drive\n",
            "86    B071X5CVWP  ...  Solid State Drive\n",
            "15    B09DMRQ6XB  ...  Solid State Drive\n",
            "42    B07ZD7CBLL  ...    Hard Disk Drive\n",
            "132   B0916C2XM3  ...  Solid State Drive\n",
            "38    B09D3B7NX9  ...  Solid State Drive\n",
            "90    B09BCQCDF2  ...  Solid State Drive\n",
            "75    B07LB4XRWC  ...    Hard Disk Drive\n",
            "144   B09C8RD7BM  ...    Hard Disk Drive\n",
            "185   B0979M4T4X  ...  Solid State Drive\n",
            "17    B09G9ZVCKQ  ...  Solid State Drive\n",
            "46    B09DL27QLK  ...    Hard Disk Drive\n",
            "123   B09C2G5Z6D  ...  Solid State Drive\n",
            "130   B09GPB1ZS8  ...    Hard Disk Drive\n",
            "70    B07HR5Z6Y1  ...    Hard Disk Drive\n",
            "182   B08TX1NHB8  ...  Solid State Drive\n",
            "179   B09HMZHKQF  ...    Hard Disk Drive\n",
            "93    B09HXK4BPB  ...    Hard Disk Drive\n",
            "156   B09CDGQ4GS  ...    Hard Disk Drive\n",
            "107   B09HXL97FM  ...    Hard Disk Drive\n",
            "135   B09GVRXZVP  ...    Hard Disk Drive\n",
            "\n",
            "[21 rows x 14 columns]\n"
          ]
        }
      ]
    },
    {
      "cell_type": "code",
      "metadata": {
        "id": "NTVjbal60jHz"
      },
      "source": [
        "\n",
        "\"\"\"\n",
        "if len(RAM)>1:\n",
        "  RAM.remove('all')\n",
        "  data1=data1.loc[data1['RAM'].isin(RAM)]\n",
        "if len(Processor)>1:\n",
        "  Processor.remove('all')\n",
        "  data1=data1.loc[data1['Processor'].isin(Processor)]\n",
        "if len(screen)>1:\n",
        "  screen.remove('all')\n",
        "  data1=data1.loc[data1['Screen_size'].isin(screen)]\n",
        "if len(Hard_disk)>1:\n",
        "  Hard_disk.remove('all')\n",
        "  data1=data1.loc[data1['Hard_drive'].isin(Hard_disk)]\n",
        "print(data1)\n",
        "\"\"\""
      ],
      "execution_count": null,
      "outputs": []
    },
    {
      "cell_type": "code",
      "metadata": {
        "colab": {
          "base_uri": "https://localhost:8080/"
        },
        "id": "tGcaSIZIkUJY",
        "outputId": "a844786d-9c31-47b9-9bd6-2786075656b9"
      },
      "source": [
        "def get_advanced_df(data,brand,ub,lb,sort,Processor,RAM,screen,Hard_disk):\n",
        "    table = pd.DataFrame(columns = data.columns)\n",
        "    if ub==-1:\n",
        "        table=data.loc[data['Price']>100000]\n",
        "    elif lb>0 and ub>0:\n",
        "        table=data.loc[(data['Price']>lb)&(data['Price']<=ub)]\n",
        "    else:\n",
        "        table=data\n",
        "    del data\n",
        "    if brand!='Any':\n",
        "        table=table.loc[table['Brand']==brand]\n",
        "    if sort=='Price_A':\n",
        "        table=table.nsmallest(len(table),['Price'])\n",
        "    elif sort=='Price_D':\n",
        "        table=table.nlargest(len(table),['Price'])\n",
        "    else:\n",
        "        table=table.nlargest(len(table),[sort])\n",
        "    print('yo32')\n",
        "    if len(RAM)>1:\n",
        "      RAM.remove('all')\n",
        "      table=table.loc[table['RAM'].isin(RAM)]\n",
        "    if len(Processor)>1:\n",
        "      Processor.remove('all')\n",
        "      table=table.loc[table['Processor'].isin(Processor)]\n",
        "    if len(screen)>1:\n",
        "      screen.remove('all')\n",
        "      table=table.loc[table['Screen_size'].isin(screen)]\n",
        "    if len(Hard_disk)>1:\n",
        "      Hard_disk.remove('all')\n",
        "      table=table.loc[table['Hard_drive'].isin(Hard_disk)]\n",
        "    return table\n",
        "sort= 'number_of_reveiws'\n",
        "Price_range= '0,0'\n",
        "brand= 'Any' \n",
        "RAM=['all', '4']\n",
        "Processor=['all', 'Intel Core i5']\n",
        "screen= ['all', 'Small'] \n",
        "Hard_disk=['all', 'Hard Disk Drive']\n",
        "ub=int(Price_range.split(',')[0])\n",
        "lb=int(Price_range.split(',')[1])\n",
        "table=get_advanced_df(data,brand,ub,lb,sort,Processor,RAM,screen,Hard_disk)"
      ],
      "execution_count": null,
      "outputs": [
        {
          "output_type": "stream",
          "name": "stdout",
          "text": [
            "yo32\n",
            "yo34\n"
          ]
        }
      ]
    },
    {
      "cell_type": "code",
      "metadata": {
        "colab": {
          "base_uri": "https://localhost:8080/",
          "height": 254
        },
        "id": "trTXTIlEl8Cg",
        "outputId": "ebdcac28-810c-48f2-c746-baf9a8cf44b6"
      },
      "source": [
        "table.head()"
      ],
      "execution_count": null,
      "outputs": [
        {
          "output_type": "execute_result",
          "data": {
            "text/html": [
              "<div>\n",
              "<style scoped>\n",
              "    .dataframe tbody tr th:only-of-type {\n",
              "        vertical-align: middle;\n",
              "    }\n",
              "\n",
              "    .dataframe tbody tr th {\n",
              "        vertical-align: top;\n",
              "    }\n",
              "\n",
              "    .dataframe thead th {\n",
              "        text-align: right;\n",
              "    }\n",
              "</style>\n",
              "<table border=\"1\" class=\"dataframe\">\n",
              "  <thead>\n",
              "    <tr style=\"text-align: right;\">\n",
              "      <th></th>\n",
              "      <th>Product_code</th>\n",
              "      <th>Product_name</th>\n",
              "      <th>Rating</th>\n",
              "      <th>number_of_reveiws</th>\n",
              "      <th>Price</th>\n",
              "      <th>Images</th>\n",
              "      <th>Link</th>\n",
              "      <th>Reveiw Link</th>\n",
              "      <th>details_file</th>\n",
              "      <th>Brand</th>\n",
              "      <th>Screen_size</th>\n",
              "      <th>RAM</th>\n",
              "      <th>Processor</th>\n",
              "      <th>Hard_drive</th>\n",
              "    </tr>\n",
              "  </thead>\n",
              "  <tbody>\n",
              "    <tr>\n",
              "      <th>135</th>\n",
              "      <td>B09GVRXZVP</td>\n",
              "      <td>(Renewed) HP ProBook 640 G1 14-inch Laptop (Co...</td>\n",
              "      <td>3.0 out of 5 stars</td>\n",
              "      <td>1</td>\n",
              "      <td>26999</td>\n",
              "      <td>https://m.media-amazon.com/images/I/61Oa2SVfjW...</td>\n",
              "      <td>https://www.amazon.in/HP-640-Upgradable-Graphi...</td>\n",
              "      <td>https://www.amazon.in/HP-640-Upgradable-Graphi...</td>\n",
              "      <td>/content/gdrive/MyDrive/Amazon_product_Details...</td>\n",
              "      <td>HP</td>\n",
              "      <td>Small</td>\n",
              "      <td>4</td>\n",
              "      <td>Intel Core i5</td>\n",
              "      <td>Hard Disk Drive</td>\n",
              "    </tr>\n",
              "    <tr>\n",
              "      <th>70</th>\n",
              "      <td>B07HR5Z6Y1</td>\n",
              "      <td>(Renewed) Dell Latitude (2nd Gen Core i5/4GB R...</td>\n",
              "      <td>4.0 out of 5 stars</td>\n",
              "      <td>1</td>\n",
              "      <td>22999</td>\n",
              "      <td>https://m.media-amazon.com/images/I/51JU0LtYpD...</td>\n",
              "      <td>https://www.amazon.in/REFURBISHED-Dell-E6420-D...</td>\n",
              "      <td>NaN</td>\n",
              "      <td>/content/gdrive/MyDrive/Amazon_product_Details...</td>\n",
              "      <td>DELL</td>\n",
              "      <td>Small</td>\n",
              "      <td>4</td>\n",
              "      <td>Intel Core i5</td>\n",
              "      <td>Hard Disk Drive</td>\n",
              "    </tr>\n",
              "  </tbody>\n",
              "</table>\n",
              "</div>"
            ],
            "text/plain": [
              "    Product_code  ...       Hard_drive\n",
              "135   B09GVRXZVP  ...  Hard Disk Drive\n",
              "70    B07HR5Z6Y1  ...  Hard Disk Drive\n",
              "\n",
              "[2 rows x 14 columns]"
            ]
          },
          "metadata": {},
          "execution_count": 13
        }
      ]
    },
    {
      "cell_type": "code",
      "metadata": {
        "id": "dM6IPZKKndQF"
      },
      "source": [
        "import pandas as pd\n",
        "data = pd.read_csv('https://raw.githubusercontent.com/DibyaSadhukhan/Amazon_Review_Analysis/main/Data/Master_df.csv')\n",
        "#code=request.GET['code']\n",
        "code='B08T6SJ215'\n",
        "data=data.drop(data.columns[0], axis=1)\n",
        "det=data.loc[data['Product_code']==code]\n",
        "del data\n",
        "det.rename(columns = {'Reveiw Link':'Review_link','number_of_reveiws':'number_of_reviews'}, inplace = True)\n",
        "try:\n",
        "    det['rev_rat_dist']=det['rev_rat_dist'].apply(lambda x: x.split(' '))\n",
        "    det['rev_tone_dist']=det['rev_tone_dist'].apply(lambda x: x.split(' '))\n",
        "    if len(det['rev_tone_dist'].iloc[0])<3:\n",
        "      \n",
        "    det.iat[0,-2]=[int(ele) for ele in det.iloc[0]['rev_rat_dist']]\n",
        "    det.iat[0,-1]=[int(ele) for ele in det.iloc[0]['rev_tone_dist']]\n",
        "except:\n",
        "    det['rev_tone_dist']=None\n",
        "    det['rev_rat_dist']=None\n",
        "#det=dict(det.iloc[0])"
      ],
      "execution_count": null,
      "outputs": []
    },
    {
      "cell_type": "code",
      "metadata": {
        "colab": {
          "base_uri": "https://localhost:8080/"
        },
        "id": "LWI07hmg3cQH",
        "outputId": "75877963-d282-4c01-cba1-cde0ef98a33c"
      },
      "source": [
        "det.iat[0,-1]=[int(ele) for ele in det.iloc[0]['rev_tone_dist']].append(0)"
      ],
      "execution_count": null,
      "outputs": [
        {
          "output_type": "stream",
          "name": "stdout",
          "text": [
            "3\n"
          ]
        }
      ]
    },
    {
      "cell_type": "code",
      "metadata": {
        "id": "T5T3vfQf3n2r",
        "colab": {
          "base_uri": "https://localhost:8080/"
        },
        "outputId": "0be1ca58-d3e6-4002-f3b7-6d079861aff6"
      },
      "source": [
        "import urllib.request\n",
        "import pandas as pd\n",
        "link=\"https://raw.githubusercontent.com/DibyaSadhukhan/Amazon_Review_Analysis/main/Data/Details/\"\n",
        "response = urllib.request.urlopen(link+\"B01GVVMIPG.txt\")\n",
        "Text = response.read()\n",
        "Text = Text.decode(\"utf-8\")\n",
        "Text=Text.split('||')\n",
        "th=[]\n",
        "td=[]\n",
        "for det in Text:\n",
        "  th.append(''.join(det.split(':')[0]).strip('\\u200e'))\n",
        "  td.append(' '.join(det.split(':')[1:]).strip('\\u200e'))\n",
        "df = pd.DataFrame({\"th\":th,\"td\":td})\n",
        "del th\n",
        "del td\n",
        "table=[]\n",
        "for i in range(df.shape[0]):\n",
        "  table.append(dict(df.iloc[i]))\n",
        "print(df.iloc[:])"
      ],
      "execution_count": 19,
      "outputs": [
        {
          "output_type": "stream",
          "name": "stdout",
          "text": [
            "                                th                                            td\n",
            "0                            Brand                                            HP\n",
            "1                     Manufacturer                                            hp\n",
            "2                           Series                               EliteBook 8460P\n",
            "3                           Colour                                        Silver\n",
            "4                      Form Factor                                      Notebook\n",
            "5                      Item Height                                   1.25 Inches\n",
            "6                       Item Width                                  13.31 Inches\n",
            "7     Standing screen display size                                     14 Inches\n",
            "8                Screen Resolution                                      1366x768\n",
            "9                       Resolution                                      1366x768\n",
            "10              Product Dimensions       23.14 x 33.81 x 3.18 cm; 2.09 Kilograms\n",
            "11                       Batteries  1 Lithium ion batteries required. (included)\n",
            "12               Item model number                                         8460P\n",
            "13                 Processor Brand                                         Intel\n",
            "14                  Processor Type                                       Core i5\n",
            "15                 Processor Speed                                       2.5 GHz\n",
            "16                 Processor Count                                             1\n",
            "17                        RAM Size                                          8 GB\n",
            "18               Memory Technology                                          DDR3\n",
            "19            Computer Memory Type                                    DDR3 SDRAM\n",
            "20              Memory Clock Speed                                       2.3 GHz\n",
            "21                 Hard Drive Size                                        250 GB\n",
            "22            Hard Drive Interface                                    Serial ATA\n",
            "23            Graphics Coprocessor                        Intel HD Graphics 3000\n",
            "24          Graphics Chipset Brand                                         Intel\n",
            "25       Graphics Card Description                                    Integrated\n",
            "26         Graphics Card Interface                                    Integrated\n",
            "27               Connectivity Type                                         Wi-Fi\n",
            "28                   Wireless Type                                     802.11bgn\n",
            "29         Number of USB 2.0 Ports                                             3\n",
            "30        Number of Ethernet Ports                                             1\n",
            "31               Hardware Platform                                            PC\n",
            "32                Operating System                                Windows 10 Pro\n",
            "33          Are Batteries Included                                           Yes\n",
            "34  Lithium Battery Energy Content                                  1 Watt Hours\n",
            "35          Lithium Battery Weight                                       1 Grams\n",
            "36     Number Of Lithium Ion Cells                                             6\n",
            "37                    Manufacturer                                            hp\n",
            "38               Country of Origin                                         India\n",
            "39                     Item Weight                                     2 kg 90 g\n"
          ]
        }
      ]
    },
    {
      "cell_type": "code",
      "metadata": {
        "id": "MhdilRGljf52"
      },
      "source": [
        ""
      ],
      "execution_count": null,
      "outputs": []
    }
  ]
}