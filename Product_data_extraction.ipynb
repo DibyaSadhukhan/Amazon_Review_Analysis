{
  "nbformat": 4,
  "nbformat_minor": 0,
  "metadata": {
    "colab": {
      "name": "Product_data_extraction.ipynb",
      "provenance": [],
      "collapsed_sections": [
        "RW7I1pUs5FZU",
        "BflG1OyJfGAB"
      ],
      "authorship_tag": "ABX9TyN26JFmmgfA1b7LfY8cE+ci",
      "include_colab_link": true
    },
    "kernelspec": {
      "name": "python3",
      "display_name": "Python 3"
    },
    "language_info": {
      "name": "python"
    }
  },
  "cells": [
    {
      "cell_type": "markdown",
      "metadata": {
        "id": "view-in-github",
        "colab_type": "text"
      },
      "source": [
        "<a href=\"https://colab.research.google.com/github/DibyaSadhukhan/Amazon_Review_Analysis/blob/main/Product_data_extraction.ipynb\" target=\"_parent\"><img src=\"https://colab.research.google.com/assets/colab-badge.svg\" alt=\"Open In Colab\"/></a>"
      ]
    },
    {
      "cell_type": "code",
      "metadata": {
        "colab": {
          "base_uri": "https://localhost:8080/"
        },
        "id": "u2Bci5Zfe4wL",
        "outputId": "f2aefbe7-eaca-4d81-d33d-9b97cd418b74"
      },
      "source": [
        "#mounting the google drive\n",
        "from google.colab import drive\n",
        "drive.mount('/content/gdrive')"
      ],
      "execution_count": 1,
      "outputs": [
        {
          "output_type": "stream",
          "name": "stdout",
          "text": [
            "Mounted at /content/gdrive\n"
          ]
        }
      ]
    },
    {
      "cell_type": "code",
      "metadata": {
        "id": "FyfmARwJfiEu"
      },
      "source": [
        "#importing required packages\n",
        "import pandas as pd\n"
      ],
      "execution_count": 2,
      "outputs": []
    },
    {
      "cell_type": "markdown",
      "metadata": {
        "id": "RW7I1pUs5FZU"
      },
      "source": [
        "#Extracts the recommended products"
      ]
    },
    {
      "cell_type": "code",
      "metadata": {
        "id": "Qf3tuwcK5JOY"
      },
      "source": [
        "data = pd.read_csv('https://raw.githubusercontent.com/DibyaSadhukhan/Amazon_Review_Analysis/main/Data/Products.csv')\n",
        "data=data.drop(data.columns[0], axis=1)\n",
        "data=data.nlargest(5,['number_of_reveiws','Rating'])\n",
        "data.head(10)\n",
        "data.to_csv('Top_products.csv')"
      ],
      "execution_count": null,
      "outputs": []
    },
    {
      "cell_type": "markdown",
      "metadata": {
        "id": "BflG1OyJfGAB"
      },
      "source": [
        "#Extracts the products for the first page "
      ]
    },
    {
      "cell_type": "code",
      "metadata": {
        "colab": {
          "base_uri": "https://localhost:8080/",
          "height": 304
        },
        "id": "_LVM7zqAfWnU",
        "outputId": "d3130a05-c178-4b2e-bc96-8500a98f48a5"
      },
      "source": [
        "\n",
        "df = pd.read_csv('/content/gdrive/MyDrive/Laptop_Reveiw/Data/Master_reveiw_2021-10-09.csv')\n",
        "#changing the data type of rating column \n",
        "df = df.rename(columns={'number of reveiws': 'number_of_reveiws'})\n",
        "df['Rating']=df['Rating'].apply(lambda x : float(x.split(' ')[0]))\n",
        "df=df.drop(df.columns[[0,-1,-2,-3]], axis=1)\n",
        "#removing duplicate products\n",
        "#df.loc[df['Product_code']=='B08SML9W2R']\n",
        "df=df.drop_duplicates(subset=['Product_code','number_of_reveiws'], keep='first')\n",
        "#print(df['Product_code'].value_counts())\n",
        "f = lambda x: x.split(' ')[1] if x.startswith('(Renewed)') or x.startswith('2020') or x.startswith('Newest')  else x.split(' ')[0]\n",
        "df['Brand'] = df['Product_name'].map(f)\n",
        "df['number_of_reveiws']=df['number_of_reveiws'].astype(int)\n",
        "df['Brand']=df['Brand'].apply(lambda x : x.upper())\n",
        "df['Price']=df['Price'].str.replace(',', '')\n",
        "df['Price']=df['Price'].str.replace('₹', '')\n",
        "df['Price']=df['Price'].astype(int)\n",
        "#df['Renewed'] = list(map(lambda x: x.startswith('(Renewed)'), df['Product_name'])) \n",
        "#df['Brand'].value_counts()\n",
        "\n",
        "df.to_csv('Products.csv')\n",
        "print(len(df))\n",
        "df.head()\n"
      ],
      "execution_count": null,
      "outputs": [
        {
          "output_type": "stream",
          "name": "stdout",
          "text": [
            "206\n"
          ]
        },
        {
          "output_type": "execute_result",
          "data": {
            "text/html": [
              "<div>\n",
              "<style scoped>\n",
              "    .dataframe tbody tr th:only-of-type {\n",
              "        vertical-align: middle;\n",
              "    }\n",
              "\n",
              "    .dataframe tbody tr th {\n",
              "        vertical-align: top;\n",
              "    }\n",
              "\n",
              "    .dataframe thead th {\n",
              "        text-align: right;\n",
              "    }\n",
              "</style>\n",
              "<table border=\"1\" class=\"dataframe\">\n",
              "  <thead>\n",
              "    <tr style=\"text-align: right;\">\n",
              "      <th></th>\n",
              "      <th>Product_code</th>\n",
              "      <th>Product_name</th>\n",
              "      <th>Rating</th>\n",
              "      <th>number_of_reveiws</th>\n",
              "      <th>Price</th>\n",
              "      <th>Images</th>\n",
              "      <th>Brand</th>\n",
              "    </tr>\n",
              "  </thead>\n",
              "  <tbody>\n",
              "    <tr>\n",
              "      <th>0</th>\n",
              "      <td>B097RKZYGS</td>\n",
              "      <td>ASUS VivoBook 14 (2020), 14-inch (35.56 cms) F...</td>\n",
              "      <td>3.9</td>\n",
              "      <td>156</td>\n",
              "      <td>31990</td>\n",
              "      <td>https://m.media-amazon.com/images/I/716bvqzz7P...</td>\n",
              "      <td>ASUS</td>\n",
              "    </tr>\n",
              "    <tr>\n",
              "      <th>1</th>\n",
              "      <td>B08C5W6PL2</td>\n",
              "      <td>HP Chromebook 14-inch (35.56 cms) Thin &amp; Light...</td>\n",
              "      <td>3.9</td>\n",
              "      <td>766</td>\n",
              "      <td>25999</td>\n",
              "      <td>https://m.media-amazon.com/images/I/613WULNEr1...</td>\n",
              "      <td>HP</td>\n",
              "    </tr>\n",
              "    <tr>\n",
              "      <th>2</th>\n",
              "      <td>B08HJYFZ14</td>\n",
              "      <td>HP 15 AMD Athlon 15.6\" (39.62cms) HD Laptop (S...</td>\n",
              "      <td>3.5</td>\n",
              "      <td>483</td>\n",
              "      <td>25999</td>\n",
              "      <td>https://m.media-amazon.com/images/I/61bkuSlKF4...</td>\n",
              "      <td>HP</td>\n",
              "    </tr>\n",
              "    <tr>\n",
              "      <th>3</th>\n",
              "      <td>B08HJZHTM1</td>\n",
              "      <td>HP 15 Intel Pentium Gold 6405U Processor Entry...</td>\n",
              "      <td>3.4</td>\n",
              "      <td>843</td>\n",
              "      <td>25999</td>\n",
              "      <td>https://m.media-amazon.com/images/I/71FB8qoB78...</td>\n",
              "      <td>HP</td>\n",
              "    </tr>\n",
              "    <tr>\n",
              "      <th>4</th>\n",
              "      <td>B0924PSV78</td>\n",
              "      <td>RDP ThinBook 1010 - Intel Celeron Quad Core Pr...</td>\n",
              "      <td>3.4</td>\n",
              "      <td>258</td>\n",
              "      <td>19990</td>\n",
              "      <td>https://m.media-amazon.com/images/I/51C6EHkMQp...</td>\n",
              "      <td>RDP</td>\n",
              "    </tr>\n",
              "  </tbody>\n",
              "</table>\n",
              "</div>"
            ],
            "text/plain": [
              "  Product_code  ... Brand\n",
              "0   B097RKZYGS  ...  ASUS\n",
              "1   B08C5W6PL2  ...    HP\n",
              "2   B08HJYFZ14  ...    HP\n",
              "3   B08HJZHTM1  ...    HP\n",
              "4   B0924PSV78  ...   RDP\n",
              "\n",
              "[5 rows x 7 columns]"
            ]
          },
          "metadata": {},
          "execution_count": 5
        }
      ]
    },
    {
      "cell_type": "code",
      "metadata": {
        "colab": {
          "base_uri": "https://localhost:8080/",
          "height": 304
        },
        "id": "U5YvA4ibgNLD",
        "outputId": "f9c5b4f9-77e1-45c6-b337-84e714bb1348"
      },
      "source": [
        "df = pd.read_csv('Products.csv')\n",
        "df.head()"
      ],
      "execution_count": null,
      "outputs": [
        {
          "output_type": "execute_result",
          "data": {
            "text/html": [
              "<div>\n",
              "<style scoped>\n",
              "    .dataframe tbody tr th:only-of-type {\n",
              "        vertical-align: middle;\n",
              "    }\n",
              "\n",
              "    .dataframe tbody tr th {\n",
              "        vertical-align: top;\n",
              "    }\n",
              "\n",
              "    .dataframe thead th {\n",
              "        text-align: right;\n",
              "    }\n",
              "</style>\n",
              "<table border=\"1\" class=\"dataframe\">\n",
              "  <thead>\n",
              "    <tr style=\"text-align: right;\">\n",
              "      <th></th>\n",
              "      <th>Unnamed: 0</th>\n",
              "      <th>Product_code</th>\n",
              "      <th>Product_name</th>\n",
              "      <th>Rating</th>\n",
              "      <th>number_of_reveiws</th>\n",
              "      <th>Price</th>\n",
              "      <th>Images</th>\n",
              "      <th>Brand</th>\n",
              "    </tr>\n",
              "  </thead>\n",
              "  <tbody>\n",
              "    <tr>\n",
              "      <th>0</th>\n",
              "      <td>0</td>\n",
              "      <td>B097RKZYGS</td>\n",
              "      <td>ASUS VivoBook 14 (2020), 14-inch (35.56 cms) F...</td>\n",
              "      <td>3.9</td>\n",
              "      <td>156</td>\n",
              "      <td>31990</td>\n",
              "      <td>https://m.media-amazon.com/images/I/716bvqzz7P...</td>\n",
              "      <td>ASUS</td>\n",
              "    </tr>\n",
              "    <tr>\n",
              "      <th>1</th>\n",
              "      <td>1</td>\n",
              "      <td>B08C5W6PL2</td>\n",
              "      <td>HP Chromebook 14-inch (35.56 cms) Thin &amp; Light...</td>\n",
              "      <td>3.9</td>\n",
              "      <td>766</td>\n",
              "      <td>25999</td>\n",
              "      <td>https://m.media-amazon.com/images/I/613WULNEr1...</td>\n",
              "      <td>HP</td>\n",
              "    </tr>\n",
              "    <tr>\n",
              "      <th>2</th>\n",
              "      <td>2</td>\n",
              "      <td>B08HJYFZ14</td>\n",
              "      <td>HP 15 AMD Athlon 15.6\" (39.62cms) HD Laptop (S...</td>\n",
              "      <td>3.5</td>\n",
              "      <td>483</td>\n",
              "      <td>25999</td>\n",
              "      <td>https://m.media-amazon.com/images/I/61bkuSlKF4...</td>\n",
              "      <td>HP</td>\n",
              "    </tr>\n",
              "    <tr>\n",
              "      <th>3</th>\n",
              "      <td>3</td>\n",
              "      <td>B08HJZHTM1</td>\n",
              "      <td>HP 15 Intel Pentium Gold 6405U Processor Entry...</td>\n",
              "      <td>3.4</td>\n",
              "      <td>843</td>\n",
              "      <td>25999</td>\n",
              "      <td>https://m.media-amazon.com/images/I/71FB8qoB78...</td>\n",
              "      <td>HP</td>\n",
              "    </tr>\n",
              "    <tr>\n",
              "      <th>4</th>\n",
              "      <td>4</td>\n",
              "      <td>B0924PSV78</td>\n",
              "      <td>RDP ThinBook 1010 - Intel Celeron Quad Core Pr...</td>\n",
              "      <td>3.4</td>\n",
              "      <td>258</td>\n",
              "      <td>19990</td>\n",
              "      <td>https://m.media-amazon.com/images/I/51C6EHkMQp...</td>\n",
              "      <td>RDP</td>\n",
              "    </tr>\n",
              "  </tbody>\n",
              "</table>\n",
              "</div>"
            ],
            "text/plain": [
              "   Unnamed: 0  ... Brand\n",
              "0           0  ...  ASUS\n",
              "1           1  ...    HP\n",
              "2           2  ...    HP\n",
              "3           3  ...    HP\n",
              "4           4  ...   RDP\n",
              "\n",
              "[5 rows x 8 columns]"
            ]
          },
          "metadata": {},
          "execution_count": 6
        }
      ]
    },
    {
      "cell_type": "code",
      "metadata": {
        "id": "LOpG7E0Qft2B"
      },
      "source": [
        "#test\n",
        "\"\"\"\n",
        "df['Price']=df['Price'].str.replace(',', '')\n",
        "df['Price']=df['Price'].str.replace('₹', '')\n",
        "data=df\n",
        "def get_data_frame(brand,ub,lb,sort):\n",
        "    table = pd.DataFrame(columns = data.columns)\n",
        "    if ub==-1:\n",
        "        table=data.loc[data['Price']>100000]\n",
        "    elif lb>0 and ub>0:\n",
        "        table=data.loc[(data['Price']>lb)&(data['Price']<=ub)]\n",
        "    else:\n",
        "        table=data\n",
        "    if brand!='Any':\n",
        "        table=table.loc[table['Brand']==brand]\n",
        "    if sort=='Price_A':\n",
        "        table=table.nsmallest(5,['Price'])\n",
        "    elif sort=='Price_D':\n",
        "        table=table.nlargest(5,['Price'])\n",
        "    else:\n",
        "        table=table.nlargest(5,[sort])\n",
        "    return table\n",
        "\n",
        "get_data_frame('Any',35000,20000,'Price_D')\n",
        "display=df[['Product_code','Brand','Product_name','Price','Rating','number of reveiws','Images']]\n",
        "display.to_csv('Products.csv')\n",
        "all_data=[]\n",
        "for i in range(display.shape[0]):\n",
        "  all_data.append(dict(display.iloc[i]))\n",
        "print(all_data[1])\n",
        "#display.head()\n",
        "  \"\"\""
      ],
      "execution_count": null,
      "outputs": []
    },
    {
      "cell_type": "code",
      "metadata": {
        "colab": {
          "base_uri": "https://localhost:8080/",
          "height": 492
        },
        "id": "Si6_aXkwFz5J",
        "outputId": "993c78c1-c4e4-41ce-f65a-54db505fb847"
      },
      "source": [
        "data = pd.read_csv('https://raw.githubusercontent.com/DibyaSadhukhan/Amazon_Review_Analysis/main/Data/Top_products.csv')\n",
        "data.head()"
      ],
      "execution_count": null,
      "outputs": [
        {
          "output_type": "execute_result",
          "data": {
            "text/html": [
              "<div>\n",
              "<style scoped>\n",
              "    .dataframe tbody tr th:only-of-type {\n",
              "        vertical-align: middle;\n",
              "    }\n",
              "\n",
              "    .dataframe tbody tr th {\n",
              "        vertical-align: top;\n",
              "    }\n",
              "\n",
              "    .dataframe thead th {\n",
              "        text-align: right;\n",
              "    }\n",
              "</style>\n",
              "<table border=\"1\" class=\"dataframe\">\n",
              "  <thead>\n",
              "    <tr style=\"text-align: right;\">\n",
              "      <th></th>\n",
              "      <th>Unnamed: 0</th>\n",
              "      <th>Product_code</th>\n",
              "      <th>Product_name</th>\n",
              "      <th>Rating</th>\n",
              "      <th>number_of_reveiws</th>\n",
              "      <th>Price</th>\n",
              "      <th>Images</th>\n",
              "      <th>Brand</th>\n",
              "    </tr>\n",
              "  </thead>\n",
              "  <tbody>\n",
              "    <tr>\n",
              "      <th>0</th>\n",
              "      <td>36</td>\n",
              "      <td>B08T6THSMQ</td>\n",
              "      <td>HP 15 (2021) Thin &amp; Light Ryzen 3-3250 Laptop,...</td>\n",
              "      <td>4.2</td>\n",
              "      <td>1679</td>\n",
              "      <td>40999</td>\n",
              "      <td>https://m.media-amazon.com/images/I/71SMr4ZGf1...</td>\n",
              "      <td>HP</td>\n",
              "    </tr>\n",
              "    <tr>\n",
              "      <th>1</th>\n",
              "      <td>35</td>\n",
              "      <td>B08T6SJ215</td>\n",
              "      <td>HP 15 (2021) Thin &amp; Light Ryzen 3-3250 Laptop,...</td>\n",
              "      <td>3.9</td>\n",
              "      <td>1673</td>\n",
              "      <td>36999</td>\n",
              "      <td>https://m.media-amazon.com/images/I/71SMr4ZGf1...</td>\n",
              "      <td>HP</td>\n",
              "    </tr>\n",
              "    <tr>\n",
              "      <th>2</th>\n",
              "      <td>136</td>\n",
              "      <td>B08XNYN5QV</td>\n",
              "      <td>HP 15 (2021) Thin &amp; Light 11th Gen Core i5 Lap...</td>\n",
              "      <td>4.2</td>\n",
              "      <td>1528</td>\n",
              "      <td>43290</td>\n",
              "      <td>https://m.media-amazon.com/images/I/71uOkXZyte...</td>\n",
              "      <td>HP</td>\n",
              "    </tr>\n",
              "    <tr>\n",
              "      <th>3</th>\n",
              "      <td>57</td>\n",
              "      <td>B095JZLDSF</td>\n",
              "      <td>HP 14 (2021) Thin &amp; Light 11th Gen Core i3 Lap...</td>\n",
              "      <td>3.4</td>\n",
              "      <td>1312</td>\n",
              "      <td>41990</td>\n",
              "      <td>https://m.media-amazon.com/images/I/71CiYVzgJs...</td>\n",
              "      <td>HP</td>\n",
              "    </tr>\n",
              "    <tr>\n",
              "      <th>4</th>\n",
              "      <td>30</td>\n",
              "      <td>B08DDYYZ3G</td>\n",
              "      <td>AVITA Essential NE14A2INC433-CR 14\" (35.56cms)...</td>\n",
              "      <td>3.9</td>\n",
              "      <td>1155</td>\n",
              "      <td>37990</td>\n",
              "      <td>https://m.media-amazon.com/images/I/61NsZ6UrfP...</td>\n",
              "      <td>AVITA</td>\n",
              "    </tr>\n",
              "  </tbody>\n",
              "</table>\n",
              "</div>"
            ],
            "text/plain": [
              "   Unnamed: 0  ...  Brand\n",
              "0          36  ...     HP\n",
              "1          35  ...     HP\n",
              "2         136  ...     HP\n",
              "3          57  ...     HP\n",
              "4          30  ...  AVITA\n",
              "\n",
              "[5 rows x 8 columns]"
            ]
          },
          "metadata": {},
          "execution_count": 3
        }
      ]
    },
    {
      "cell_type": "code",
      "metadata": {
        "id": "4wvmm4EmF_ZI"
      },
      "source": [
        "data['Product_name']=data['Product_name'].apply(lambda x : ' '.join(x.split(' ')[:8])+'...')\n"
      ],
      "execution_count": null,
      "outputs": []
    },
    {
      "cell_type": "code",
      "metadata": {
        "id": "EEF0aITPGr7i"
      },
      "source": [
        "data.to_csv('Top_products.csv')"
      ],
      "execution_count": null,
      "outputs": []
    },
    {
      "cell_type": "markdown",
      "metadata": {
        "id": "-4soP2GqiFTO"
      },
      "source": [
        "#Block to extract the laptop details from the details file\n"
      ]
    },
    {
      "cell_type": "code",
      "metadata": {
        "colab": {
          "base_uri": "https://localhost:8080/",
          "height": 528
        },
        "id": "ytkNlulxTEJj",
        "outputId": "73fa7272-e935-44da-c030-42e114ce4517"
      },
      "source": [
        "df=pd.read_csv('/content/gdrive/MyDrive/Laptop_Reveiw/Data/Master_reveiw_2021-11-06.csv')\n",
        "df=df.drop([df.columns[0],df.columns[-3]], axis=1)\n",
        "df['Brand']='Unkown'\n",
        "df['Screen_size']='Unknown'\n",
        "df['RAM']='Unknown'\n",
        "df['Processor']='Unknown'\n",
        "df['Hard_drive']='Unknown'\n",
        "#df['Type']='Unknown'\n",
        "df['all_det']=\"\"\n",
        "df.head()"
      ],
      "execution_count": 13,
      "outputs": [
        {
          "output_type": "execute_result",
          "data": {
            "text/html": [
              "<div>\n",
              "<style scoped>\n",
              "    .dataframe tbody tr th:only-of-type {\n",
              "        vertical-align: middle;\n",
              "    }\n",
              "\n",
              "    .dataframe tbody tr th {\n",
              "        vertical-align: top;\n",
              "    }\n",
              "\n",
              "    .dataframe thead th {\n",
              "        text-align: right;\n",
              "    }\n",
              "</style>\n",
              "<table border=\"1\" class=\"dataframe\">\n",
              "  <thead>\n",
              "    <tr style=\"text-align: right;\">\n",
              "      <th></th>\n",
              "      <th>Product_code</th>\n",
              "      <th>Product_name</th>\n",
              "      <th>Rating</th>\n",
              "      <th>number of reveiws</th>\n",
              "      <th>Price</th>\n",
              "      <th>Images</th>\n",
              "      <th>Link</th>\n",
              "      <th>Reveiw Link</th>\n",
              "      <th>details_file</th>\n",
              "      <th>Brand</th>\n",
              "      <th>Screen_size</th>\n",
              "      <th>RAM</th>\n",
              "      <th>Processor</th>\n",
              "      <th>Hard_drive</th>\n",
              "      <th>all_det</th>\n",
              "    </tr>\n",
              "  </thead>\n",
              "  <tbody>\n",
              "    <tr>\n",
              "      <th>0</th>\n",
              "      <td>B08CKY5XX3</td>\n",
              "      <td>ASUS VivoBook 15 (2020), 39.6 cm HD, Dual Core...</td>\n",
              "      <td>4.1 out of 5 stars</td>\n",
              "      <td>659</td>\n",
              "      <td>₹27,639</td>\n",
              "      <td>https://m.media-amazon.com/images/I/71S8U9VzLT...</td>\n",
              "      <td>https://www.amazon.in/ASUS-VivoBook-Integrated...</td>\n",
              "      <td>https://www.amazon.in/ASUS-VivoBook-Integrated...</td>\n",
              "      <td>/content/gdrive/MyDrive/Amazon_product_Details...</td>\n",
              "      <td>Unkown</td>\n",
              "      <td>Unknown</td>\n",
              "      <td>Unknown</td>\n",
              "      <td>Unknown</td>\n",
              "      <td>Unknown</td>\n",
              "      <td></td>\n",
              "    </tr>\n",
              "    <tr>\n",
              "      <th>1</th>\n",
              "      <td>B095YC11CF</td>\n",
              "      <td>HP 15 10th Gen Intel Core i3 Thin and Light 15...</td>\n",
              "      <td>3.8 out of 5 stars</td>\n",
              "      <td>1511</td>\n",
              "      <td>₹40,990</td>\n",
              "      <td>https://m.media-amazon.com/images/I/81Ne5qKmE8...</td>\n",
              "      <td>https://www.amazon.in/HP-inches-Laptop-Windows...</td>\n",
              "      <td>https://www.amazon.in/HP-inches-Laptop-Windows...</td>\n",
              "      <td>/content/gdrive/MyDrive/Amazon_product_Details...</td>\n",
              "      <td>Unkown</td>\n",
              "      <td>Unknown</td>\n",
              "      <td>Unknown</td>\n",
              "      <td>Unknown</td>\n",
              "      <td>Unknown</td>\n",
              "      <td></td>\n",
              "    </tr>\n",
              "    <tr>\n",
              "      <th>2</th>\n",
              "      <td>B08X4N3DW2</td>\n",
              "      <td>Dell Inspiron 3502 15.6\" (39.62 cms) HD Displa...</td>\n",
              "      <td>4.2 out of 5 stars</td>\n",
              "      <td>276</td>\n",
              "      <td>₹44,125</td>\n",
              "      <td>https://m.media-amazon.com/images/I/51jPUwqQTF...</td>\n",
              "      <td>https://www.amazon.in/Dell-Inspiron-Integrated...</td>\n",
              "      <td>https://www.amazon.in/Dell-Inspiron-Integrated...</td>\n",
              "      <td>/content/gdrive/MyDrive/Amazon_product_Details...</td>\n",
              "      <td>Unkown</td>\n",
              "      <td>Unknown</td>\n",
              "      <td>Unknown</td>\n",
              "      <td>Unknown</td>\n",
              "      <td>Unknown</td>\n",
              "      <td></td>\n",
              "    </tr>\n",
              "    <tr>\n",
              "      <th>3</th>\n",
              "      <td>B09G9ZPV38</td>\n",
              "      <td>Lenovo IdeaPad Slim 1 Intel Celeron N4020 11.6...</td>\n",
              "      <td>3.8 out of 5 stars</td>\n",
              "      <td>92</td>\n",
              "      <td>₹25,990</td>\n",
              "      <td>https://m.media-amazon.com/images/I/61km1VkaCs...</td>\n",
              "      <td>https://www.amazon.in/Lenovo-IdeaPad-Celeron-P...</td>\n",
              "      <td>https://www.amazon.in/Lenovo-IdeaPad-Celeron-P...</td>\n",
              "      <td>/content/gdrive/MyDrive/Amazon_product_Details...</td>\n",
              "      <td>Unkown</td>\n",
              "      <td>Unknown</td>\n",
              "      <td>Unknown</td>\n",
              "      <td>Unknown</td>\n",
              "      <td>Unknown</td>\n",
              "      <td></td>\n",
              "    </tr>\n",
              "    <tr>\n",
              "      <th>4</th>\n",
              "      <td>B0928NL6F3</td>\n",
              "      <td>HP 14 11th Gen Intel Core i5 Processor 14 inch...</td>\n",
              "      <td>4.1 out of 5 stars</td>\n",
              "      <td>417</td>\n",
              "      <td>₹57,990</td>\n",
              "      <td>https://m.media-amazon.com/images/I/71bJqS8ZLT...</td>\n",
              "      <td>https://www.amazon.in/HP-Processor-Windows-Nat...</td>\n",
              "      <td>https://www.amazon.in/HP-Processor-Windows-Nat...</td>\n",
              "      <td>/content/gdrive/MyDrive/Amazon_product_Details...</td>\n",
              "      <td>Unkown</td>\n",
              "      <td>Unknown</td>\n",
              "      <td>Unknown</td>\n",
              "      <td>Unknown</td>\n",
              "      <td>Unknown</td>\n",
              "      <td></td>\n",
              "    </tr>\n",
              "  </tbody>\n",
              "</table>\n",
              "</div>"
            ],
            "text/plain": [
              "  Product_code  ... all_det\n",
              "0   B08CKY5XX3  ...        \n",
              "1   B095YC11CF  ...        \n",
              "2   B08X4N3DW2  ...        \n",
              "3   B09G9ZPV38  ...        \n",
              "4   B0928NL6F3  ...        \n",
              "\n",
              "[5 rows x 15 columns]"
            ]
          },
          "metadata": {},
          "execution_count": 13
        }
      ]
    },
    {
      "cell_type": "code",
      "metadata": {
        "colab": {
          "base_uri": "https://localhost:8080/",
          "height": 626
        },
        "id": "syYTveSNVMDN",
        "outputId": "1f333538-fda9-4b8f-d925-a0dbecf6ae98"
      },
      "source": [
        "details_file=[]\n",
        "for i in range(len(df)):\n",
        "  details_file.append(df.iat[i,-7])\n",
        "#print(details_file)\n",
        "i=0\n",
        "for link in details_file:\n",
        "    f = open(link,\"r\",encoding=\"utf-8\")\n",
        "    a=f.read().split('||')\n",
        "    for det in a:\n",
        "      th=det.split(':')[0]\n",
        "      td=det.split(':')[1:]\n",
        "      if th=='Brand':\n",
        "        df.iat[i,-6]=''.join(td).upper()\n",
        "      elif th=='RAM Size':\n",
        "          df.iat[i,-4]=''.join(td).split(' ')[0].strip()\n",
        "      elif th=='Standing screen display size':\n",
        "        df.iat[i,-5]=''.join(td).split(' ')[0].strip()\n",
        "      elif th=='Processor Type':\n",
        "        df.iat[i,-3]=''.join(td)\n",
        "      elif th=='Hard Disk Description':\n",
        "        df.iat[i,-2]=''.join(td)\n",
        "    f.close()\n",
        "    i+=1\n",
        "df.head(6)"
      ],
      "execution_count": 15,
      "outputs": [
        {
          "output_type": "execute_result",
          "data": {
            "text/html": [
              "<div>\n",
              "<style scoped>\n",
              "    .dataframe tbody tr th:only-of-type {\n",
              "        vertical-align: middle;\n",
              "    }\n",
              "\n",
              "    .dataframe tbody tr th {\n",
              "        vertical-align: top;\n",
              "    }\n",
              "\n",
              "    .dataframe thead th {\n",
              "        text-align: right;\n",
              "    }\n",
              "</style>\n",
              "<table border=\"1\" class=\"dataframe\">\n",
              "  <thead>\n",
              "    <tr style=\"text-align: right;\">\n",
              "      <th></th>\n",
              "      <th>Product_code</th>\n",
              "      <th>Product_name</th>\n",
              "      <th>Rating</th>\n",
              "      <th>number of reveiws</th>\n",
              "      <th>Price</th>\n",
              "      <th>Images</th>\n",
              "      <th>Link</th>\n",
              "      <th>Reveiw Link</th>\n",
              "      <th>details_file</th>\n",
              "      <th>Brand</th>\n",
              "      <th>Screen_size</th>\n",
              "      <th>RAM</th>\n",
              "      <th>Processor</th>\n",
              "      <th>Hard_drive</th>\n",
              "      <th>all_det</th>\n",
              "    </tr>\n",
              "  </thead>\n",
              "  <tbody>\n",
              "    <tr>\n",
              "      <th>0</th>\n",
              "      <td>B08CKY5XX3</td>\n",
              "      <td>ASUS VivoBook 15 (2020), 39.6 cm HD, Dual Core...</td>\n",
              "      <td>4.1 out of 5 stars</td>\n",
              "      <td>659</td>\n",
              "      <td>₹27,639</td>\n",
              "      <td>https://m.media-amazon.com/images/I/71S8U9VzLT...</td>\n",
              "      <td>https://www.amazon.in/ASUS-VivoBook-Integrated...</td>\n",
              "      <td>https://www.amazon.in/ASUS-VivoBook-Integrated...</td>\n",
              "      <td>/content/gdrive/MyDrive/Amazon_product_Details...</td>\n",
              "      <td>‎ASUS</td>\n",
              "      <td>‎15.6</td>\n",
              "      <td>‎4</td>\n",
              "      <td>‎Celeron N4020</td>\n",
              "      <td>‎Solid State Drive</td>\n",
              "      <td></td>\n",
              "    </tr>\n",
              "    <tr>\n",
              "      <th>1</th>\n",
              "      <td>B095YC11CF</td>\n",
              "      <td>HP 15 10th Gen Intel Core i3 Thin and Light 15...</td>\n",
              "      <td>3.8 out of 5 stars</td>\n",
              "      <td>1511</td>\n",
              "      <td>₹40,990</td>\n",
              "      <td>https://m.media-amazon.com/images/I/81Ne5qKmE8...</td>\n",
              "      <td>https://www.amazon.in/HP-inches-Laptop-Windows...</td>\n",
              "      <td>https://www.amazon.in/HP-inches-Laptop-Windows...</td>\n",
              "      <td>/content/gdrive/MyDrive/Amazon_product_Details...</td>\n",
              "      <td>‎HP</td>\n",
              "      <td>‎15.6</td>\n",
              "      <td>‎8</td>\n",
              "      <td>‎Core i3</td>\n",
              "      <td>‎Mechanical Hard Drive</td>\n",
              "      <td></td>\n",
              "    </tr>\n",
              "    <tr>\n",
              "      <th>2</th>\n",
              "      <td>B08X4N3DW2</td>\n",
              "      <td>Dell Inspiron 3502 15.6\" (39.62 cms) HD Displa...</td>\n",
              "      <td>4.2 out of 5 stars</td>\n",
              "      <td>276</td>\n",
              "      <td>₹44,125</td>\n",
              "      <td>https://m.media-amazon.com/images/I/51jPUwqQTF...</td>\n",
              "      <td>https://www.amazon.in/Dell-Inspiron-Integrated...</td>\n",
              "      <td>https://www.amazon.in/Dell-Inspiron-Integrated...</td>\n",
              "      <td>/content/gdrive/MyDrive/Amazon_product_Details...</td>\n",
              "      <td>‎DELL</td>\n",
              "      <td>‎15.6</td>\n",
              "      <td>‎4</td>\n",
              "      <td>‎Pentium Other</td>\n",
              "      <td>‎Solid State Drive</td>\n",
              "      <td></td>\n",
              "    </tr>\n",
              "    <tr>\n",
              "      <th>3</th>\n",
              "      <td>B09G9ZPV38</td>\n",
              "      <td>Lenovo IdeaPad Slim 1 Intel Celeron N4020 11.6...</td>\n",
              "      <td>3.8 out of 5 stars</td>\n",
              "      <td>92</td>\n",
              "      <td>₹25,990</td>\n",
              "      <td>https://m.media-amazon.com/images/I/61km1VkaCs...</td>\n",
              "      <td>https://www.amazon.in/Lenovo-IdeaPad-Celeron-P...</td>\n",
              "      <td>https://www.amazon.in/Lenovo-IdeaPad-Celeron-P...</td>\n",
              "      <td>/content/gdrive/MyDrive/Amazon_product_Details...</td>\n",
              "      <td>‎LENOVO</td>\n",
              "      <td>‎11.6</td>\n",
              "      <td>‎4</td>\n",
              "      <td>‎Celeron N4020</td>\n",
              "      <td>‎SSD</td>\n",
              "      <td></td>\n",
              "    </tr>\n",
              "    <tr>\n",
              "      <th>4</th>\n",
              "      <td>B0928NL6F3</td>\n",
              "      <td>HP 14 11th Gen Intel Core i5 Processor 14 inch...</td>\n",
              "      <td>4.1 out of 5 stars</td>\n",
              "      <td>417</td>\n",
              "      <td>₹57,990</td>\n",
              "      <td>https://m.media-amazon.com/images/I/71bJqS8ZLT...</td>\n",
              "      <td>https://www.amazon.in/HP-Processor-Windows-Nat...</td>\n",
              "      <td>https://www.amazon.in/HP-Processor-Windows-Nat...</td>\n",
              "      <td>/content/gdrive/MyDrive/Amazon_product_Details...</td>\n",
              "      <td>‎HP</td>\n",
              "      <td>‎14</td>\n",
              "      <td>‎8</td>\n",
              "      <td>‎Core i5</td>\n",
              "      <td>‎SSD</td>\n",
              "      <td></td>\n",
              "    </tr>\n",
              "    <tr>\n",
              "      <th>5</th>\n",
              "      <td>B08C5W6PL2</td>\n",
              "      <td>HP Chromebook 14-inch (35.56 cms) Thin &amp; Light...</td>\n",
              "      <td>3.8 out of 5 stars</td>\n",
              "      <td>862</td>\n",
              "      <td>₹26,750</td>\n",
              "      <td>https://m.media-amazon.com/images/I/613WULNEr1...</td>\n",
              "      <td>https://www.amazon.in/HP-Chromebook-14a-na0003...</td>\n",
              "      <td>https://www.amazon.in/HP-Chromebook-14a-na0003...</td>\n",
              "      <td>/content/gdrive/MyDrive/Amazon_product_Details...</td>\n",
              "      <td>‎HP</td>\n",
              "      <td>‎14</td>\n",
              "      <td>‎4</td>\n",
              "      <td>‎Celeron</td>\n",
              "      <td>‎Solid State Drive</td>\n",
              "      <td></td>\n",
              "    </tr>\n",
              "  </tbody>\n",
              "</table>\n",
              "</div>"
            ],
            "text/plain": [
              "  Product_code  ... all_det\n",
              "0   B08CKY5XX3  ...        \n",
              "1   B095YC11CF  ...        \n",
              "2   B08X4N3DW2  ...        \n",
              "3   B09G9ZPV38  ...        \n",
              "4   B0928NL6F3  ...        \n",
              "5   B08C5W6PL2  ...        \n",
              "\n",
              "[6 rows x 15 columns]"
            ]
          },
          "metadata": {},
          "execution_count": 15
        }
      ]
    },
    {
      "cell_type": "code",
      "metadata": {
        "id": "OmwTo45gl08S",
        "colab": {
          "base_uri": "https://localhost:8080/"
        },
        "outputId": "ebe3f624-c088-47b8-b87c-da5403e4c0ab"
      },
      "source": [
        "f = lambda x: 'Unknown' if x=='\\u200e256' or x=='\\u200e128'  else x\n",
        "df['RAM'] = df['RAM'].map(f)\n",
        "df['RAM'].value_counts()\n"
      ],
      "execution_count": 17,
      "outputs": [
        {
          "output_type": "execute_result",
          "data": {
            "text/plain": [
              "‎8         103\n",
              "‎4          51\n",
              "‎16         20\n",
              "Unknown     15\n",
              "Name: RAM, dtype: int64"
            ]
          },
          "metadata": {},
          "execution_count": 17
        }
      ]
    },
    {
      "cell_type": "code",
      "metadata": {
        "colab": {
          "base_uri": "https://localhost:8080/"
        },
        "id": "yCo_X7e8tLwy",
        "outputId": "f56074ae-85ab-43a5-8903-ae121268d3d2"
      },
      "source": [
        "df['Hard_drive'].value_counts()"
      ],
      "execution_count": 20,
      "outputs": [
        {
          "output_type": "execute_result",
          "data": {
            "text/plain": [
              "‎SSD                         93\n",
              "‎HDD                         25\n",
              "‎Mechanical Hard Drive       23\n",
              "‎Solid State Drive           21\n",
              "‎Flash Memory Solid State     7\n",
              "‎SSHD                         6\n",
              "‎Hybrid Drive                 4\n",
              "Unknown                       3\n",
              "‎Solid State Hard Drive       3\n",
              "‎Hybrid                       2\n",
              "‎Mechanical hard drive        1\n",
              "‎SSD + HDD                    1\n",
              "Name: Hard_drive, dtype: int64"
            ]
          },
          "metadata": {},
          "execution_count": 20
        }
      ]
    },
    {
      "cell_type": "code",
      "metadata": {
        "id": "K3lcAHbVR434",
        "colab": {
          "base_uri": "https://localhost:8080/",
          "height": 36
        },
        "outputId": "bef96d99-01ee-46b9-e0c4-79bb9091f104"
      },
      "source": [
        "df['Hard_drive'].iloc[0]"
      ],
      "execution_count": 24,
      "outputs": [
        {
          "output_type": "execute_result",
          "data": {
            "application/vnd.google.colaboratory.intrinsic+json": {
              "type": "string"
            },
            "text/plain": [
              "'\\u200eSolid State Drive'"
            ]
          },
          "metadata": {},
          "execution_count": 24
        }
      ]
    },
    {
      "cell_type": "code",
      "metadata": {
        "colab": {
          "base_uri": "https://localhost:8080/"
        },
        "id": "gbT0jhLzoXAO",
        "outputId": "9291a6d6-7473-477a-92f3-b3f84e817f46"
      },
      "source": [
        "a=str('\\u200e-1')\n",
        "print(a[-2:])"
      ],
      "execution_count": 33,
      "outputs": [
        {
          "output_type": "stream",
          "name": "stdout",
          "text": [
            "-1\n"
          ]
        }
      ]
    },
    {
      "cell_type": "code",
      "metadata": {
        "id": "4Or8Vdh6tbkW"
      },
      "source": [
        ""
      ],
      "execution_count": null,
      "outputs": []
    }
  ]
}