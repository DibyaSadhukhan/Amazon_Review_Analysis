{
  "nbformat": 4,
  "nbformat_minor": 0,
  "metadata": {
    "colab": {
      "name": "Product_data_extraction.ipynb",
      "provenance": [],
      "collapsed_sections": [],
      "authorship_tag": "ABX9TyNTZoHSUGEbZWdYBpyVDFRC",
      "include_colab_link": true
    },
    "kernelspec": {
      "name": "python3",
      "display_name": "Python 3"
    },
    "language_info": {
      "name": "python"
    }
  },
  "cells": [
    {
      "cell_type": "markdown",
      "metadata": {
        "id": "view-in-github",
        "colab_type": "text"
      },
      "source": [
        "<a href=\"https://colab.research.google.com/github/DibyaSadhukhan/Amazon_Review_Analysis/blob/main/Product_data_extraction.ipynb\" target=\"_parent\"><img src=\"https://colab.research.google.com/assets/colab-badge.svg\" alt=\"Open In Colab\"/></a>"
      ]
    },
    {
      "cell_type": "code",
      "metadata": {
        "colab": {
          "base_uri": "https://localhost:8080/"
        },
        "id": "u2Bci5Zfe4wL",
        "outputId": "4cef09d5-bcef-4f94-c3e3-fcbd87c4496c"
      },
      "source": [
        "#mounting the google drive\n",
        "from google.colab import drive\n",
        "drive.mount('/content/gdrive')"
      ],
      "execution_count": null,
      "outputs": [
        {
          "output_type": "stream",
          "name": "stdout",
          "text": [
            "Mounted at /content/gdrive\n"
          ]
        }
      ]
    },
    {
      "cell_type": "code",
      "metadata": {
        "id": "FyfmARwJfiEu"
      },
      "source": [
        "#importing required packages\n",
        "import pandas as pd\n"
      ],
      "execution_count": null,
      "outputs": []
    },
    {
      "cell_type": "markdown",
      "metadata": {
        "id": "RW7I1pUs5FZU"
      },
      "source": [
        "#Extracts the recommended products"
      ]
    },
    {
      "cell_type": "code",
      "metadata": {
        "id": "Qf3tuwcK5JOY"
      },
      "source": [
        "data = pd.read_csv('https://raw.githubusercontent.com/DibyaSadhukhan/Amazon_Review_Analysis/main/Data/Products.csv')\n",
        "data=data.drop(data.columns[0], axis=1)\n",
        "data=data.nlargest(5,['number_of_reveiws','Rating'])\n",
        "data.head(10)\n",
        "data.to_csv('Top_products.csv')"
      ],
      "execution_count": null,
      "outputs": []
    },
    {
      "cell_type": "markdown",
      "metadata": {
        "id": "BflG1OyJfGAB"
      },
      "source": [
        "#Extracts the products for the first page "
      ]
    },
    {
      "cell_type": "code",
      "metadata": {
        "colab": {
          "base_uri": "https://localhost:8080/",
          "height": 304
        },
        "id": "_LVM7zqAfWnU",
        "outputId": "d3130a05-c178-4b2e-bc96-8500a98f48a5"
      },
      "source": [
        "\n",
        "df = pd.read_csv('/content/gdrive/MyDrive/Laptop_Reveiw/Data/Master_reveiw_2021-10-09.csv')\n",
        "#changing the data type of rating column \n",
        "df = df.rename(columns={'number of reveiws': 'number_of_reveiws'})\n",
        "df['Rating']=df['Rating'].apply(lambda x : float(x.split(' ')[0]))\n",
        "df=df.drop(df.columns[[0,-1,-2,-3]], axis=1)\n",
        "#removing duplicate products\n",
        "#df.loc[df['Product_code']=='B08SML9W2R']\n",
        "df=df.drop_duplicates(subset=['Product_code','number_of_reveiws'], keep='first')\n",
        "#print(df['Product_code'].value_counts())\n",
        "f = lambda x: x.split(' ')[1] if x.startswith('(Renewed)') or x.startswith('2020') or x.startswith('Newest')  else x.split(' ')[0]\n",
        "df['Brand'] = df['Product_name'].map(f)\n",
        "df['number_of_reveiws']=df['number_of_reveiws'].astype(int)\n",
        "df['Brand']=df['Brand'].apply(lambda x : x.upper())\n",
        "df['Price']=df['Price'].str.replace(',', '')\n",
        "df['Price']=df['Price'].str.replace('₹', '')\n",
        "df['Price']=df['Price'].astype(int)\n",
        "#df['Renewed'] = list(map(lambda x: x.startswith('(Renewed)'), df['Product_name'])) \n",
        "#df['Brand'].value_counts()\n",
        "\n",
        "df.to_csv('Products.csv')\n",
        "print(len(df))\n",
        "df.head()\n"
      ],
      "execution_count": null,
      "outputs": [
        {
          "output_type": "stream",
          "name": "stdout",
          "text": [
            "206\n"
          ]
        },
        {
          "output_type": "execute_result",
          "data": {
            "text/html": [
              "<div>\n",
              "<style scoped>\n",
              "    .dataframe tbody tr th:only-of-type {\n",
              "        vertical-align: middle;\n",
              "    }\n",
              "\n",
              "    .dataframe tbody tr th {\n",
              "        vertical-align: top;\n",
              "    }\n",
              "\n",
              "    .dataframe thead th {\n",
              "        text-align: right;\n",
              "    }\n",
              "</style>\n",
              "<table border=\"1\" class=\"dataframe\">\n",
              "  <thead>\n",
              "    <tr style=\"text-align: right;\">\n",
              "      <th></th>\n",
              "      <th>Product_code</th>\n",
              "      <th>Product_name</th>\n",
              "      <th>Rating</th>\n",
              "      <th>number_of_reveiws</th>\n",
              "      <th>Price</th>\n",
              "      <th>Images</th>\n",
              "      <th>Brand</th>\n",
              "    </tr>\n",
              "  </thead>\n",
              "  <tbody>\n",
              "    <tr>\n",
              "      <th>0</th>\n",
              "      <td>B097RKZYGS</td>\n",
              "      <td>ASUS VivoBook 14 (2020), 14-inch (35.56 cms) F...</td>\n",
              "      <td>3.9</td>\n",
              "      <td>156</td>\n",
              "      <td>31990</td>\n",
              "      <td>https://m.media-amazon.com/images/I/716bvqzz7P...</td>\n",
              "      <td>ASUS</td>\n",
              "    </tr>\n",
              "    <tr>\n",
              "      <th>1</th>\n",
              "      <td>B08C5W6PL2</td>\n",
              "      <td>HP Chromebook 14-inch (35.56 cms) Thin &amp; Light...</td>\n",
              "      <td>3.9</td>\n",
              "      <td>766</td>\n",
              "      <td>25999</td>\n",
              "      <td>https://m.media-amazon.com/images/I/613WULNEr1...</td>\n",
              "      <td>HP</td>\n",
              "    </tr>\n",
              "    <tr>\n",
              "      <th>2</th>\n",
              "      <td>B08HJYFZ14</td>\n",
              "      <td>HP 15 AMD Athlon 15.6\" (39.62cms) HD Laptop (S...</td>\n",
              "      <td>3.5</td>\n",
              "      <td>483</td>\n",
              "      <td>25999</td>\n",
              "      <td>https://m.media-amazon.com/images/I/61bkuSlKF4...</td>\n",
              "      <td>HP</td>\n",
              "    </tr>\n",
              "    <tr>\n",
              "      <th>3</th>\n",
              "      <td>B08HJZHTM1</td>\n",
              "      <td>HP 15 Intel Pentium Gold 6405U Processor Entry...</td>\n",
              "      <td>3.4</td>\n",
              "      <td>843</td>\n",
              "      <td>25999</td>\n",
              "      <td>https://m.media-amazon.com/images/I/71FB8qoB78...</td>\n",
              "      <td>HP</td>\n",
              "    </tr>\n",
              "    <tr>\n",
              "      <th>4</th>\n",
              "      <td>B0924PSV78</td>\n",
              "      <td>RDP ThinBook 1010 - Intel Celeron Quad Core Pr...</td>\n",
              "      <td>3.4</td>\n",
              "      <td>258</td>\n",
              "      <td>19990</td>\n",
              "      <td>https://m.media-amazon.com/images/I/51C6EHkMQp...</td>\n",
              "      <td>RDP</td>\n",
              "    </tr>\n",
              "  </tbody>\n",
              "</table>\n",
              "</div>"
            ],
            "text/plain": [
              "  Product_code  ... Brand\n",
              "0   B097RKZYGS  ...  ASUS\n",
              "1   B08C5W6PL2  ...    HP\n",
              "2   B08HJYFZ14  ...    HP\n",
              "3   B08HJZHTM1  ...    HP\n",
              "4   B0924PSV78  ...   RDP\n",
              "\n",
              "[5 rows x 7 columns]"
            ]
          },
          "metadata": {},
          "execution_count": 5
        }
      ]
    },
    {
      "cell_type": "code",
      "metadata": {
        "colab": {
          "base_uri": "https://localhost:8080/",
          "height": 304
        },
        "id": "U5YvA4ibgNLD",
        "outputId": "f9c5b4f9-77e1-45c6-b337-84e714bb1348"
      },
      "source": [
        "df = pd.read_csv('Products.csv')\n",
        "df.head()"
      ],
      "execution_count": null,
      "outputs": [
        {
          "output_type": "execute_result",
          "data": {
            "text/html": [
              "<div>\n",
              "<style scoped>\n",
              "    .dataframe tbody tr th:only-of-type {\n",
              "        vertical-align: middle;\n",
              "    }\n",
              "\n",
              "    .dataframe tbody tr th {\n",
              "        vertical-align: top;\n",
              "    }\n",
              "\n",
              "    .dataframe thead th {\n",
              "        text-align: right;\n",
              "    }\n",
              "</style>\n",
              "<table border=\"1\" class=\"dataframe\">\n",
              "  <thead>\n",
              "    <tr style=\"text-align: right;\">\n",
              "      <th></th>\n",
              "      <th>Unnamed: 0</th>\n",
              "      <th>Product_code</th>\n",
              "      <th>Product_name</th>\n",
              "      <th>Rating</th>\n",
              "      <th>number_of_reveiws</th>\n",
              "      <th>Price</th>\n",
              "      <th>Images</th>\n",
              "      <th>Brand</th>\n",
              "    </tr>\n",
              "  </thead>\n",
              "  <tbody>\n",
              "    <tr>\n",
              "      <th>0</th>\n",
              "      <td>0</td>\n",
              "      <td>B097RKZYGS</td>\n",
              "      <td>ASUS VivoBook 14 (2020), 14-inch (35.56 cms) F...</td>\n",
              "      <td>3.9</td>\n",
              "      <td>156</td>\n",
              "      <td>31990</td>\n",
              "      <td>https://m.media-amazon.com/images/I/716bvqzz7P...</td>\n",
              "      <td>ASUS</td>\n",
              "    </tr>\n",
              "    <tr>\n",
              "      <th>1</th>\n",
              "      <td>1</td>\n",
              "      <td>B08C5W6PL2</td>\n",
              "      <td>HP Chromebook 14-inch (35.56 cms) Thin &amp; Light...</td>\n",
              "      <td>3.9</td>\n",
              "      <td>766</td>\n",
              "      <td>25999</td>\n",
              "      <td>https://m.media-amazon.com/images/I/613WULNEr1...</td>\n",
              "      <td>HP</td>\n",
              "    </tr>\n",
              "    <tr>\n",
              "      <th>2</th>\n",
              "      <td>2</td>\n",
              "      <td>B08HJYFZ14</td>\n",
              "      <td>HP 15 AMD Athlon 15.6\" (39.62cms) HD Laptop (S...</td>\n",
              "      <td>3.5</td>\n",
              "      <td>483</td>\n",
              "      <td>25999</td>\n",
              "      <td>https://m.media-amazon.com/images/I/61bkuSlKF4...</td>\n",
              "      <td>HP</td>\n",
              "    </tr>\n",
              "    <tr>\n",
              "      <th>3</th>\n",
              "      <td>3</td>\n",
              "      <td>B08HJZHTM1</td>\n",
              "      <td>HP 15 Intel Pentium Gold 6405U Processor Entry...</td>\n",
              "      <td>3.4</td>\n",
              "      <td>843</td>\n",
              "      <td>25999</td>\n",
              "      <td>https://m.media-amazon.com/images/I/71FB8qoB78...</td>\n",
              "      <td>HP</td>\n",
              "    </tr>\n",
              "    <tr>\n",
              "      <th>4</th>\n",
              "      <td>4</td>\n",
              "      <td>B0924PSV78</td>\n",
              "      <td>RDP ThinBook 1010 - Intel Celeron Quad Core Pr...</td>\n",
              "      <td>3.4</td>\n",
              "      <td>258</td>\n",
              "      <td>19990</td>\n",
              "      <td>https://m.media-amazon.com/images/I/51C6EHkMQp...</td>\n",
              "      <td>RDP</td>\n",
              "    </tr>\n",
              "  </tbody>\n",
              "</table>\n",
              "</div>"
            ],
            "text/plain": [
              "   Unnamed: 0  ... Brand\n",
              "0           0  ...  ASUS\n",
              "1           1  ...    HP\n",
              "2           2  ...    HP\n",
              "3           3  ...    HP\n",
              "4           4  ...   RDP\n",
              "\n",
              "[5 rows x 8 columns]"
            ]
          },
          "metadata": {},
          "execution_count": 6
        }
      ]
    },
    {
      "cell_type": "code",
      "metadata": {
        "id": "LOpG7E0Qft2B"
      },
      "source": [
        "#test\n",
        "\"\"\"\n",
        "df['Price']=df['Price'].str.replace(',', '')\n",
        "df['Price']=df['Price'].str.replace('₹', '')\n",
        "data=df\n",
        "def get_data_frame(brand,ub,lb,sort):\n",
        "    table = pd.DataFrame(columns = data.columns)\n",
        "    if ub==-1:\n",
        "        table=data.loc[data['Price']>100000]\n",
        "    elif lb>0 and ub>0:\n",
        "        table=data.loc[(data['Price']>lb)&(data['Price']<=ub)]\n",
        "    else:\n",
        "        table=data\n",
        "    if brand!='Any':\n",
        "        table=table.loc[table['Brand']==brand]\n",
        "    if sort=='Price_A':\n",
        "        table=table.nsmallest(5,['Price'])\n",
        "    elif sort=='Price_D':\n",
        "        table=table.nlargest(5,['Price'])\n",
        "    else:\n",
        "        table=table.nlargest(5,[sort])\n",
        "    return table\n",
        "\n",
        "get_data_frame('Any',35000,20000,'Price_D')\n",
        "display=df[['Product_code','Brand','Product_name','Price','Rating','number of reveiws','Images']]\n",
        "display.to_csv('Products.csv')\n",
        "all_data=[]\n",
        "for i in range(display.shape[0]):\n",
        "  all_data.append(dict(display.iloc[i]))\n",
        "print(all_data[1])\n",
        "#display.head()\n",
        "  \"\"\""
      ],
      "execution_count": null,
      "outputs": []
    },
    {
      "cell_type": "code",
      "metadata": {
        "colab": {
          "base_uri": "https://localhost:8080/",
          "height": 492
        },
        "id": "Si6_aXkwFz5J",
        "outputId": "993c78c1-c4e4-41ce-f65a-54db505fb847"
      },
      "source": [
        "data = pd.read_csv('https://raw.githubusercontent.com/DibyaSadhukhan/Amazon_Review_Analysis/main/Data/Top_products.csv')\n",
        "data.head()"
      ],
      "execution_count": null,
      "outputs": [
        {
          "output_type": "execute_result",
          "data": {
            "text/html": [
              "<div>\n",
              "<style scoped>\n",
              "    .dataframe tbody tr th:only-of-type {\n",
              "        vertical-align: middle;\n",
              "    }\n",
              "\n",
              "    .dataframe tbody tr th {\n",
              "        vertical-align: top;\n",
              "    }\n",
              "\n",
              "    .dataframe thead th {\n",
              "        text-align: right;\n",
              "    }\n",
              "</style>\n",
              "<table border=\"1\" class=\"dataframe\">\n",
              "  <thead>\n",
              "    <tr style=\"text-align: right;\">\n",
              "      <th></th>\n",
              "      <th>Unnamed: 0</th>\n",
              "      <th>Product_code</th>\n",
              "      <th>Product_name</th>\n",
              "      <th>Rating</th>\n",
              "      <th>number_of_reveiws</th>\n",
              "      <th>Price</th>\n",
              "      <th>Images</th>\n",
              "      <th>Brand</th>\n",
              "    </tr>\n",
              "  </thead>\n",
              "  <tbody>\n",
              "    <tr>\n",
              "      <th>0</th>\n",
              "      <td>36</td>\n",
              "      <td>B08T6THSMQ</td>\n",
              "      <td>HP 15 (2021) Thin &amp; Light Ryzen 3-3250 Laptop,...</td>\n",
              "      <td>4.2</td>\n",
              "      <td>1679</td>\n",
              "      <td>40999</td>\n",
              "      <td>https://m.media-amazon.com/images/I/71SMr4ZGf1...</td>\n",
              "      <td>HP</td>\n",
              "    </tr>\n",
              "    <tr>\n",
              "      <th>1</th>\n",
              "      <td>35</td>\n",
              "      <td>B08T6SJ215</td>\n",
              "      <td>HP 15 (2021) Thin &amp; Light Ryzen 3-3250 Laptop,...</td>\n",
              "      <td>3.9</td>\n",
              "      <td>1673</td>\n",
              "      <td>36999</td>\n",
              "      <td>https://m.media-amazon.com/images/I/71SMr4ZGf1...</td>\n",
              "      <td>HP</td>\n",
              "    </tr>\n",
              "    <tr>\n",
              "      <th>2</th>\n",
              "      <td>136</td>\n",
              "      <td>B08XNYN5QV</td>\n",
              "      <td>HP 15 (2021) Thin &amp; Light 11th Gen Core i5 Lap...</td>\n",
              "      <td>4.2</td>\n",
              "      <td>1528</td>\n",
              "      <td>43290</td>\n",
              "      <td>https://m.media-amazon.com/images/I/71uOkXZyte...</td>\n",
              "      <td>HP</td>\n",
              "    </tr>\n",
              "    <tr>\n",
              "      <th>3</th>\n",
              "      <td>57</td>\n",
              "      <td>B095JZLDSF</td>\n",
              "      <td>HP 14 (2021) Thin &amp; Light 11th Gen Core i3 Lap...</td>\n",
              "      <td>3.4</td>\n",
              "      <td>1312</td>\n",
              "      <td>41990</td>\n",
              "      <td>https://m.media-amazon.com/images/I/71CiYVzgJs...</td>\n",
              "      <td>HP</td>\n",
              "    </tr>\n",
              "    <tr>\n",
              "      <th>4</th>\n",
              "      <td>30</td>\n",
              "      <td>B08DDYYZ3G</td>\n",
              "      <td>AVITA Essential NE14A2INC433-CR 14\" (35.56cms)...</td>\n",
              "      <td>3.9</td>\n",
              "      <td>1155</td>\n",
              "      <td>37990</td>\n",
              "      <td>https://m.media-amazon.com/images/I/61NsZ6UrfP...</td>\n",
              "      <td>AVITA</td>\n",
              "    </tr>\n",
              "  </tbody>\n",
              "</table>\n",
              "</div>"
            ],
            "text/plain": [
              "   Unnamed: 0  ...  Brand\n",
              "0          36  ...     HP\n",
              "1          35  ...     HP\n",
              "2         136  ...     HP\n",
              "3          57  ...     HP\n",
              "4          30  ...  AVITA\n",
              "\n",
              "[5 rows x 8 columns]"
            ]
          },
          "metadata": {},
          "execution_count": 3
        }
      ]
    },
    {
      "cell_type": "code",
      "metadata": {
        "id": "4wvmm4EmF_ZI"
      },
      "source": [
        "data['Product_name']=data['Product_name'].apply(lambda x : ' '.join(x.split(' ')[:8])+'...')\n"
      ],
      "execution_count": null,
      "outputs": []
    },
    {
      "cell_type": "code",
      "metadata": {
        "id": "EEF0aITPGr7i"
      },
      "source": [
        "data.to_csv('Top_products.csv')"
      ],
      "execution_count": null,
      "outputs": []
    },
    {
      "cell_type": "markdown",
      "metadata": {
        "id": "-4soP2GqiFTO"
      },
      "source": [
        "#Block to extract the laptop details from the details file\n"
      ]
    },
    {
      "cell_type": "code",
      "metadata": {
        "colab": {
          "base_uri": "https://localhost:8080/",
          "height": 528
        },
        "id": "ytkNlulxTEJj",
        "outputId": "dc295532-edac-4300-b9d5-115b1b5e5e1d"
      },
      "source": [
        "df=pd.read_csv('/content/gdrive/MyDrive/Laptop_Reveiw/Data/Master_reveiw_2021-11-06.csv')\n",
        "df=df.drop([df.columns[0],df.columns[-3]], axis=1)\n",
        "df['Brand']=None\n",
        "df['Screen_size']=None\n",
        "df['RAM']=None\n",
        "df['Processor']=None\n",
        "df['Hard_drive']=None\n",
        "df['Gaming']=None\n",
        "df['all_det']=None\n",
        "df.head()"
      ],
      "execution_count": 11,
      "outputs": [
        {
          "output_type": "execute_result",
          "data": {
            "text/html": [
              "<div>\n",
              "<style scoped>\n",
              "    .dataframe tbody tr th:only-of-type {\n",
              "        vertical-align: middle;\n",
              "    }\n",
              "\n",
              "    .dataframe tbody tr th {\n",
              "        vertical-align: top;\n",
              "    }\n",
              "\n",
              "    .dataframe thead th {\n",
              "        text-align: right;\n",
              "    }\n",
              "</style>\n",
              "<table border=\"1\" class=\"dataframe\">\n",
              "  <thead>\n",
              "    <tr style=\"text-align: right;\">\n",
              "      <th></th>\n",
              "      <th>Product_code</th>\n",
              "      <th>Product_name</th>\n",
              "      <th>Rating</th>\n",
              "      <th>number of reveiws</th>\n",
              "      <th>Price</th>\n",
              "      <th>Images</th>\n",
              "      <th>Link</th>\n",
              "      <th>Reveiw Link</th>\n",
              "      <th>details_file</th>\n",
              "      <th>Brand</th>\n",
              "      <th>Screen_size</th>\n",
              "      <th>RAM</th>\n",
              "      <th>Processor</th>\n",
              "      <th>Hard_drive</th>\n",
              "      <th>Gaming</th>\n",
              "    </tr>\n",
              "  </thead>\n",
              "  <tbody>\n",
              "    <tr>\n",
              "      <th>0</th>\n",
              "      <td>B08CKY5XX3</td>\n",
              "      <td>ASUS VivoBook 15 (2020), 39.6 cm HD, Dual Core...</td>\n",
              "      <td>4.1 out of 5 stars</td>\n",
              "      <td>659</td>\n",
              "      <td>₹27,639</td>\n",
              "      <td>https://m.media-amazon.com/images/I/71S8U9VzLT...</td>\n",
              "      <td>https://www.amazon.in/ASUS-VivoBook-Integrated...</td>\n",
              "      <td>https://www.amazon.in/ASUS-VivoBook-Integrated...</td>\n",
              "      <td>/content/gdrive/MyDrive/Amazon_product_Details...</td>\n",
              "      <td>None</td>\n",
              "      <td>None</td>\n",
              "      <td>None</td>\n",
              "      <td>None</td>\n",
              "      <td>None</td>\n",
              "      <td>None</td>\n",
              "    </tr>\n",
              "    <tr>\n",
              "      <th>1</th>\n",
              "      <td>B095YC11CF</td>\n",
              "      <td>HP 15 10th Gen Intel Core i3 Thin and Light 15...</td>\n",
              "      <td>3.8 out of 5 stars</td>\n",
              "      <td>1511</td>\n",
              "      <td>₹40,990</td>\n",
              "      <td>https://m.media-amazon.com/images/I/81Ne5qKmE8...</td>\n",
              "      <td>https://www.amazon.in/HP-inches-Laptop-Windows...</td>\n",
              "      <td>https://www.amazon.in/HP-inches-Laptop-Windows...</td>\n",
              "      <td>/content/gdrive/MyDrive/Amazon_product_Details...</td>\n",
              "      <td>None</td>\n",
              "      <td>None</td>\n",
              "      <td>None</td>\n",
              "      <td>None</td>\n",
              "      <td>None</td>\n",
              "      <td>None</td>\n",
              "    </tr>\n",
              "    <tr>\n",
              "      <th>2</th>\n",
              "      <td>B08X4N3DW2</td>\n",
              "      <td>Dell Inspiron 3502 15.6\" (39.62 cms) HD Displa...</td>\n",
              "      <td>4.2 out of 5 stars</td>\n",
              "      <td>276</td>\n",
              "      <td>₹44,125</td>\n",
              "      <td>https://m.media-amazon.com/images/I/51jPUwqQTF...</td>\n",
              "      <td>https://www.amazon.in/Dell-Inspiron-Integrated...</td>\n",
              "      <td>https://www.amazon.in/Dell-Inspiron-Integrated...</td>\n",
              "      <td>/content/gdrive/MyDrive/Amazon_product_Details...</td>\n",
              "      <td>None</td>\n",
              "      <td>None</td>\n",
              "      <td>None</td>\n",
              "      <td>None</td>\n",
              "      <td>None</td>\n",
              "      <td>None</td>\n",
              "    </tr>\n",
              "    <tr>\n",
              "      <th>3</th>\n",
              "      <td>B09G9ZPV38</td>\n",
              "      <td>Lenovo IdeaPad Slim 1 Intel Celeron N4020 11.6...</td>\n",
              "      <td>3.8 out of 5 stars</td>\n",
              "      <td>92</td>\n",
              "      <td>₹25,990</td>\n",
              "      <td>https://m.media-amazon.com/images/I/61km1VkaCs...</td>\n",
              "      <td>https://www.amazon.in/Lenovo-IdeaPad-Celeron-P...</td>\n",
              "      <td>https://www.amazon.in/Lenovo-IdeaPad-Celeron-P...</td>\n",
              "      <td>/content/gdrive/MyDrive/Amazon_product_Details...</td>\n",
              "      <td>None</td>\n",
              "      <td>None</td>\n",
              "      <td>None</td>\n",
              "      <td>None</td>\n",
              "      <td>None</td>\n",
              "      <td>None</td>\n",
              "    </tr>\n",
              "    <tr>\n",
              "      <th>4</th>\n",
              "      <td>B0928NL6F3</td>\n",
              "      <td>HP 14 11th Gen Intel Core i5 Processor 14 inch...</td>\n",
              "      <td>4.1 out of 5 stars</td>\n",
              "      <td>417</td>\n",
              "      <td>₹57,990</td>\n",
              "      <td>https://m.media-amazon.com/images/I/71bJqS8ZLT...</td>\n",
              "      <td>https://www.amazon.in/HP-Processor-Windows-Nat...</td>\n",
              "      <td>https://www.amazon.in/HP-Processor-Windows-Nat...</td>\n",
              "      <td>/content/gdrive/MyDrive/Amazon_product_Details...</td>\n",
              "      <td>None</td>\n",
              "      <td>None</td>\n",
              "      <td>None</td>\n",
              "      <td>None</td>\n",
              "      <td>None</td>\n",
              "      <td>None</td>\n",
              "    </tr>\n",
              "  </tbody>\n",
              "</table>\n",
              "</div>"
            ],
            "text/plain": [
              "  Product_code  ... Gaming\n",
              "0   B08CKY5XX3  ...   None\n",
              "1   B095YC11CF  ...   None\n",
              "2   B08X4N3DW2  ...   None\n",
              "3   B09G9ZPV38  ...   None\n",
              "4   B0928NL6F3  ...   None\n",
              "\n",
              "[5 rows x 15 columns]"
            ]
          },
          "metadata": {},
          "execution_count": 11
        }
      ]
    },
    {
      "cell_type": "code",
      "metadata": {
        "colab": {
          "base_uri": "https://localhost:8080/",
          "height": 127
        },
        "id": "syYTveSNVMDN",
        "outputId": "2f0c1320-700c-4bec-fee0-1e58b0009325"
      },
      "source": [
        "details_file=[]\n",
        "for i in range(len(df)):\n",
        "  details_file.append(df.iat[i,-1])\n",
        "#print(details_file)\n",
        "for link in details_file:\n",
        "  try:\n",
        "    f = open(link,\"r\")\n",
        "    a=f.read().split('||')\n",
        "    for det in a:\n",
        "      th=det.split(':')[0]\n",
        "      td=det.split(':')[1:]\n",
        "      if th=='Brand':\n",
        "        df.iat[]\n",
        "    f.close()\n",
        "  except:\n",
        "    #print(link)\n",
        "    print()\n",
        "reviews.head()\"\"\""
      ],
      "execution_count": 10,
      "outputs": [
        {
          "output_type": "stream",
          "name": "stdout",
          "text": [
            "['/content/gdrive/MyDrive/Amazon_product_Details/B08CKY5XX3.txt', '/content/gdrive/MyDrive/Amazon_product_Details/B095YC11CF.txt', '/content/gdrive/MyDrive/Amazon_product_Details/B08X4N3DW2.txt', '/content/gdrive/MyDrive/Amazon_product_Details/B09G9ZPV38.txt', '/content/gdrive/MyDrive/Amazon_product_Details/B0928NL6F3.txt', '/content/gdrive/MyDrive/Amazon_product_Details/B08C5W6PL2.txt', '/content/gdrive/MyDrive/Amazon_product_Details/B095BYNN8Z.txt', '/content/gdrive/MyDrive/Amazon_product_Details/B08S3MGDS3.txt', '/content/gdrive/MyDrive/Amazon_product_Details/B083RD58F6.txt', '/content/gdrive/MyDrive/Amazon_product_Details/B09G9YCHZ8.txt', '/content/gdrive/MyDrive/Amazon_product_Details/B09CCR7JVV.txt', '/content/gdrive/MyDrive/Amazon_product_Details/B09F3QP9JS.txt', '/content/gdrive/MyDrive/Amazon_product_Details/B08XNZD56X.txt', '/content/gdrive/MyDrive/Amazon_product_Details/B095YC5VH4.txt', '/content/gdrive/MyDrive/Amazon_product_Details/B0924PSV78.txt', '/content/gdrive/MyDrive/Amazon_product_Details/B09DMRQ6XB.txt', '/content/gdrive/MyDrive/Amazon_product_Details/B09FL5CK19.txt', '/content/gdrive/MyDrive/Amazon_product_Details/B09G9ZVCKQ.txt', '/content/gdrive/MyDrive/Amazon_product_Details/B09F3QJG6Z.txt', '/content/gdrive/MyDrive/Amazon_product_Details/B09BCSPX7X.txt', '/content/gdrive/MyDrive/Amazon_product_Details/B099X41XHY.txt', '/content/gdrive/MyDrive/Amazon_product_Details/B098P62W63.txt', '/content/gdrive/MyDrive/Amazon_product_Details/B09FHSCTPF.txt', '/content/gdrive/MyDrive/Amazon_product_Details/B09FHT8219.txt', '/content/gdrive/MyDrive/Amazon_product_Details/B09F9Q17XT.txt', '/content/gdrive/MyDrive/Amazon_product_Details/B09F3QZLB6.txt', '/content/gdrive/MyDrive/Amazon_product_Details/B08DHZS1XQ.txt', '/content/gdrive/MyDrive/Amazon_product_Details/B09HHL3BNR.txt', '/content/gdrive/MyDrive/Amazon_product_Details/B0999BTTKZ.txt', '/content/gdrive/MyDrive/Amazon_product_Details/B09DY8BGSY.txt', '/content/gdrive/MyDrive/Amazon_product_Details/B09FHS18PW.txt', '/content/gdrive/MyDrive/Amazon_product_Details/B08X4PZZMM.txt', '/content/gdrive/MyDrive/Amazon_product_Details/B09C5XN8X7.txt', '/content/gdrive/MyDrive/Amazon_product_Details/B09DMRPV51.txt', '/content/gdrive/MyDrive/Amazon_product_Details/B0979DZ76J.txt', '/content/gdrive/MyDrive/Amazon_product_Details/B09CMMMV11.txt', '/content/gdrive/MyDrive/Amazon_product_Details/B09F3QCGFM.txt', '/content/gdrive/MyDrive/Amazon_product_Details/B08JCDHPGF.txt', '/content/gdrive/MyDrive/Amazon_product_Details/B09D3B7NX9.txt', '/content/gdrive/MyDrive/Amazon_product_Details/B09H7G428M.txt', '/content/gdrive/MyDrive/Amazon_product_Details/B093VZC5X9.txt', '/content/gdrive/MyDrive/Amazon_product_Details/B07N96FWYL.txt', '/content/gdrive/MyDrive/Amazon_product_Details/B07ZD7CBLL.txt', '/content/gdrive/MyDrive/Amazon_product_Details/B09BVVJP7Z.txt', '/content/gdrive/MyDrive/Amazon_product_Details/B01GVVMIPG.txt', '/content/gdrive/MyDrive/Amazon_product_Details/B08X4P6V2M.txt', '/content/gdrive/MyDrive/Amazon_product_Details/B09DL27QLK.txt', '/content/gdrive/MyDrive/Amazon_product_Details/B098XLXDRS.txt', '/content/gdrive/MyDrive/Amazon_product_Details/B09DGDW4Y1.txt', '/content/gdrive/MyDrive/Amazon_product_Details/B09F3Q4CWN.txt', '/content/gdrive/MyDrive/Amazon_product_Details/B09GKWR7RT.txt', '/content/gdrive/MyDrive/Amazon_product_Details/B097T1WN1Y.txt', '/content/gdrive/MyDrive/Amazon_product_Details/B098P1K6W9.txt', '/content/gdrive/MyDrive/Amazon_product_Details/B098QBT5KT.txt', '/content/gdrive/MyDrive/Amazon_product_Details/B08T6SJ215.txt', '/content/gdrive/MyDrive/Amazon_product_Details/B0987S6PG1.txt', '/content/gdrive/MyDrive/Amazon_product_Details/B095JZLDSF.txt', '/content/gdrive/MyDrive/Amazon_product_Details/B095JY5B3F.txt', '/content/gdrive/MyDrive/Amazon_product_Details/B09BF65Z1V.txt', '/content/gdrive/MyDrive/Amazon_product_Details/B09GXZH1XH.txt', '/content/gdrive/MyDrive/Amazon_product_Details/B08JCP96XL.txt', '/content/gdrive/MyDrive/Amazon_product_Details/B09G3CWM3J.txt', '/content/gdrive/MyDrive/Amazon_product_Details/B09DCSJFBJ.txt', '/content/gdrive/MyDrive/Amazon_product_Details/B08N5W4NNB.txt', '/content/gdrive/MyDrive/Amazon_product_Details/B096SKD3V7.txt', '/content/gdrive/MyDrive/Amazon_product_Details/B09BBH562C.txt', '/content/gdrive/MyDrive/Amazon_product_Details/B09CCNMXB1.txt', '/content/gdrive/MyDrive/Amazon_product_Details/B08MQ7QKHJ.txt', '/content/gdrive/MyDrive/Amazon_product_Details/B09F3QKQH6.txt', '/content/gdrive/MyDrive/Amazon_product_Details/B08YRNPTM2.txt', '/content/gdrive/MyDrive/Amazon_product_Details/B07HR5Z6Y1.txt', '/content/gdrive/MyDrive/Amazon_product_Details/B09G9Z32KW.txt', '/content/gdrive/MyDrive/Amazon_product_Details/B09G6VPW6W.txt', '/content/gdrive/MyDrive/Amazon_product_Details/B097SVSX1M.txt', '/content/gdrive/MyDrive/Amazon_product_Details/B096KWK1DB.txt', '/content/gdrive/MyDrive/Amazon_product_Details/B07LB4XRWC.txt', '/content/gdrive/MyDrive/Amazon_product_Details/B094XL5V92.txt', '/content/gdrive/MyDrive/Amazon_product_Details/B09G6XTPB8.txt', '/content/gdrive/MyDrive/Amazon_product_Details/B09F3QNCY3.txt', '/content/gdrive/MyDrive/Amazon_product_Details/B08VRSHJKL.txt', '/content/gdrive/MyDrive/Amazon_product_Details/B089DFJHZ8.txt', '/content/gdrive/MyDrive/Amazon_product_Details/B097SZHHLC.txt', '/content/gdrive/MyDrive/Amazon_product_Details/B095YTYHR7.txt', '/content/gdrive/MyDrive/Amazon_product_Details/B09D9RV2LV.txt', '/content/gdrive/MyDrive/Amazon_product_Details/B09BCSNWC1.txt', '/content/gdrive/MyDrive/Amazon_product_Details/B08DHT9JSK.txt', '/content/gdrive/MyDrive/Amazon_product_Details/B071X5CVWP.txt', '/content/gdrive/MyDrive/Amazon_product_Details/B08TFLKWXN.txt', '/content/gdrive/MyDrive/Amazon_product_Details/B09CCQ2TS5.txt', '/content/gdrive/MyDrive/Amazon_product_Details/B095KSWP98.txt', '/content/gdrive/MyDrive/Amazon_product_Details/B09BCQCDF2.txt', '/content/gdrive/MyDrive/Amazon_product_Details/B09F3NTP1M.txt', '/content/gdrive/MyDrive/Amazon_product_Details/B095224LRK.txt', '/content/gdrive/MyDrive/Amazon_product_Details/B09HXK4BPB.txt', '/content/gdrive/MyDrive/Amazon_product_Details/B099WQP6ZX.txt', '/content/gdrive/MyDrive/Amazon_product_Details/B09BVX13XW.txt', '/content/gdrive/MyDrive/Amazon_product_Details/B098393BRS.txt', '/content/gdrive/MyDrive/Amazon_product_Details/B097TYRFJJ.txt', '/content/gdrive/MyDrive/Amazon_product_Details/B09BRCHW4B.txt', '/content/gdrive/MyDrive/Amazon_product_Details/B09HYYCV94.txt', '/content/gdrive/MyDrive/Amazon_product_Details/B09GVZKD46.txt', '/content/gdrive/MyDrive/Amazon_product_Details/B097C2BRKJ.txt', '/content/gdrive/MyDrive/Amazon_product_Details/B087D2TWRD.txt', '/content/gdrive/MyDrive/Amazon_product_Details/B09GB9Q79B.txt', '/content/gdrive/MyDrive/Amazon_product_Details/B09F3QDFQQ.txt', '/content/gdrive/MyDrive/Amazon_product_Details/B097SZMNQH.txt', '/content/gdrive/MyDrive/Amazon_product_Details/B07N95H32F.txt', '/content/gdrive/MyDrive/Amazon_product_Details/B09HXL97FM.txt', '/content/gdrive/MyDrive/Amazon_product_Details/B097SYQL3M.txt', '/content/gdrive/MyDrive/Amazon_product_Details/B09CCQ453Z.txt', '/content/gdrive/MyDrive/Amazon_product_Details/B09F3Q53LZ.txt', '/content/gdrive/MyDrive/Amazon_product_Details/B09GW2F4XV.txt', '/content/gdrive/MyDrive/Amazon_product_Details/B09JC1M1KY.txt', '/content/gdrive/MyDrive/Amazon_product_Details/B09FHSQTK4.txt', '/content/gdrive/MyDrive/Amazon_product_Details/B09CCXCF7S.txt', '/content/gdrive/MyDrive/Amazon_product_Details/B099X7YBDL.txt', '/content/gdrive/MyDrive/Amazon_product_Details/B095KPHGYQ.txt', '/content/gdrive/MyDrive/Amazon_product_Details/B099ZZDCFL.txt', '/content/gdrive/MyDrive/Amazon_product_Details/B09F3NGT33.txt', '/content/gdrive/MyDrive/Amazon_product_Details/B08P3M22QQ.txt', '/content/gdrive/MyDrive/Amazon_product_Details/B08YRNVXN1.txt', '/content/gdrive/MyDrive/Amazon_product_Details/B09G3CQXSD.txt', '/content/gdrive/MyDrive/Amazon_product_Details/B09C5WY7BM.txt', '/content/gdrive/MyDrive/Amazon_product_Details/B09C2G5Z6D.txt', '/content/gdrive/MyDrive/Amazon_product_Details/B08G24RGKS.txt', '/content/gdrive/MyDrive/Amazon_product_Details/B09F3R7ZJ6.txt', '/content/gdrive/MyDrive/Amazon_product_Details/B08HJZHTM1.txt', '/content/gdrive/MyDrive/Amazon_product_Details/B0999C3WM9.txt', '/content/gdrive/MyDrive/Amazon_product_Details/B08DDZLCQF.txt', '/content/gdrive/MyDrive/Amazon_product_Details/B096SHMYJJ.txt', '/content/gdrive/MyDrive/Amazon_product_Details/B09GPB1ZS8.txt', '/content/gdrive/MyDrive/Amazon_product_Details/B098FK9KQ2.txt', '/content/gdrive/MyDrive/Amazon_product_Details/B0916C2XM3.txt', '/content/gdrive/MyDrive/Amazon_product_Details/B099ZZX3QW.txt', '/content/gdrive/MyDrive/Amazon_product_Details/B091N715Q8.txt', '/content/gdrive/MyDrive/Amazon_product_Details/B09GVRXZVP.txt', '/content/gdrive/MyDrive/Amazon_product_Details/B09BYZ5H4G.txt', '/content/gdrive/MyDrive/Amazon_product_Details/B092QWM5ZJ.txt', '/content/gdrive/MyDrive/Amazon_product_Details/B09GB44SLV.txt', '/content/gdrive/MyDrive/Amazon_product_Details/B0919HLGYC.txt', '/content/gdrive/MyDrive/Amazon_product_Details/B09BVCQYRG.txt', '/content/gdrive/MyDrive/Amazon_product_Details/B09CH8MY6V.txt', '/content/gdrive/MyDrive/Amazon_product_Details/B09H4VM8QR.txt', '/content/gdrive/MyDrive/Amazon_product_Details/B08TQQ4ZHM.txt', '/content/gdrive/MyDrive/Amazon_product_Details/B09C8RD7BM.txt', '/content/gdrive/MyDrive/Amazon_product_Details/B098F7RXYR.txt', '/content/gdrive/MyDrive/Amazon_product_Details/B09F3PKJ3K.txt', '/content/gdrive/MyDrive/Amazon_product_Details/B096VHX239.txt', '/content/gdrive/MyDrive/Amazon_product_Details/B09GB5Q69L.txt', '/content/gdrive/MyDrive/Amazon_product_Details/B099ZHBLMD.txt', '/content/gdrive/MyDrive/Amazon_product_Details/B08WHML7F1.txt', '/content/gdrive/MyDrive/Amazon_product_Details/B093L9SYZP.txt', '/content/gdrive/MyDrive/Amazon_product_Details/B095S8HPMY.txt', '/content/gdrive/MyDrive/Amazon_product_Details/B08PV3L6WR.txt', '/content/gdrive/MyDrive/Amazon_product_Details/B0972R7ZK2.txt', '/content/gdrive/MyDrive/Amazon_product_Details/B08P7M9Y59.txt', '/content/gdrive/MyDrive/Amazon_product_Details/B09CDGQ4GS.txt', '/content/gdrive/MyDrive/Amazon_product_Details/B09GT8LPPH.txt', '/content/gdrive/MyDrive/Amazon_product_Details/B098F4MWDG.txt', '/content/gdrive/MyDrive/Amazon_product_Details/B08RXZCXH6.txt', '/content/gdrive/MyDrive/Amazon_product_Details/B09F3Q93T1.txt', '/content/gdrive/MyDrive/Amazon_product_Details/B0928TPR8H.txt', '/content/gdrive/MyDrive/Amazon_product_Details/B08CXSLPTZ.txt', '/content/gdrive/MyDrive/Amazon_product_Details/B091FH823X.txt', '/content/gdrive/MyDrive/Amazon_product_Details/B08P3LX5BQ.txt', '/content/gdrive/MyDrive/Amazon_product_Details/B079JBV68W.txt', '/content/gdrive/MyDrive/Amazon_product_Details/B08JLR7LPQ.txt', '/content/gdrive/MyDrive/Amazon_product_Details/B096W2249V.txt', '/content/gdrive/MyDrive/Amazon_product_Details/B088CDKJ7V.txt', '/content/gdrive/MyDrive/Amazon_product_Details/B09839P9XB.txt', '/content/gdrive/MyDrive/Amazon_product_Details/B097TY6PTN.txt', '/content/gdrive/MyDrive/Amazon_product_Details/B09DMYZW5Q.txt', '/content/gdrive/MyDrive/Amazon_product_Details/B095SBXKLW.txt', '/content/gdrive/MyDrive/Amazon_product_Details/B08MB4PXCW.txt', '/content/gdrive/MyDrive/Amazon_product_Details/B09GB3T73N.txt', '/content/gdrive/MyDrive/Amazon_product_Details/B08HJJKDSH.txt', '/content/gdrive/MyDrive/Amazon_product_Details/B08G5M5WTG.txt', '/content/gdrive/MyDrive/Amazon_product_Details/B09FHRD42L.txt', '/content/gdrive/MyDrive/Amazon_product_Details/B09GB2N7M7.txt', '/content/gdrive/MyDrive/Amazon_product_Details/B09HMZHKQF.txt', '/content/gdrive/MyDrive/Amazon_product_Details/B09CD4FRNX.txt', '/content/gdrive/MyDrive/Amazon_product_Details/B09G39QZZW.txt', '/content/gdrive/MyDrive/Amazon_product_Details/B08TX1NHB8.txt', '/content/gdrive/MyDrive/Amazon_product_Details/B09B3Z23L8.txt', '/content/gdrive/MyDrive/Amazon_product_Details/B09BR7574Z.txt', '/content/gdrive/MyDrive/Amazon_product_Details/B0979M4T4X.txt', '/content/gdrive/MyDrive/Amazon_product_Details/B08XBZBFCQ.txt', '/content/gdrive/MyDrive/Amazon_product_Details/B09H4V36YP.txt', '/content/gdrive/MyDrive/Amazon_product_Details/B09F3S4QRZ.txt']\n"
          ]
        },
        {
          "output_type": "execute_result",
          "data": {
            "application/vnd.google.colaboratory.intrinsic+json": {
              "type": "string"
            },
            "text/plain": [
              "'for link in review_file:\\n  try:\\n    filename=link.split(\\'/\\')[3]\\n    f = open(\\'/content/gdrive/MyDrive/Amazon_product_Reveiws/\\'+filename+\\'.txt\\',\"r\")\\n    a=f.read().split(\\'||\\')\\n    for rev in a:\\n      name=rev.split(\\'\\',\\')[0]\\n      try:\\n        rating=rev.split(\\'\\',\\')[1]\\n      except:\\n        rating=\"\"\\n      try:\\n        reveiwTitle=rev.split(\\'\\',\\')[-2]\\n      except:\\n        reveiwTitle=\"\"\\n      comment=rev.split(\\'\\',\\')[-1]\\n      reviews = reviews.append({\\'Product_code\\' : link.split(\\'/\\')[5] , \\'Product_name\\' : link.split(\\'/\\')[3] , \\'Customer_name\\' : name.split(\\'\\'\\')[-1] , \\'rating\\' : rating[2:], \\'review_title\\' : reveiwTitle[2:], \\'review_text\\': comment[2:-2] }, ignore_index = True)\\n    f.close()\\n  except:\\n    #print(link)\\n    print()\\nreviews.head()'"
            ]
          },
          "metadata": {},
          "execution_count": 10
        }
      ]
    },
    {
      "cell_type": "code",
      "metadata": {
        "id": "OZv-f5cfie_A",
        "colab": {
          "base_uri": "https://localhost:8080/"
        },
        "outputId": "35aa4164-784f-49da-ae12-ddc223a828e4"
      },
      "source": [
        "data = pd.read_csv('https://raw.githubusercontent.com/DibyaSadhukhan/Amazon_Review_Analysis/main/Data/Master_df.csv')\n",
        "#code=request.GET['code']\n",
        "data=data.drop(data.columns[0], axis=1)\n",
        "code='B09F3VKNWB'\n",
        "det=data.loc[data['Product_code']==code]\n",
        "del data\n",
        "try:\n",
        "    det['rev_rat_dist']=det['rev_rat_dist'].apply(lambda x: x.split(' '))\n",
        "    det['rev_tone_dist']=det['rev_tone_dist'].apply(lambda x: x.split(' '))\n",
        "    det.iat[0,-2]=[int(ele) for ele in det.iloc[0]['rev_rat_dist']]\n",
        "    det.iat[0,-1]=[int(ele) for ele in det.iloc[0]['rev_tone_dist']]\n",
        "except:\n",
        "    det['rev_tone_dist']=None\n",
        "    det['rev_rat_dist']=None\n",
        "det=dict(det.iloc[0])\n",
        "print(det)"
      ],
      "execution_count": null,
      "outputs": [
        {
          "output_type": "stream",
          "name": "stdout",
          "text": [
            "{'Product_code': 'B09F3VKNWB', 'Product_name': '(Renewed) HP ProBook 640 G1 14-inch Laptop (Core i5 4th Gen/8GB Ram (Upgradable to 16Gb )/500gb Hdd /Windows 10 Pro/ 4 GB Intel HD Graphics,Wifi, Webcam) ( 6 Months Onsite Warranty )  ', 'Rating': 5.0, 'number_of_reveiws': 1, 'Price': '₹28,999', 'Images': 'https://m.media-amazon.com/images/I/61Oa2SVfjWL._AC_UY218_.jpg', 'Link': 'https://www.amazon.in/HP-640-Upgradable-Graphics-Warranty/dp/B09F3VKNWB/ref=sr_1_29?dchild=1&keywords=laptop&qid=1632408228&sr=8-29', 'Reveiw Link': 'https://www.amazon.in/HP-640-Upgradable-Graphics-Warranty/product-reviews/B09F3VKNWB/ref=cm_cr_dp_d_show_all_btm?ie=UTF8&reviewerType=all_reviews', 'Avg_rev_rating': 0.0, 'rev_rat_dist': None, 'rev_tone_dist': None}\n"
          ]
        }
      ]
    },
    {
      "cell_type": "code",
      "metadata": {
        "id": "OmwTo45gl08S"
      },
      "source": [
        ""
      ],
      "execution_count": null,
      "outputs": []
    },
    {
      "cell_type": "code",
      "metadata": {
        "id": "K3lcAHbVR434"
      },
      "source": [
        ""
      ],
      "execution_count": null,
      "outputs": []
    }
  ]
}